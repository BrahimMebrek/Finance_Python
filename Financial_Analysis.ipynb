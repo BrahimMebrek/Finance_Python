{
 "cells": [
  {
   "cell_type": "markdown",
   "metadata": {},
   "source": [
    "# Financial Analysis "
   ]
  },
  {
   "cell_type": "markdown",
   "metadata": {},
   "source": [
    "This notebook contains :\n",
    "- An automation of the financial data gathering process using the **Financial Modeling Prep API**.\n",
    "- An example of the financial analysis of **....** through a Waterfall Chart."
   ]
  },
  {
   "cell_type": "markdown",
   "metadata": {},
   "source": [
    "### Ressources\n",
    "- Financial Modeling Prep API Documentation : https://financialmodelingprep.com/developer/docs/ \n",
    "- Plotly financial charts : https://plotly.com/python/financial-charts/"
   ]
  },
  {
   "cell_type": "markdown",
   "metadata": {},
   "source": [
    "## 1 Data Gathering and Preparation"
   ]
  },
  {
   "cell_type": "markdown",
   "metadata": {},
   "source": [
    "### 1.1 Loading modules"
   ]
  },
  {
   "cell_type": "code",
   "execution_count": 327,
   "metadata": {},
   "outputs": [],
   "source": [
    "import numpy as np  # Scientific computing\n",
    "import pandas as pd # Data analysis and manipulation\n",
    "\n",
    "from datetime import datetime # Dates and times manipulations\n",
    "\n",
    "import requests # Send HTTP requests easily\n",
    "\n",
    "import plotly.graph_objects as go # Graphing library for interactive, publication-quality graphs\n",
    "                                  # pip install plotly==4.5.4"
   ]
  },
  {
   "cell_type": "markdown",
   "metadata": {},
   "source": [
    "## 2 Gathering the financial data using the Financial Modeling Prep API"
   ]
  },
  {
   "cell_type": "code",
   "execution_count": 329,
   "metadata": {},
   "outputs": [],
   "source": [
    "# Creating a function to get the financial data by specifying the Ticker and the Company Valuation\n",
    "def get_financials(ticker, company_valuation):\n",
    "    \n",
    "    # Sending an HTTP request to the Financial Modeling Prep API and convert it to a json() file \n",
    "    resp = requests.get('https://financialmodelingprep.com/api/v3/financials/{}/{}?period=quarter'.format(company_valuation, ticker)).json()\n",
    "    \n",
    "    # Extracting the financials (Dropping the symbol key)\n",
    "    financials = resp['financials']\n",
    "    \n",
    "    # Setting up the diplay format of the floats in the pandas dataframes\n",
    "    pd.options.display.float_format = '{:,}'.format\n",
    "    \n",
    "    # Creating the data frame using pandas from_dict() function\n",
    "    df = pd.DataFrame.from_dict(financials)\n",
    "    \n",
    "    # Converting the 'date' column to a datetime type using datetime\n",
    "    df['date'] = pd.to_datetime(df['date'])\n",
    "\n",
    "    # Setting the index to 'date'\n",
    "    df.set_index('date', inplace = True)\n",
    "\n",
    "    # Converting the columns into Numeric values\n",
    "    df = df.apply(pd.to_numeric, errors = 'coerce')\n",
    "    \n",
    "    return df"
   ]
  },
  {
   "cell_type": "code",
   "execution_count": 331,
   "metadata": {},
   "outputs": [
    {
     "data": {
      "text/html": [
       "<div>\n",
       "<style scoped>\n",
       "    .dataframe tbody tr th:only-of-type {\n",
       "        vertical-align: middle;\n",
       "    }\n",
       "\n",
       "    .dataframe tbody tr th {\n",
       "        vertical-align: top;\n",
       "    }\n",
       "\n",
       "    .dataframe thead th {\n",
       "        text-align: right;\n",
       "    }\n",
       "</style>\n",
       "<table border=\"1\" class=\"dataframe\">\n",
       "  <thead>\n",
       "    <tr style=\"text-align: right;\">\n",
       "      <th></th>\n",
       "      <th>Revenue</th>\n",
       "      <th>Revenue Growth</th>\n",
       "      <th>Cost of Revenue</th>\n",
       "      <th>Gross Profit</th>\n",
       "      <th>R&amp;D Expenses</th>\n",
       "      <th>SG&amp;A Expense</th>\n",
       "      <th>Operating Expenses</th>\n",
       "      <th>Operating Income</th>\n",
       "      <th>Interest Expense</th>\n",
       "      <th>Earnings before Tax</th>\n",
       "      <th>...</th>\n",
       "      <th>Gross Margin</th>\n",
       "      <th>EBITDA Margin</th>\n",
       "      <th>EBIT Margin</th>\n",
       "      <th>Profit Margin</th>\n",
       "      <th>Free Cash Flow margin</th>\n",
       "      <th>EBITDA</th>\n",
       "      <th>EBIT</th>\n",
       "      <th>Consolidated Income</th>\n",
       "      <th>Earnings Before Tax Margin</th>\n",
       "      <th>Net Profit Margin</th>\n",
       "    </tr>\n",
       "    <tr>\n",
       "      <th>date</th>\n",
       "      <th></th>\n",
       "      <th></th>\n",
       "      <th></th>\n",
       "      <th></th>\n",
       "      <th></th>\n",
       "      <th></th>\n",
       "      <th></th>\n",
       "      <th></th>\n",
       "      <th></th>\n",
       "      <th></th>\n",
       "      <th></th>\n",
       "      <th></th>\n",
       "      <th></th>\n",
       "      <th></th>\n",
       "      <th></th>\n",
       "      <th></th>\n",
       "      <th></th>\n",
       "      <th></th>\n",
       "      <th></th>\n",
       "      <th></th>\n",
       "      <th></th>\n",
       "    </tr>\n",
       "  </thead>\n",
       "  <tbody>\n",
       "    <tr>\n",
       "      <td>2019-12-28</td>\n",
       "      <td>91,819,000,000.0</td>\n",
       "      <td>0.433775765147</td>\n",
       "      <td>56,602,000,000.0</td>\n",
       "      <td>35,217,000,000.0</td>\n",
       "      <td>4,451,000,000.0</td>\n",
       "      <td>5,197,000,000.0</td>\n",
       "      <td>9,648,000,000.0</td>\n",
       "      <td>25,569,000,000.0</td>\n",
       "      <td>785,000,000.0</td>\n",
       "      <td>25,918,000,000.0</td>\n",
       "      <td>...</td>\n",
       "      <td>0.38354806739299996</td>\n",
       "      <td>0.309140809636</td>\n",
       "      <td>0.27847177599399997</td>\n",
       "      <td>0.24217209945700002</td>\n",
       "      <td>0.309402193446</td>\n",
       "      <td>28,385,000,000.0</td>\n",
       "      <td>25,569,000,000.0</td>\n",
       "      <td>22,236,000,000.0</td>\n",
       "      <td>0.282272732223</td>\n",
       "      <td>0.24217209945700002</td>\n",
       "    </tr>\n",
       "    <tr>\n",
       "      <td>2019-09-28</td>\n",
       "      <td>64,040,000,000.0</td>\n",
       "      <td>0.190135479195</td>\n",
       "      <td>39,727,000,000.0</td>\n",
       "      <td>24,313,000,000.0</td>\n",
       "      <td>4,110,000,000.0</td>\n",
       "      <td>4,578,000,000.0</td>\n",
       "      <td>8,688,000,000.0</td>\n",
       "      <td>15,625,000,000.0</td>\n",
       "      <td>810,000,000.0</td>\n",
       "      <td>16,127,000,000.0</td>\n",
       "      <td>...</td>\n",
       "      <td>0.379653341661</td>\n",
       "      <td>0.293628981886</td>\n",
       "      <td>0.24398813241700001</td>\n",
       "      <td>0.213710181137</td>\n",
       "      <td>0.267535915053</td>\n",
       "      <td>18,804,000,000.0</td>\n",
       "      <td>15,625,000,000.0</td>\n",
       "      <td>13,686,000,000.0</td>\n",
       "      <td>0.251826983136</td>\n",
       "      <td>0.213710181137</td>\n",
       "    </tr>\n",
       "    <tr>\n",
       "      <td>2019-06-29</td>\n",
       "      <td>53,809,000,000.0</td>\n",
       "      <td>-0.0724984917694</td>\n",
       "      <td>33,582,000,000.0</td>\n",
       "      <td>20,227,000,000.0</td>\n",
       "      <td>4,257,000,000.0</td>\n",
       "      <td>4,426,000,000.0</td>\n",
       "      <td>8,683,000,000.0</td>\n",
       "      <td>11,544,000,000.0</td>\n",
       "      <td>866,000,000.0</td>\n",
       "      <td>11,911,000,000.0</td>\n",
       "      <td>...</td>\n",
       "      <td>0.375903659239</td>\n",
       "      <td>0.269044211935</td>\n",
       "      <td>0.21453660168400002</td>\n",
       "      <td>0.186660224126</td>\n",
       "      <td>0.17907784943</td>\n",
       "      <td>14,477,000,000.0</td>\n",
       "      <td>11,544,000,000.0</td>\n",
       "      <td>10,044,000,000.0</td>\n",
       "      <td>0.22135702206</td>\n",
       "      <td>0.186660224126</td>\n",
       "    </tr>\n",
       "    <tr>\n",
       "      <td>2019-03-30</td>\n",
       "      <td>58,015,000,000.0</td>\n",
       "      <td>-0.311884711185</td>\n",
       "      <td>36,194,000,000.0</td>\n",
       "      <td>21,821,000,000.0</td>\n",
       "      <td>3,948,000,000.0</td>\n",
       "      <td>4,458,000,000.0</td>\n",
       "      <td>8,406,000,000.0</td>\n",
       "      <td>13,415,000,000.0</td>\n",
       "      <td>1,010,000,000.0</td>\n",
       "      <td>13,793,000,000.0</td>\n",
       "      <td>...</td>\n",
       "      <td>0.376126863742</td>\n",
       "      <td>0.283633543049</td>\n",
       "      <td>0.231233301732</td>\n",
       "      <td>0.199276049298</td>\n",
       "      <td>0.151547013703</td>\n",
       "      <td>16,455,000,000.0</td>\n",
       "      <td>13,415,000,000.0</td>\n",
       "      <td>11,561,000,000.0</td>\n",
       "      <td>0.23774885805399998</td>\n",
       "      <td>0.199276049298</td>\n",
       "    </tr>\n",
       "    <tr>\n",
       "      <td>2018-12-29</td>\n",
       "      <td>84,310,000,000.0</td>\n",
       "      <td>0.340381558029</td>\n",
       "      <td>52,279,000,000.0</td>\n",
       "      <td>32,031,000,000.0</td>\n",
       "      <td>3,902,000,000.0</td>\n",
       "      <td>4,783,000,000.0</td>\n",
       "      <td>8,685,000,000.0</td>\n",
       "      <td>23,346,000,000.0</td>\n",
       "      <td>890,000,000.0</td>\n",
       "      <td>23,906,000,000.0</td>\n",
       "      <td>...</td>\n",
       "      <td>0.379919345273</td>\n",
       "      <td>0.31717471237100003</td>\n",
       "      <td>0.27690665401500003</td>\n",
       "      <td>0.236804649508</td>\n",
       "      <td>0.276776183134</td>\n",
       "      <td>26,741,000,000.0</td>\n",
       "      <td>23,346,000,000.0</td>\n",
       "      <td>19,965,000,000.0</td>\n",
       "      <td>0.283548807971</td>\n",
       "      <td>0.236804649508</td>\n",
       "    </tr>\n",
       "  </tbody>\n",
       "</table>\n",
       "<p>5 rows × 31 columns</p>\n",
       "</div>"
      ],
      "text/plain": [
       "                    Revenue   Revenue Growth  Cost of Revenue  \\\n",
       "date                                                            \n",
       "2019-12-28 91,819,000,000.0   0.433775765147 56,602,000,000.0   \n",
       "2019-09-28 64,040,000,000.0   0.190135479195 39,727,000,000.0   \n",
       "2019-06-29 53,809,000,000.0 -0.0724984917694 33,582,000,000.0   \n",
       "2019-03-30 58,015,000,000.0  -0.311884711185 36,194,000,000.0   \n",
       "2018-12-29 84,310,000,000.0   0.340381558029 52,279,000,000.0   \n",
       "\n",
       "               Gross Profit    R&D Expenses    SG&A Expense  \\\n",
       "date                                                          \n",
       "2019-12-28 35,217,000,000.0 4,451,000,000.0 5,197,000,000.0   \n",
       "2019-09-28 24,313,000,000.0 4,110,000,000.0 4,578,000,000.0   \n",
       "2019-06-29 20,227,000,000.0 4,257,000,000.0 4,426,000,000.0   \n",
       "2019-03-30 21,821,000,000.0 3,948,000,000.0 4,458,000,000.0   \n",
       "2018-12-29 32,031,000,000.0 3,902,000,000.0 4,783,000,000.0   \n",
       "\n",
       "            Operating Expenses  Operating Income  Interest Expense  \\\n",
       "date                                                                 \n",
       "2019-12-28     9,648,000,000.0  25,569,000,000.0     785,000,000.0   \n",
       "2019-09-28     8,688,000,000.0  15,625,000,000.0     810,000,000.0   \n",
       "2019-06-29     8,683,000,000.0  11,544,000,000.0     866,000,000.0   \n",
       "2019-03-30     8,406,000,000.0  13,415,000,000.0   1,010,000,000.0   \n",
       "2018-12-29     8,685,000,000.0  23,346,000,000.0     890,000,000.0   \n",
       "\n",
       "            Earnings before Tax  ...        Gross Margin       EBITDA Margin  \\\n",
       "date                             ...                                           \n",
       "2019-12-28     25,918,000,000.0  ... 0.38354806739299996      0.309140809636   \n",
       "2019-09-28     16,127,000,000.0  ...      0.379653341661      0.293628981886   \n",
       "2019-06-29     11,911,000,000.0  ...      0.375903659239      0.269044211935   \n",
       "2019-03-30     13,793,000,000.0  ...      0.376126863742      0.283633543049   \n",
       "2018-12-29     23,906,000,000.0  ...      0.379919345273 0.31717471237100003   \n",
       "\n",
       "                   EBIT Margin       Profit Margin  Free Cash Flow margin  \\\n",
       "date                                                                        \n",
       "2019-12-28 0.27847177599399997 0.24217209945700002         0.309402193446   \n",
       "2019-09-28 0.24398813241700001      0.213710181137         0.267535915053   \n",
       "2019-06-29 0.21453660168400002      0.186660224126          0.17907784943   \n",
       "2019-03-30      0.231233301732      0.199276049298         0.151547013703   \n",
       "2018-12-29 0.27690665401500003      0.236804649508         0.276776183134   \n",
       "\n",
       "                     EBITDA             EBIT  Consolidated Income  \\\n",
       "date                                                                \n",
       "2019-12-28 28,385,000,000.0 25,569,000,000.0     22,236,000,000.0   \n",
       "2019-09-28 18,804,000,000.0 15,625,000,000.0     13,686,000,000.0   \n",
       "2019-06-29 14,477,000,000.0 11,544,000,000.0     10,044,000,000.0   \n",
       "2019-03-30 16,455,000,000.0 13,415,000,000.0     11,561,000,000.0   \n",
       "2018-12-29 26,741,000,000.0 23,346,000,000.0     19,965,000,000.0   \n",
       "\n",
       "            Earnings Before Tax Margin   Net Profit Margin  \n",
       "date                                                        \n",
       "2019-12-28              0.282272732223 0.24217209945700002  \n",
       "2019-09-28              0.251826983136      0.213710181137  \n",
       "2019-06-29               0.22135702206      0.186660224126  \n",
       "2019-03-30         0.23774885805399998      0.199276049298  \n",
       "2018-12-29              0.283548807971      0.236804649508  \n",
       "\n",
       "[5 rows x 31 columns]"
      ]
     },
     "execution_count": 331,
     "metadata": {},
     "output_type": "execute_result"
    }
   ],
   "source": [
    "ticker = 'AAPL'\n",
    "company_valuation = 'income-statement'\n",
    "\n",
    "df = get_financials(ticker, company_valuation)\n",
    "df.head()"
   ]
  },
  {
   "cell_type": "markdown",
   "metadata": {},
   "source": [
    "## Plotting the results"
   ]
  },
  {
   "cell_type": "markdown",
   "metadata": {},
   "source": [
    "### Set-up"
   ]
  },
  {
   "cell_type": "code",
   "execution_count": 332,
   "metadata": {},
   "outputs": [],
   "source": [
    "# Creating the list of columns that we will display\n",
    "columns = [\"Revenue\", \"Cost of Revenue\", \"Gross Profit\", \"R&D Expenses\", \"SG&A Expense\", \"Operating Expenses\", 'Interest Expense', 'Earnings before Tax', 'Income Tax Expense', 'Net Income']\n",
    "\n",
    "# Getting the first value from each column\n",
    "values = [df[column].values[0] for column in columns]\n",
    "\n",
    "# Transforming the costs, expenses and taxes into their negative values\n",
    "values = [- value if count in [1, 3, 4, 6, 8] else value for (count, value) in enumerate(values)]\n",
    "\n",
    "# Creating the text list of each column for the waterfall chart\n",
    "text = [f'{value / 10**9} B' for value in values] \n",
    "\n",
    "# Setting up the measures\n",
    "measures = [\"relative\", \"relative\", \"total\", \"relative\", \"relative\", \"total\", \"realtive\", \"total\", \"relative\", \"total\"]"
   ]
  },
  {
   "cell_type": "code",
   "execution_count": 335,
   "metadata": {},
   "outputs": [
    {
     "data": {
      "application/vnd.plotly.v1+json": {
       "config": {
        "plotlyServerURL": "https://plot.ly"
       },
       "data": [
        {
         "connector": {
          "line": {
           "color": "rgb(63, 63, 63)"
          }
         },
         "measure": [
          "relative",
          "relative",
          "total",
          "relative",
          "relative",
          "total",
          "realtive",
          "total",
          "relative",
          "total"
         ],
         "name": "20",
         "orientation": "v",
         "text": [
          "91.819 B",
          "-56.602 B",
          "35.217 B",
          "-4.451 B",
          "-5.197 B",
          "9.648 B",
          "-0.785 B",
          "25.918 B",
          "-3.682 B",
          "22.236 B"
         ],
         "textposition": "outside",
         "type": "waterfall",
         "x": [
          "Revenue",
          "Cost of Revenue",
          "Gross Profit",
          "R&D Expenses",
          "SG&A Expense",
          "Operating Expenses",
          "Interest Expense",
          "Earnings before Tax",
          "Income Tax Expense",
          "Net Income"
         ],
         "y": [
          91819000000,
          -56602000000,
          35217000000,
          -4451000000,
          -5197000000,
          9648000000,
          -785000000,
          25918000000,
          -3682000000,
          22236000000
         ]
        }
       ],
       "layout": {
        "showlegend": true,
        "template": {
         "data": {
          "bar": [
           {
            "error_x": {
             "color": "#2a3f5f"
            },
            "error_y": {
             "color": "#2a3f5f"
            },
            "marker": {
             "line": {
              "color": "#E5ECF6",
              "width": 0.5
             }
            },
            "type": "bar"
           }
          ],
          "barpolar": [
           {
            "marker": {
             "line": {
              "color": "#E5ECF6",
              "width": 0.5
             }
            },
            "type": "barpolar"
           }
          ],
          "carpet": [
           {
            "aaxis": {
             "endlinecolor": "#2a3f5f",
             "gridcolor": "white",
             "linecolor": "white",
             "minorgridcolor": "white",
             "startlinecolor": "#2a3f5f"
            },
            "baxis": {
             "endlinecolor": "#2a3f5f",
             "gridcolor": "white",
             "linecolor": "white",
             "minorgridcolor": "white",
             "startlinecolor": "#2a3f5f"
            },
            "type": "carpet"
           }
          ],
          "choropleth": [
           {
            "colorbar": {
             "outlinewidth": 0,
             "ticks": ""
            },
            "type": "choropleth"
           }
          ],
          "contour": [
           {
            "colorbar": {
             "outlinewidth": 0,
             "ticks": ""
            },
            "colorscale": [
             [
              0,
              "#0d0887"
             ],
             [
              0.1111111111111111,
              "#46039f"
             ],
             [
              0.2222222222222222,
              "#7201a8"
             ],
             [
              0.3333333333333333,
              "#9c179e"
             ],
             [
              0.4444444444444444,
              "#bd3786"
             ],
             [
              0.5555555555555556,
              "#d8576b"
             ],
             [
              0.6666666666666666,
              "#ed7953"
             ],
             [
              0.7777777777777778,
              "#fb9f3a"
             ],
             [
              0.8888888888888888,
              "#fdca26"
             ],
             [
              1,
              "#f0f921"
             ]
            ],
            "type": "contour"
           }
          ],
          "contourcarpet": [
           {
            "colorbar": {
             "outlinewidth": 0,
             "ticks": ""
            },
            "type": "contourcarpet"
           }
          ],
          "heatmap": [
           {
            "colorbar": {
             "outlinewidth": 0,
             "ticks": ""
            },
            "colorscale": [
             [
              0,
              "#0d0887"
             ],
             [
              0.1111111111111111,
              "#46039f"
             ],
             [
              0.2222222222222222,
              "#7201a8"
             ],
             [
              0.3333333333333333,
              "#9c179e"
             ],
             [
              0.4444444444444444,
              "#bd3786"
             ],
             [
              0.5555555555555556,
              "#d8576b"
             ],
             [
              0.6666666666666666,
              "#ed7953"
             ],
             [
              0.7777777777777778,
              "#fb9f3a"
             ],
             [
              0.8888888888888888,
              "#fdca26"
             ],
             [
              1,
              "#f0f921"
             ]
            ],
            "type": "heatmap"
           }
          ],
          "heatmapgl": [
           {
            "colorbar": {
             "outlinewidth": 0,
             "ticks": ""
            },
            "colorscale": [
             [
              0,
              "#0d0887"
             ],
             [
              0.1111111111111111,
              "#46039f"
             ],
             [
              0.2222222222222222,
              "#7201a8"
             ],
             [
              0.3333333333333333,
              "#9c179e"
             ],
             [
              0.4444444444444444,
              "#bd3786"
             ],
             [
              0.5555555555555556,
              "#d8576b"
             ],
             [
              0.6666666666666666,
              "#ed7953"
             ],
             [
              0.7777777777777778,
              "#fb9f3a"
             ],
             [
              0.8888888888888888,
              "#fdca26"
             ],
             [
              1,
              "#f0f921"
             ]
            ],
            "type": "heatmapgl"
           }
          ],
          "histogram": [
           {
            "marker": {
             "colorbar": {
              "outlinewidth": 0,
              "ticks": ""
             }
            },
            "type": "histogram"
           }
          ],
          "histogram2d": [
           {
            "colorbar": {
             "outlinewidth": 0,
             "ticks": ""
            },
            "colorscale": [
             [
              0,
              "#0d0887"
             ],
             [
              0.1111111111111111,
              "#46039f"
             ],
             [
              0.2222222222222222,
              "#7201a8"
             ],
             [
              0.3333333333333333,
              "#9c179e"
             ],
             [
              0.4444444444444444,
              "#bd3786"
             ],
             [
              0.5555555555555556,
              "#d8576b"
             ],
             [
              0.6666666666666666,
              "#ed7953"
             ],
             [
              0.7777777777777778,
              "#fb9f3a"
             ],
             [
              0.8888888888888888,
              "#fdca26"
             ],
             [
              1,
              "#f0f921"
             ]
            ],
            "type": "histogram2d"
           }
          ],
          "histogram2dcontour": [
           {
            "colorbar": {
             "outlinewidth": 0,
             "ticks": ""
            },
            "colorscale": [
             [
              0,
              "#0d0887"
             ],
             [
              0.1111111111111111,
              "#46039f"
             ],
             [
              0.2222222222222222,
              "#7201a8"
             ],
             [
              0.3333333333333333,
              "#9c179e"
             ],
             [
              0.4444444444444444,
              "#bd3786"
             ],
             [
              0.5555555555555556,
              "#d8576b"
             ],
             [
              0.6666666666666666,
              "#ed7953"
             ],
             [
              0.7777777777777778,
              "#fb9f3a"
             ],
             [
              0.8888888888888888,
              "#fdca26"
             ],
             [
              1,
              "#f0f921"
             ]
            ],
            "type": "histogram2dcontour"
           }
          ],
          "mesh3d": [
           {
            "colorbar": {
             "outlinewidth": 0,
             "ticks": ""
            },
            "type": "mesh3d"
           }
          ],
          "parcoords": [
           {
            "line": {
             "colorbar": {
              "outlinewidth": 0,
              "ticks": ""
             }
            },
            "type": "parcoords"
           }
          ],
          "pie": [
           {
            "automargin": true,
            "type": "pie"
           }
          ],
          "scatter": [
           {
            "marker": {
             "colorbar": {
              "outlinewidth": 0,
              "ticks": ""
             }
            },
            "type": "scatter"
           }
          ],
          "scatter3d": [
           {
            "line": {
             "colorbar": {
              "outlinewidth": 0,
              "ticks": ""
             }
            },
            "marker": {
             "colorbar": {
              "outlinewidth": 0,
              "ticks": ""
             }
            },
            "type": "scatter3d"
           }
          ],
          "scattercarpet": [
           {
            "marker": {
             "colorbar": {
              "outlinewidth": 0,
              "ticks": ""
             }
            },
            "type": "scattercarpet"
           }
          ],
          "scattergeo": [
           {
            "marker": {
             "colorbar": {
              "outlinewidth": 0,
              "ticks": ""
             }
            },
            "type": "scattergeo"
           }
          ],
          "scattergl": [
           {
            "marker": {
             "colorbar": {
              "outlinewidth": 0,
              "ticks": ""
             }
            },
            "type": "scattergl"
           }
          ],
          "scattermapbox": [
           {
            "marker": {
             "colorbar": {
              "outlinewidth": 0,
              "ticks": ""
             }
            },
            "type": "scattermapbox"
           }
          ],
          "scatterpolar": [
           {
            "marker": {
             "colorbar": {
              "outlinewidth": 0,
              "ticks": ""
             }
            },
            "type": "scatterpolar"
           }
          ],
          "scatterpolargl": [
           {
            "marker": {
             "colorbar": {
              "outlinewidth": 0,
              "ticks": ""
             }
            },
            "type": "scatterpolargl"
           }
          ],
          "scatterternary": [
           {
            "marker": {
             "colorbar": {
              "outlinewidth": 0,
              "ticks": ""
             }
            },
            "type": "scatterternary"
           }
          ],
          "surface": [
           {
            "colorbar": {
             "outlinewidth": 0,
             "ticks": ""
            },
            "colorscale": [
             [
              0,
              "#0d0887"
             ],
             [
              0.1111111111111111,
              "#46039f"
             ],
             [
              0.2222222222222222,
              "#7201a8"
             ],
             [
              0.3333333333333333,
              "#9c179e"
             ],
             [
              0.4444444444444444,
              "#bd3786"
             ],
             [
              0.5555555555555556,
              "#d8576b"
             ],
             [
              0.6666666666666666,
              "#ed7953"
             ],
             [
              0.7777777777777778,
              "#fb9f3a"
             ],
             [
              0.8888888888888888,
              "#fdca26"
             ],
             [
              1,
              "#f0f921"
             ]
            ],
            "type": "surface"
           }
          ],
          "table": [
           {
            "cells": {
             "fill": {
              "color": "#EBF0F8"
             },
             "line": {
              "color": "white"
             }
            },
            "header": {
             "fill": {
              "color": "#C8D4E3"
             },
             "line": {
              "color": "white"
             }
            },
            "type": "table"
           }
          ]
         },
         "layout": {
          "annotationdefaults": {
           "arrowcolor": "#2a3f5f",
           "arrowhead": 0,
           "arrowwidth": 1
          },
          "coloraxis": {
           "colorbar": {
            "outlinewidth": 0,
            "ticks": ""
           }
          },
          "colorscale": {
           "diverging": [
            [
             0,
             "#8e0152"
            ],
            [
             0.1,
             "#c51b7d"
            ],
            [
             0.2,
             "#de77ae"
            ],
            [
             0.3,
             "#f1b6da"
            ],
            [
             0.4,
             "#fde0ef"
            ],
            [
             0.5,
             "#f7f7f7"
            ],
            [
             0.6,
             "#e6f5d0"
            ],
            [
             0.7,
             "#b8e186"
            ],
            [
             0.8,
             "#7fbc41"
            ],
            [
             0.9,
             "#4d9221"
            ],
            [
             1,
             "#276419"
            ]
           ],
           "sequential": [
            [
             0,
             "#0d0887"
            ],
            [
             0.1111111111111111,
             "#46039f"
            ],
            [
             0.2222222222222222,
             "#7201a8"
            ],
            [
             0.3333333333333333,
             "#9c179e"
            ],
            [
             0.4444444444444444,
             "#bd3786"
            ],
            [
             0.5555555555555556,
             "#d8576b"
            ],
            [
             0.6666666666666666,
             "#ed7953"
            ],
            [
             0.7777777777777778,
             "#fb9f3a"
            ],
            [
             0.8888888888888888,
             "#fdca26"
            ],
            [
             1,
             "#f0f921"
            ]
           ],
           "sequentialminus": [
            [
             0,
             "#0d0887"
            ],
            [
             0.1111111111111111,
             "#46039f"
            ],
            [
             0.2222222222222222,
             "#7201a8"
            ],
            [
             0.3333333333333333,
             "#9c179e"
            ],
            [
             0.4444444444444444,
             "#bd3786"
            ],
            [
             0.5555555555555556,
             "#d8576b"
            ],
            [
             0.6666666666666666,
             "#ed7953"
            ],
            [
             0.7777777777777778,
             "#fb9f3a"
            ],
            [
             0.8888888888888888,
             "#fdca26"
            ],
            [
             1,
             "#f0f921"
            ]
           ]
          },
          "colorway": [
           "#636efa",
           "#EF553B",
           "#00cc96",
           "#ab63fa",
           "#FFA15A",
           "#19d3f3",
           "#FF6692",
           "#B6E880",
           "#FF97FF",
           "#FECB52"
          ],
          "font": {
           "color": "#2a3f5f"
          },
          "geo": {
           "bgcolor": "white",
           "lakecolor": "white",
           "landcolor": "#E5ECF6",
           "showlakes": true,
           "showland": true,
           "subunitcolor": "white"
          },
          "hoverlabel": {
           "align": "left"
          },
          "hovermode": "closest",
          "mapbox": {
           "style": "light"
          },
          "paper_bgcolor": "white",
          "plot_bgcolor": "#E5ECF6",
          "polar": {
           "angularaxis": {
            "gridcolor": "white",
            "linecolor": "white",
            "ticks": ""
           },
           "bgcolor": "#E5ECF6",
           "radialaxis": {
            "gridcolor": "white",
            "linecolor": "white",
            "ticks": ""
           }
          },
          "scene": {
           "xaxis": {
            "backgroundcolor": "#E5ECF6",
            "gridcolor": "white",
            "gridwidth": 2,
            "linecolor": "white",
            "showbackground": true,
            "ticks": "",
            "zerolinecolor": "white"
           },
           "yaxis": {
            "backgroundcolor": "#E5ECF6",
            "gridcolor": "white",
            "gridwidth": 2,
            "linecolor": "white",
            "showbackground": true,
            "ticks": "",
            "zerolinecolor": "white"
           },
           "zaxis": {
            "backgroundcolor": "#E5ECF6",
            "gridcolor": "white",
            "gridwidth": 2,
            "linecolor": "white",
            "showbackground": true,
            "ticks": "",
            "zerolinecolor": "white"
           }
          },
          "shapedefaults": {
           "line": {
            "color": "#2a3f5f"
           }
          },
          "ternary": {
           "aaxis": {
            "gridcolor": "white",
            "linecolor": "white",
            "ticks": ""
           },
           "baxis": {
            "gridcolor": "white",
            "linecolor": "white",
            "ticks": ""
           },
           "bgcolor": "#E5ECF6",
           "caxis": {
            "gridcolor": "white",
            "linecolor": "white",
            "ticks": ""
           }
          },
          "title": {
           "x": 0.05
          },
          "xaxis": {
           "automargin": true,
           "gridcolor": "white",
           "linecolor": "white",
           "ticks": "",
           "title": {
            "standoff": 15
           },
           "zerolinecolor": "white",
           "zerolinewidth": 2
          },
          "yaxis": {
           "automargin": true,
           "gridcolor": "white",
           "linecolor": "white",
           "ticks": "",
           "title": {
            "standoff": 15
           },
           "zerolinecolor": "white",
           "zerolinewidth": 2
          }
         }
        },
        "title": {
         "text": "Profit and Loss statement for Last Quarter"
        },
        "yaxis": {
         "title": {
          "text": "USD ($)"
         }
        }
       }
      },
      "text/html": [
       "<div>\n",
       "        \n",
       "        \n",
       "            <div id=\"8449a795-0bb3-4282-bf76-91ad6bf38443\" class=\"plotly-graph-div\" style=\"height:525px; width:100%;\"></div>\n",
       "            <script type=\"text/javascript\">\n",
       "                require([\"plotly\"], function(Plotly) {\n",
       "                    window.PLOTLYENV=window.PLOTLYENV || {};\n",
       "                    \n",
       "                if (document.getElementById(\"8449a795-0bb3-4282-bf76-91ad6bf38443\")) {\n",
       "                    Plotly.newPlot(\n",
       "                        '8449a795-0bb3-4282-bf76-91ad6bf38443',\n",
       "                        [{\"connector\": {\"line\": {\"color\": \"rgb(63, 63, 63)\"}}, \"measure\": [\"relative\", \"relative\", \"total\", \"relative\", \"relative\", \"total\", \"realtive\", \"total\", \"relative\", \"total\"], \"name\": \"20\", \"orientation\": \"v\", \"text\": [\"91.819 B\", \"-56.602 B\", \"35.217 B\", \"-4.451 B\", \"-5.197 B\", \"9.648 B\", \"-0.785 B\", \"25.918 B\", \"-3.682 B\", \"22.236 B\"], \"textposition\": \"outside\", \"type\": \"waterfall\", \"x\": [\"Revenue\", \"Cost of Revenue\", \"Gross Profit\", \"R&D Expenses\", \"SG&A Expense\", \"Operating Expenses\", \"Interest Expense\", \"Earnings before Tax\", \"Income Tax Expense\", \"Net Income\"], \"y\": [91819000000.0, -56602000000.0, 35217000000.0, -4451000000.0, -5197000000.0, 9648000000.0, -785000000.0, 25918000000.0, -3682000000.0, 22236000000.0]}],\n",
       "                        {\"showlegend\": true, \"template\": {\"data\": {\"bar\": [{\"error_x\": {\"color\": \"#2a3f5f\"}, \"error_y\": {\"color\": \"#2a3f5f\"}, \"marker\": {\"line\": {\"color\": \"#E5ECF6\", \"width\": 0.5}}, \"type\": \"bar\"}], \"barpolar\": [{\"marker\": {\"line\": {\"color\": \"#E5ECF6\", \"width\": 0.5}}, \"type\": \"barpolar\"}], \"carpet\": [{\"aaxis\": {\"endlinecolor\": \"#2a3f5f\", \"gridcolor\": \"white\", \"linecolor\": \"white\", \"minorgridcolor\": \"white\", \"startlinecolor\": \"#2a3f5f\"}, \"baxis\": {\"endlinecolor\": \"#2a3f5f\", \"gridcolor\": \"white\", \"linecolor\": \"white\", \"minorgridcolor\": \"white\", \"startlinecolor\": \"#2a3f5f\"}, \"type\": \"carpet\"}], \"choropleth\": [{\"colorbar\": {\"outlinewidth\": 0, \"ticks\": \"\"}, \"type\": \"choropleth\"}], \"contour\": [{\"colorbar\": {\"outlinewidth\": 0, \"ticks\": \"\"}, \"colorscale\": [[0.0, \"#0d0887\"], [0.1111111111111111, \"#46039f\"], [0.2222222222222222, \"#7201a8\"], [0.3333333333333333, \"#9c179e\"], [0.4444444444444444, \"#bd3786\"], [0.5555555555555556, \"#d8576b\"], [0.6666666666666666, \"#ed7953\"], [0.7777777777777778, \"#fb9f3a\"], [0.8888888888888888, \"#fdca26\"], [1.0, \"#f0f921\"]], \"type\": \"contour\"}], \"contourcarpet\": [{\"colorbar\": {\"outlinewidth\": 0, \"ticks\": \"\"}, \"type\": \"contourcarpet\"}], \"heatmap\": [{\"colorbar\": {\"outlinewidth\": 0, \"ticks\": \"\"}, \"colorscale\": [[0.0, \"#0d0887\"], [0.1111111111111111, \"#46039f\"], [0.2222222222222222, \"#7201a8\"], [0.3333333333333333, \"#9c179e\"], [0.4444444444444444, \"#bd3786\"], [0.5555555555555556, \"#d8576b\"], [0.6666666666666666, \"#ed7953\"], [0.7777777777777778, \"#fb9f3a\"], [0.8888888888888888, \"#fdca26\"], [1.0, \"#f0f921\"]], \"type\": \"heatmap\"}], \"heatmapgl\": [{\"colorbar\": {\"outlinewidth\": 0, \"ticks\": \"\"}, \"colorscale\": [[0.0, \"#0d0887\"], [0.1111111111111111, \"#46039f\"], [0.2222222222222222, \"#7201a8\"], [0.3333333333333333, \"#9c179e\"], [0.4444444444444444, \"#bd3786\"], [0.5555555555555556, \"#d8576b\"], [0.6666666666666666, \"#ed7953\"], [0.7777777777777778, \"#fb9f3a\"], [0.8888888888888888, \"#fdca26\"], [1.0, \"#f0f921\"]], \"type\": \"heatmapgl\"}], \"histogram\": [{\"marker\": {\"colorbar\": {\"outlinewidth\": 0, \"ticks\": \"\"}}, \"type\": \"histogram\"}], \"histogram2d\": [{\"colorbar\": {\"outlinewidth\": 0, \"ticks\": \"\"}, \"colorscale\": [[0.0, \"#0d0887\"], [0.1111111111111111, \"#46039f\"], [0.2222222222222222, \"#7201a8\"], [0.3333333333333333, \"#9c179e\"], [0.4444444444444444, \"#bd3786\"], [0.5555555555555556, \"#d8576b\"], [0.6666666666666666, \"#ed7953\"], [0.7777777777777778, \"#fb9f3a\"], [0.8888888888888888, \"#fdca26\"], [1.0, \"#f0f921\"]], \"type\": \"histogram2d\"}], \"histogram2dcontour\": [{\"colorbar\": {\"outlinewidth\": 0, \"ticks\": \"\"}, \"colorscale\": [[0.0, \"#0d0887\"], [0.1111111111111111, \"#46039f\"], [0.2222222222222222, \"#7201a8\"], [0.3333333333333333, \"#9c179e\"], [0.4444444444444444, \"#bd3786\"], [0.5555555555555556, \"#d8576b\"], [0.6666666666666666, \"#ed7953\"], [0.7777777777777778, \"#fb9f3a\"], [0.8888888888888888, \"#fdca26\"], [1.0, \"#f0f921\"]], \"type\": \"histogram2dcontour\"}], \"mesh3d\": [{\"colorbar\": {\"outlinewidth\": 0, \"ticks\": \"\"}, \"type\": \"mesh3d\"}], \"parcoords\": [{\"line\": {\"colorbar\": {\"outlinewidth\": 0, \"ticks\": \"\"}}, \"type\": \"parcoords\"}], \"pie\": [{\"automargin\": true, \"type\": \"pie\"}], \"scatter\": [{\"marker\": {\"colorbar\": {\"outlinewidth\": 0, \"ticks\": \"\"}}, \"type\": \"scatter\"}], \"scatter3d\": [{\"line\": {\"colorbar\": {\"outlinewidth\": 0, \"ticks\": \"\"}}, \"marker\": {\"colorbar\": {\"outlinewidth\": 0, \"ticks\": \"\"}}, \"type\": \"scatter3d\"}], \"scattercarpet\": [{\"marker\": {\"colorbar\": {\"outlinewidth\": 0, \"ticks\": \"\"}}, \"type\": \"scattercarpet\"}], \"scattergeo\": [{\"marker\": {\"colorbar\": {\"outlinewidth\": 0, \"ticks\": \"\"}}, \"type\": \"scattergeo\"}], \"scattergl\": [{\"marker\": {\"colorbar\": {\"outlinewidth\": 0, \"ticks\": \"\"}}, \"type\": \"scattergl\"}], \"scattermapbox\": [{\"marker\": {\"colorbar\": {\"outlinewidth\": 0, \"ticks\": \"\"}}, \"type\": \"scattermapbox\"}], \"scatterpolar\": [{\"marker\": {\"colorbar\": {\"outlinewidth\": 0, \"ticks\": \"\"}}, \"type\": \"scatterpolar\"}], \"scatterpolargl\": [{\"marker\": {\"colorbar\": {\"outlinewidth\": 0, \"ticks\": \"\"}}, \"type\": \"scatterpolargl\"}], \"scatterternary\": [{\"marker\": {\"colorbar\": {\"outlinewidth\": 0, \"ticks\": \"\"}}, \"type\": \"scatterternary\"}], \"surface\": [{\"colorbar\": {\"outlinewidth\": 0, \"ticks\": \"\"}, \"colorscale\": [[0.0, \"#0d0887\"], [0.1111111111111111, \"#46039f\"], [0.2222222222222222, \"#7201a8\"], [0.3333333333333333, \"#9c179e\"], [0.4444444444444444, \"#bd3786\"], [0.5555555555555556, \"#d8576b\"], [0.6666666666666666, \"#ed7953\"], [0.7777777777777778, \"#fb9f3a\"], [0.8888888888888888, \"#fdca26\"], [1.0, \"#f0f921\"]], \"type\": \"surface\"}], \"table\": [{\"cells\": {\"fill\": {\"color\": \"#EBF0F8\"}, \"line\": {\"color\": \"white\"}}, \"header\": {\"fill\": {\"color\": \"#C8D4E3\"}, \"line\": {\"color\": \"white\"}}, \"type\": \"table\"}]}, \"layout\": {\"annotationdefaults\": {\"arrowcolor\": \"#2a3f5f\", \"arrowhead\": 0, \"arrowwidth\": 1}, \"coloraxis\": {\"colorbar\": {\"outlinewidth\": 0, \"ticks\": \"\"}}, \"colorscale\": {\"diverging\": [[0, \"#8e0152\"], [0.1, \"#c51b7d\"], [0.2, \"#de77ae\"], [0.3, \"#f1b6da\"], [0.4, \"#fde0ef\"], [0.5, \"#f7f7f7\"], [0.6, \"#e6f5d0\"], [0.7, \"#b8e186\"], [0.8, \"#7fbc41\"], [0.9, \"#4d9221\"], [1, \"#276419\"]], \"sequential\": [[0.0, \"#0d0887\"], [0.1111111111111111, \"#46039f\"], [0.2222222222222222, \"#7201a8\"], [0.3333333333333333, \"#9c179e\"], [0.4444444444444444, \"#bd3786\"], [0.5555555555555556, \"#d8576b\"], [0.6666666666666666, \"#ed7953\"], [0.7777777777777778, \"#fb9f3a\"], [0.8888888888888888, \"#fdca26\"], [1.0, \"#f0f921\"]], \"sequentialminus\": [[0.0, \"#0d0887\"], [0.1111111111111111, \"#46039f\"], [0.2222222222222222, \"#7201a8\"], [0.3333333333333333, \"#9c179e\"], [0.4444444444444444, \"#bd3786\"], [0.5555555555555556, \"#d8576b\"], [0.6666666666666666, \"#ed7953\"], [0.7777777777777778, \"#fb9f3a\"], [0.8888888888888888, \"#fdca26\"], [1.0, \"#f0f921\"]]}, \"colorway\": [\"#636efa\", \"#EF553B\", \"#00cc96\", \"#ab63fa\", \"#FFA15A\", \"#19d3f3\", \"#FF6692\", \"#B6E880\", \"#FF97FF\", \"#FECB52\"], \"font\": {\"color\": \"#2a3f5f\"}, \"geo\": {\"bgcolor\": \"white\", \"lakecolor\": \"white\", \"landcolor\": \"#E5ECF6\", \"showlakes\": true, \"showland\": true, \"subunitcolor\": \"white\"}, \"hoverlabel\": {\"align\": \"left\"}, \"hovermode\": \"closest\", \"mapbox\": {\"style\": \"light\"}, \"paper_bgcolor\": \"white\", \"plot_bgcolor\": \"#E5ECF6\", \"polar\": {\"angularaxis\": {\"gridcolor\": \"white\", \"linecolor\": \"white\", \"ticks\": \"\"}, \"bgcolor\": \"#E5ECF6\", \"radialaxis\": {\"gridcolor\": \"white\", \"linecolor\": \"white\", \"ticks\": \"\"}}, \"scene\": {\"xaxis\": {\"backgroundcolor\": \"#E5ECF6\", \"gridcolor\": \"white\", \"gridwidth\": 2, \"linecolor\": \"white\", \"showbackground\": true, \"ticks\": \"\", \"zerolinecolor\": \"white\"}, \"yaxis\": {\"backgroundcolor\": \"#E5ECF6\", \"gridcolor\": \"white\", \"gridwidth\": 2, \"linecolor\": \"white\", \"showbackground\": true, \"ticks\": \"\", \"zerolinecolor\": \"white\"}, \"zaxis\": {\"backgroundcolor\": \"#E5ECF6\", \"gridcolor\": \"white\", \"gridwidth\": 2, \"linecolor\": \"white\", \"showbackground\": true, \"ticks\": \"\", \"zerolinecolor\": \"white\"}}, \"shapedefaults\": {\"line\": {\"color\": \"#2a3f5f\"}}, \"ternary\": {\"aaxis\": {\"gridcolor\": \"white\", \"linecolor\": \"white\", \"ticks\": \"\"}, \"baxis\": {\"gridcolor\": \"white\", \"linecolor\": \"white\", \"ticks\": \"\"}, \"bgcolor\": \"#E5ECF6\", \"caxis\": {\"gridcolor\": \"white\", \"linecolor\": \"white\", \"ticks\": \"\"}}, \"title\": {\"x\": 0.05}, \"xaxis\": {\"automargin\": true, \"gridcolor\": \"white\", \"linecolor\": \"white\", \"ticks\": \"\", \"title\": {\"standoff\": 15}, \"zerolinecolor\": \"white\", \"zerolinewidth\": 2}, \"yaxis\": {\"automargin\": true, \"gridcolor\": \"white\", \"linecolor\": \"white\", \"ticks\": \"\", \"title\": {\"standoff\": 15}, \"zerolinecolor\": \"white\", \"zerolinewidth\": 2}}}, \"title\": {\"text\": \"Profit and Loss statement for Last Quarter\"}, \"yaxis\": {\"title\": {\"text\": \"USD ($)\"}}},\n",
       "                        {\"responsive\": true}\n",
       "                    ).then(function(){\n",
       "                            \n",
       "var gd = document.getElementById('8449a795-0bb3-4282-bf76-91ad6bf38443');\n",
       "var x = new MutationObserver(function (mutations, observer) {{\n",
       "        var display = window.getComputedStyle(gd).display;\n",
       "        if (!display || display === 'none') {{\n",
       "            console.log([gd, 'removed!']);\n",
       "            Plotly.purge(gd);\n",
       "            observer.disconnect();\n",
       "        }}\n",
       "}});\n",
       "\n",
       "// Listen for the removal of the full notebook cells\n",
       "var notebookContainer = gd.closest('#notebook-container');\n",
       "if (notebookContainer) {{\n",
       "    x.observe(notebookContainer, {childList: true});\n",
       "}}\n",
       "\n",
       "// Listen for the clearing of the current output cell\n",
       "var outputEl = gd.closest('.output');\n",
       "if (outputEl) {{\n",
       "    x.observe(outputEl, {childList: true});\n",
       "}}\n",
       "\n",
       "                        })\n",
       "                };\n",
       "                });\n",
       "            </script>\n",
       "        </div>"
      ]
     },
     "metadata": {},
     "output_type": "display_data"
    }
   ],
   "source": [
    "# Creating the waterfall chart of the last quarter profit and loss statement\n",
    "fig = go.Figure(go.Waterfall(\n",
    "    name = \"20\", orientation = \"v\",\n",
    "    measure = measures,\n",
    "    x = columns,\n",
    "    textposition = \"outside\",\n",
    "    text = text ,\n",
    "    y = values,\n",
    "    connector = {\"line\":{\"color\":\"rgb(63, 63, 63)\"}},\n",
    "))\n",
    "\n",
    "fig.update_layout(\n",
    "        title = \"Profit and Loss statement for Last Quarter\",\n",
    "        showlegend = True,\n",
    "        yaxis_title=\"USD ($)\",\n",
    ")\n",
    "\n",
    "fig.show()"
   ]
  },
  {
   "cell_type": "code",
   "execution_count": null,
   "metadata": {},
   "outputs": [],
   "source": []
  }
 ],
 "metadata": {
  "kernelspec": {
   "display_name": "Python 3",
   "language": "python",
   "name": "python3"
  },
  "language_info": {
   "codemirror_mode": {
    "name": "ipython",
    "version": 3
   },
   "file_extension": ".py",
   "mimetype": "text/x-python",
   "name": "python",
   "nbconvert_exporter": "python",
   "pygments_lexer": "ipython3",
   "version": "3.7.4"
  }
 },
 "nbformat": 4,
 "nbformat_minor": 2
}

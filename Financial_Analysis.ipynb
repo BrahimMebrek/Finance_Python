{
 "cells": [
  {
   "cell_type": "markdown",
   "metadata": {},
   "source": [
    "# Financial Analysis "
   ]
  },
  {
   "cell_type": "markdown",
   "metadata": {},
   "source": [
    "This notebook contains :\n",
    "- An automation of the financial data gathering process using the **Financial Modeling Prep API**.\n",
    "- An Income Statement analysis of **IBM**, with visiualizations through **Plotly**."
   ]
  },
  {
   "cell_type": "markdown",
   "metadata": {},
   "source": [
    "#### Since the visualizations are made with plotly they are interactive, make sure to use a **nbviewer**  :\n",
    "https://nbviewer.jupyter.org/github/BrahimMebrek/Finance_Python/blob/dd702c27c1f0bcb337c64f4600bb53aa5e6b360c/Financial_Analysis.ipynb"
   ]
  },
  {
   "cell_type": "markdown",
   "metadata": {},
   "source": [
    "## Definitions"
   ]
  },
  {
   "cell_type": "markdown",
   "metadata": {},
   "source": [
    "### Financial statements\n",
    "Financial statements are written records that convey the business activities and the financial performance of a company. Financial statements are often audited by government agencies, accountants, firms, etc. to ensure accuracy and for tax, financing, or investing purposes. Financial statements include:\n",
    "\n",
    "- Balance sheet ;\n",
    "- Income statement ; (Our study will focus on it)\n",
    "- Cash flow statement."
   ]
  },
  {
   "cell_type": "markdown",
   "metadata": {},
   "source": [
    "### Income statement\n",
    "An income statement is one of the three important financial statements used for reporting a company's financial performance over a specific accounting period. \n",
    "\n",
    "Also known as the profit and loss statement or the statement of revenue and expense, the income statement primarily focuses on the company’s revenues and expenses during a particular period."
   ]
  },
  {
   "cell_type": "markdown",
   "metadata": {},
   "source": [
    "### Ticker symbol\n",
    "A ticker symbol or stock symbol is an abbreviation used to uniquely identify publicly traded shares of a particular stock on a particular stock market."
   ]
  },
  {
   "cell_type": "markdown",
   "metadata": {},
   "source": [
    "## 1 Data Gathering and Preparation"
   ]
  },
  {
   "cell_type": "markdown",
   "metadata": {},
   "source": [
    "### 1.1 Loading modules"
   ]
  },
  {
   "cell_type": "code",
   "execution_count": 1,
   "metadata": {},
   "outputs": [],
   "source": [
    "import numpy as np  # Scientific computing\n",
    "import pandas as pd # Data analysis and manipulation\n",
    "\n",
    "from datetime import datetime # Dates and times manipulations\n",
    "\n",
    "import requests # Send HTTP requests easily\n",
    "\n",
    "\n",
    "# Plotly is a graphing library for interactive, publication-quality graphs\n",
    "# pip install plotly==4.5.4\n",
    "import plotly.graph_objects as go                   \n",
    "import plotly.express as px\n",
    "from plotly.subplots import make_subplots"
   ]
  },
  {
   "cell_type": "markdown",
   "metadata": {},
   "source": [
    "### 1.2 Gathering the financial data using the Financial Modeling Prep API"
   ]
  },
  {
   "cell_type": "code",
   "execution_count": 2,
   "metadata": {},
   "outputs": [],
   "source": [
    "# Creating a function to get the financial data by specifying the Ticker and the Financial Statement\n",
    "def get_financials(ticker, financial_statement):\n",
    "    \n",
    "    # Sending an HTTP request to the Financial Modeling Prep API and convert it to a json() file \n",
    "    resp = requests.get('https://financialmodelingprep.com/api/v3/financials/{}/{}?period=quarter'.format(financial_statement, ticker)).json()\n",
    "    \n",
    "    # Extracting the financials (Dropping the symbol key)\n",
    "    financials = resp['financials']\n",
    "    \n",
    "    # Setting up the diplay format of the floats in the pandas dataframes\n",
    "    pd.options.display.float_format = '{:,}'.format\n",
    "    \n",
    "    # Creating the data frame using pandas from_dict() function\n",
    "    financials = pd.DataFrame.from_dict(financials)\n",
    "    \n",
    "    # Converting the 'date' column to a datetime type using datetime\n",
    "    financials['date'] = pd.to_datetime(financials['date'])\n",
    "\n",
    "    # Setting the index to 'date'\n",
    "    financials.set_index('date', inplace = True)\n",
    "\n",
    "    # Converting the columns into Numeric values\n",
    "    financials = financials.apply(pd.to_numeric, errors = 'coerce')\n",
    "    \n",
    "    return financials"
   ]
  },
  {
   "cell_type": "code",
   "execution_count": 33,
   "metadata": {},
   "outputs": [
    {
     "data": {
      "text/html": [
       "<div>\n",
       "<style scoped>\n",
       "    .dataframe tbody tr th:only-of-type {\n",
       "        vertical-align: middle;\n",
       "    }\n",
       "\n",
       "    .dataframe tbody tr th {\n",
       "        vertical-align: top;\n",
       "    }\n",
       "\n",
       "    .dataframe thead th {\n",
       "        text-align: right;\n",
       "    }\n",
       "</style>\n",
       "<table border=\"1\" class=\"dataframe\">\n",
       "  <thead>\n",
       "    <tr style=\"text-align: right;\">\n",
       "      <th></th>\n",
       "      <th>Revenue</th>\n",
       "      <th>Revenue Growth</th>\n",
       "      <th>Cost of Revenue</th>\n",
       "      <th>Gross Profit</th>\n",
       "      <th>R&amp;D Expenses</th>\n",
       "      <th>SG&amp;A Expense</th>\n",
       "      <th>Operating Expenses</th>\n",
       "      <th>Operating Income</th>\n",
       "      <th>Interest Expense</th>\n",
       "      <th>Earnings before Tax</th>\n",
       "      <th>...</th>\n",
       "      <th>Gross Margin</th>\n",
       "      <th>EBITDA Margin</th>\n",
       "      <th>EBIT Margin</th>\n",
       "      <th>Profit Margin</th>\n",
       "      <th>Free Cash Flow margin</th>\n",
       "      <th>EBITDA</th>\n",
       "      <th>EBIT</th>\n",
       "      <th>Consolidated Income</th>\n",
       "      <th>Earnings Before Tax Margin</th>\n",
       "      <th>Net Profit Margin</th>\n",
       "    </tr>\n",
       "    <tr>\n",
       "      <th>date</th>\n",
       "      <th></th>\n",
       "      <th></th>\n",
       "      <th></th>\n",
       "      <th></th>\n",
       "      <th></th>\n",
       "      <th></th>\n",
       "      <th></th>\n",
       "      <th></th>\n",
       "      <th></th>\n",
       "      <th></th>\n",
       "      <th></th>\n",
       "      <th></th>\n",
       "      <th></th>\n",
       "      <th></th>\n",
       "      <th></th>\n",
       "      <th></th>\n",
       "      <th></th>\n",
       "      <th></th>\n",
       "      <th></th>\n",
       "      <th></th>\n",
       "      <th></th>\n",
       "    </tr>\n",
       "  </thead>\n",
       "  <tbody>\n",
       "    <tr>\n",
       "      <td>2019-12-31</td>\n",
       "      <td>21,777,000,000.0</td>\n",
       "      <td>0.0</td>\n",
       "      <td>10,677,000,000.0</td>\n",
       "      <td>11,100,000,000.0</td>\n",
       "      <td>1,596,000,000.0</td>\n",
       "      <td>5,433,000,000.0</td>\n",
       "      <td>7,029,000,000.0</td>\n",
       "      <td>3,993,000,000.0</td>\n",
       "      <td>354,000,000.0</td>\n",
       "      <td>3,993,000,000.0</td>\n",
       "      <td>...</td>\n",
       "      <td>0.509712081554</td>\n",
       "      <td>0.25912660146</td>\n",
       "      <td>0.183358589337</td>\n",
       "      <td>0.16852642696400003</td>\n",
       "      <td>0.132020021123</td>\n",
       "      <td>5,643,000,000.0</td>\n",
       "      <td>3,993,000,000.0</td>\n",
       "      <td>3,670,000,000.0</td>\n",
       "      <td>0.183358589337</td>\n",
       "      <td>0.16852642696400003</td>\n",
       "    </tr>\n",
       "    <tr>\n",
       "      <td>2019-09-30</td>\n",
       "      <td>18,028,000,000.0</td>\n",
       "      <td>0.0</td>\n",
       "      <td>9,692,000,000.0</td>\n",
       "      <td>8,335,000,000.0</td>\n",
       "      <td>1,553,000,000.0</td>\n",
       "      <td>5,024,000,000.0</td>\n",
       "      <td>6,577,000,000.0</td>\n",
       "      <td>1,522,000,000.0</td>\n",
       "      <td>432,000,000.0</td>\n",
       "      <td>1,522,000,000.0</td>\n",
       "      <td>...</td>\n",
       "      <td>0.462336365653</td>\n",
       "      <td>0.17700244064800003</td>\n",
       "      <td>0.08442422897710002</td>\n",
       "      <td>0.0927446194808</td>\n",
       "      <td>0.16812735744399998</td>\n",
       "      <td>3,191,000,000.0</td>\n",
       "      <td>1,522,000,000.0</td>\n",
       "      <td>1,672,000,000.0</td>\n",
       "      <td>0.08442422897710002</td>\n",
       "      <td>0.0927446194808</td>\n",
       "    </tr>\n",
       "    <tr>\n",
       "      <td>2019-06-30</td>\n",
       "      <td>19,160,000,000.0</td>\n",
       "      <td>0.0</td>\n",
       "      <td>10,151,000,000.0</td>\n",
       "      <td>9,010,000,000.0</td>\n",
       "      <td>1,407,000,000.0</td>\n",
       "      <td>5,456,000,000.0</td>\n",
       "      <td>6,863,000,000.0</td>\n",
       "      <td>2,768,000,000.0</td>\n",
       "      <td>348,000,000.0</td>\n",
       "      <td>2,768,000,000.0</td>\n",
       "      <td>...</td>\n",
       "      <td>0.47025052192100003</td>\n",
       "      <td>0.212004175365</td>\n",
       "      <td>0.144467640919</td>\n",
       "      <td>0.13037578288100002</td>\n",
       "      <td>0.123068893528</td>\n",
       "      <td>4,062,000,000.0</td>\n",
       "      <td>2,768,000,000.0</td>\n",
       "      <td>2,498,000,000.0</td>\n",
       "      <td>0.144467640919</td>\n",
       "      <td>0.13037578288100002</td>\n",
       "    </tr>\n",
       "    <tr>\n",
       "      <td>2019-03-31</td>\n",
       "      <td>18,182,000,000.0</td>\n",
       "      <td>0.0</td>\n",
       "      <td>10,139,000,000.0</td>\n",
       "      <td>8,043,000,000.0</td>\n",
       "      <td>1,433,000,000.0</td>\n",
       "      <td>4,691,000,000.0</td>\n",
       "      <td>6,124,000,000.0</td>\n",
       "      <td>1,883,000,000.0</td>\n",
       "      <td>210,000,000.0</td>\n",
       "      <td>1,883,000,000.0</td>\n",
       "      <td>...</td>\n",
       "      <td>0.442360576394</td>\n",
       "      <td>0.18309316906800002</td>\n",
       "      <td>0.10356396436000001</td>\n",
       "      <td>0.0875041249588</td>\n",
       "      <td>0.232097679023</td>\n",
       "      <td>3,329,000,000.0</td>\n",
       "      <td>1,883,000,000.0</td>\n",
       "      <td>1,591,000,000.0</td>\n",
       "      <td>0.10356396436000001</td>\n",
       "      <td>0.0875041249588</td>\n",
       "    </tr>\n",
       "    <tr>\n",
       "      <td>2018-12-31</td>\n",
       "      <td>21,761,000,000.0</td>\n",
       "      <td>0.0</td>\n",
       "      <td>11,073,000,000.0</td>\n",
       "      <td>10,687,000,000.0</td>\n",
       "      <td>1,358,000,000.0</td>\n",
       "      <td>4,701,000,000.0</td>\n",
       "      <td>6,059,000,000.0</td>\n",
       "      <td>4,434,000,000.0</td>\n",
       "      <td>193,000,000.0</td>\n",
       "      <td>4,434,000,000.0</td>\n",
       "      <td>...</td>\n",
       "      <td>0.49110794540700003</td>\n",
       "      <td>0.25485961123100004</td>\n",
       "      <td>0.203759018427</td>\n",
       "      <td>0.0896558062589</td>\n",
       "      <td>0.153347732181</td>\n",
       "      <td>5,546,000,000.0</td>\n",
       "      <td>4,434,000,000.0</td>\n",
       "      <td>1,951,000,000.0</td>\n",
       "      <td>0.203759018427</td>\n",
       "      <td>0.0896558062589</td>\n",
       "    </tr>\n",
       "  </tbody>\n",
       "</table>\n",
       "<p>5 rows × 31 columns</p>\n",
       "</div>"
      ],
      "text/plain": [
       "                    Revenue  Revenue Growth  Cost of Revenue     Gross Profit  \\\n",
       "date                                                                            \n",
       "2019-12-31 21,777,000,000.0             0.0 10,677,000,000.0 11,100,000,000.0   \n",
       "2019-09-30 18,028,000,000.0             0.0  9,692,000,000.0  8,335,000,000.0   \n",
       "2019-06-30 19,160,000,000.0             0.0 10,151,000,000.0  9,010,000,000.0   \n",
       "2019-03-31 18,182,000,000.0             0.0 10,139,000,000.0  8,043,000,000.0   \n",
       "2018-12-31 21,761,000,000.0             0.0 11,073,000,000.0 10,687,000,000.0   \n",
       "\n",
       "              R&D Expenses    SG&A Expense  Operating Expenses  \\\n",
       "date                                                             \n",
       "2019-12-31 1,596,000,000.0 5,433,000,000.0     7,029,000,000.0   \n",
       "2019-09-30 1,553,000,000.0 5,024,000,000.0     6,577,000,000.0   \n",
       "2019-06-30 1,407,000,000.0 5,456,000,000.0     6,863,000,000.0   \n",
       "2019-03-31 1,433,000,000.0 4,691,000,000.0     6,124,000,000.0   \n",
       "2018-12-31 1,358,000,000.0 4,701,000,000.0     6,059,000,000.0   \n",
       "\n",
       "            Operating Income  Interest Expense  Earnings before Tax  ...  \\\n",
       "date                                                                 ...   \n",
       "2019-12-31   3,993,000,000.0     354,000,000.0      3,993,000,000.0  ...   \n",
       "2019-09-30   1,522,000,000.0     432,000,000.0      1,522,000,000.0  ...   \n",
       "2019-06-30   2,768,000,000.0     348,000,000.0      2,768,000,000.0  ...   \n",
       "2019-03-31   1,883,000,000.0     210,000,000.0      1,883,000,000.0  ...   \n",
       "2018-12-31   4,434,000,000.0     193,000,000.0      4,434,000,000.0  ...   \n",
       "\n",
       "                  Gross Margin       EBITDA Margin         EBIT Margin  \\\n",
       "date                                                                     \n",
       "2019-12-31      0.509712081554       0.25912660146      0.183358589337   \n",
       "2019-09-30      0.462336365653 0.17700244064800003 0.08442422897710002   \n",
       "2019-06-30 0.47025052192100003      0.212004175365      0.144467640919   \n",
       "2019-03-31      0.442360576394 0.18309316906800002 0.10356396436000001   \n",
       "2018-12-31 0.49110794540700003 0.25485961123100004      0.203759018427   \n",
       "\n",
       "                 Profit Margin  Free Cash Flow margin          EBITDA  \\\n",
       "date                                                                    \n",
       "2019-12-31 0.16852642696400003         0.132020021123 5,643,000,000.0   \n",
       "2019-09-30     0.0927446194808    0.16812735744399998 3,191,000,000.0   \n",
       "2019-06-30 0.13037578288100002         0.123068893528 4,062,000,000.0   \n",
       "2019-03-31     0.0875041249588         0.232097679023 3,329,000,000.0   \n",
       "2018-12-31     0.0896558062589         0.153347732181 5,546,000,000.0   \n",
       "\n",
       "                      EBIT  Consolidated Income  Earnings Before Tax Margin  \\\n",
       "date                                                                          \n",
       "2019-12-31 3,993,000,000.0      3,670,000,000.0              0.183358589337   \n",
       "2019-09-30 1,522,000,000.0      1,672,000,000.0         0.08442422897710002   \n",
       "2019-06-30 2,768,000,000.0      2,498,000,000.0              0.144467640919   \n",
       "2019-03-31 1,883,000,000.0      1,591,000,000.0         0.10356396436000001   \n",
       "2018-12-31 4,434,000,000.0      1,951,000,000.0              0.203759018427   \n",
       "\n",
       "             Net Profit Margin  \n",
       "date                            \n",
       "2019-12-31 0.16852642696400003  \n",
       "2019-09-30     0.0927446194808  \n",
       "2019-06-30 0.13037578288100002  \n",
       "2019-03-31     0.0875041249588  \n",
       "2018-12-31     0.0896558062589  \n",
       "\n",
       "[5 rows x 31 columns]"
      ]
     },
     "execution_count": 33,
     "metadata": {},
     "output_type": "execute_result"
    }
   ],
   "source": [
    "# Choosing a ticker and a financial statement\n",
    "ticker = 'IBM'\n",
    "financial_statement = 'income-statement'\n",
    "\n",
    "financials = get_financials(ticker, financial_statement)\n",
    "financials.head()"
   ]
  },
  {
   "cell_type": "markdown",
   "metadata": {},
   "source": [
    "## 2 Income Statement Analysis"
   ]
  },
  {
   "cell_type": "markdown",
   "metadata": {},
   "source": [
    "### Quarter\n",
    "\n",
    "A quarter is a three-month period on a company's financial calendar that acts as a basis for periodic financial reports and the paying of dividends.\n",
    "\n",
    "A quarter refers to one-fourth of a year and is typically expressed as \"Q1” for the first quarter, “Q2” for the second quarter, and so forth."
   ]
  },
  {
   "cell_type": "markdown",
   "metadata": {},
   "source": [
    "### Revenue"
   ]
  },
  {
   "cell_type": "markdown",
   "metadata": {},
   "source": [
    "Revenue is the income generated from normal business operations and includes discounts and deductions for returned merchandise. It is the top line or gross income figure from which costs are subtracted to determine net income."
   ]
  },
  {
   "cell_type": "markdown",
   "metadata": {},
   "source": [
    "**The cost of revenue :** is the total cost of manufacturing and delivering a product or service to consumers. \n",
    "\n",
    "Additional :\n",
    "\n",
    "Cost of revenue is different from cost of goods sold (COGS) because the former also includes costs outside of production, such as distribution and marketing.\n",
    "\n",
    "When comparing profit measures using a standard formula for profit margins such as those listed in an income statement, creating a profit margin measure based on the cost of revenue would generate a lower value than those typically used by corporations for quarterly reporting. The contribution margin includes total variable costs, and the gross margin only includes the COGS or the cost of services. A company with a low cost of revenue to total revenue percentage indicates that it is in stable financial health and may have strong sales."
   ]
  },
  {
   "cell_type": "markdown",
   "metadata": {},
   "source": [
    "**Gross profit :** is the profit a company makes after deducting the costs associated with making and selling its products, or the costs associated with providing its services."
   ]
  },
  {
   "cell_type": "markdown",
   "metadata": {},
   "source": [
    "**Research and development Expenses (R&D):**  are associated with the research and development of a company's goods or services. A company generally incurs R&D expenses in the process of finding and creating new products or services."
   ]
  },
  {
   "cell_type": "markdown",
   "metadata": {},
   "source": [
    "**Selling, general and administrative expenses (SG&A) :** are reported on the income statement as the sum of all direct and indirect selling expenses and all general and administrative expenses (G&A) of a company."
   ]
  },
  {
   "cell_type": "markdown",
   "metadata": {},
   "source": [
    "**Operating expense :** is an expense a business incurs through its normal business operations. Often abbreviated as OPEX, operating expenses include rent, equipment, inventory costs, marketing, payroll, insurance, step costs, and funds allocated for research and development."
   ]
  },
  {
   "cell_type": "markdown",
   "metadata": {},
   "source": [
    "**Interest expense :** is the cost incurred by an entity for borrowed funds. "
   ]
  },
  {
   "cell_type": "markdown",
   "metadata": {},
   "source": [
    "**Income tax expense :** is the amount of expense that a business recognizes in an accounting period for the government tax related to its taxable profit."
   ]
  },
  {
   "cell_type": "markdown",
   "metadata": {},
   "source": [
    "**Net income (NI) :** also called net earnings, is a useful number for investors to assess how much revenue exceeds the expenses of an organization. This number is an indicator of a company's profitability."
   ]
  },
  {
   "cell_type": "markdown",
   "metadata": {},
   "source": [
    "### 2.1 Plotting the Income statement of the last Quarter"
   ]
  },
  {
   "cell_type": "code",
   "execution_count": 34,
   "metadata": {},
   "outputs": [],
   "source": [
    "# Creating a function that will setup our Waterfall chart\n",
    "# Quaters are specified in an increasing order, last quarter is 0, the one before 1 and so on ...\n",
    "def setup_waterfall_chart(financials, quarter):\n",
    "    \n",
    "    # Creating the list of columns that we will display\n",
    "    columns = [\"Revenue\", \"Cost of Revenue\", \"Gross Profit\", \"R&D Expenses\", \"SG&A Expense\", \"Operating Expenses\", 'Interest Expense', 'Earnings before Tax', 'Income Tax Expense', 'Net Income']\n",
    "\n",
    "    # Getting the first value from each column\n",
    "    values = [financials[column].values[quarter] for column in columns]\n",
    "\n",
    "    # Transforming the costs, expenses and taxes into their negative values\n",
    "    values = [- value if count in [1, 3, 4, 6, 8] else value for (count, value) in enumerate(values)]\n",
    "\n",
    "    # Creating the text list of each column for the waterfall chart\n",
    "    text = [f'{value / 10**9} B' for value in values] \n",
    "\n",
    "    # Setting up the measures\n",
    "    measures = [\"relative\", \"relative\", \"total\", \"relative\", \"relative\", \"total\", \"realtive\", \"total\", \"relative\", \"total\"]\n",
    "    \n",
    "    return measures, columns, values, text"
   ]
  },
  {
   "cell_type": "code",
   "execution_count": 35,
   "metadata": {
    "scrolled": false
   },
   "outputs": [
    {
     "data": {
      "application/vnd.plotly.v1+json": {
       "config": {
        "plotlyServerURL": "https://plot.ly"
       },
       "data": [
        {
         "connector": {
          "line": {
           "color": "rgb(63, 63, 63)"
          }
         },
         "measure": [
          "relative",
          "relative",
          "total",
          "relative",
          "relative",
          "total",
          "realtive",
          "total",
          "relative",
          "total"
         ],
         "name": "20",
         "orientation": "v",
         "text": [
          "21.777 B",
          "-10.677 B",
          "11.1 B",
          "-1.596 B",
          "-5.433 B",
          "7.029 B",
          "-0.354 B",
          "3.993 B",
          "-0.324 B",
          "3.67 B"
         ],
         "textposition": "outside",
         "type": "waterfall",
         "x": [
          "Revenue",
          "Cost of Revenue",
          "Gross Profit",
          "R&D Expenses",
          "SG&A Expense",
          "Operating Expenses",
          "Interest Expense",
          "Earnings before Tax",
          "Income Tax Expense",
          "Net Income"
         ],
         "y": [
          21777000000,
          -10677000000,
          11100000000,
          -1596000000,
          -5433000000,
          7029000000,
          -354000000,
          3993000000,
          -324000000,
          3670000000
         ]
        }
       ],
       "layout": {
        "showlegend": true,
        "template": {
         "data": {
          "bar": [
           {
            "error_x": {
             "color": "#2a3f5f"
            },
            "error_y": {
             "color": "#2a3f5f"
            },
            "marker": {
             "line": {
              "color": "#E5ECF6",
              "width": 0.5
             }
            },
            "type": "bar"
           }
          ],
          "barpolar": [
           {
            "marker": {
             "line": {
              "color": "#E5ECF6",
              "width": 0.5
             }
            },
            "type": "barpolar"
           }
          ],
          "carpet": [
           {
            "aaxis": {
             "endlinecolor": "#2a3f5f",
             "gridcolor": "white",
             "linecolor": "white",
             "minorgridcolor": "white",
             "startlinecolor": "#2a3f5f"
            },
            "baxis": {
             "endlinecolor": "#2a3f5f",
             "gridcolor": "white",
             "linecolor": "white",
             "minorgridcolor": "white",
             "startlinecolor": "#2a3f5f"
            },
            "type": "carpet"
           }
          ],
          "choropleth": [
           {
            "colorbar": {
             "outlinewidth": 0,
             "ticks": ""
            },
            "type": "choropleth"
           }
          ],
          "contour": [
           {
            "colorbar": {
             "outlinewidth": 0,
             "ticks": ""
            },
            "colorscale": [
             [
              0,
              "#0d0887"
             ],
             [
              0.1111111111111111,
              "#46039f"
             ],
             [
              0.2222222222222222,
              "#7201a8"
             ],
             [
              0.3333333333333333,
              "#9c179e"
             ],
             [
              0.4444444444444444,
              "#bd3786"
             ],
             [
              0.5555555555555556,
              "#d8576b"
             ],
             [
              0.6666666666666666,
              "#ed7953"
             ],
             [
              0.7777777777777778,
              "#fb9f3a"
             ],
             [
              0.8888888888888888,
              "#fdca26"
             ],
             [
              1,
              "#f0f921"
             ]
            ],
            "type": "contour"
           }
          ],
          "contourcarpet": [
           {
            "colorbar": {
             "outlinewidth": 0,
             "ticks": ""
            },
            "type": "contourcarpet"
           }
          ],
          "heatmap": [
           {
            "colorbar": {
             "outlinewidth": 0,
             "ticks": ""
            },
            "colorscale": [
             [
              0,
              "#0d0887"
             ],
             [
              0.1111111111111111,
              "#46039f"
             ],
             [
              0.2222222222222222,
              "#7201a8"
             ],
             [
              0.3333333333333333,
              "#9c179e"
             ],
             [
              0.4444444444444444,
              "#bd3786"
             ],
             [
              0.5555555555555556,
              "#d8576b"
             ],
             [
              0.6666666666666666,
              "#ed7953"
             ],
             [
              0.7777777777777778,
              "#fb9f3a"
             ],
             [
              0.8888888888888888,
              "#fdca26"
             ],
             [
              1,
              "#f0f921"
             ]
            ],
            "type": "heatmap"
           }
          ],
          "heatmapgl": [
           {
            "colorbar": {
             "outlinewidth": 0,
             "ticks": ""
            },
            "colorscale": [
             [
              0,
              "#0d0887"
             ],
             [
              0.1111111111111111,
              "#46039f"
             ],
             [
              0.2222222222222222,
              "#7201a8"
             ],
             [
              0.3333333333333333,
              "#9c179e"
             ],
             [
              0.4444444444444444,
              "#bd3786"
             ],
             [
              0.5555555555555556,
              "#d8576b"
             ],
             [
              0.6666666666666666,
              "#ed7953"
             ],
             [
              0.7777777777777778,
              "#fb9f3a"
             ],
             [
              0.8888888888888888,
              "#fdca26"
             ],
             [
              1,
              "#f0f921"
             ]
            ],
            "type": "heatmapgl"
           }
          ],
          "histogram": [
           {
            "marker": {
             "colorbar": {
              "outlinewidth": 0,
              "ticks": ""
             }
            },
            "type": "histogram"
           }
          ],
          "histogram2d": [
           {
            "colorbar": {
             "outlinewidth": 0,
             "ticks": ""
            },
            "colorscale": [
             [
              0,
              "#0d0887"
             ],
             [
              0.1111111111111111,
              "#46039f"
             ],
             [
              0.2222222222222222,
              "#7201a8"
             ],
             [
              0.3333333333333333,
              "#9c179e"
             ],
             [
              0.4444444444444444,
              "#bd3786"
             ],
             [
              0.5555555555555556,
              "#d8576b"
             ],
             [
              0.6666666666666666,
              "#ed7953"
             ],
             [
              0.7777777777777778,
              "#fb9f3a"
             ],
             [
              0.8888888888888888,
              "#fdca26"
             ],
             [
              1,
              "#f0f921"
             ]
            ],
            "type": "histogram2d"
           }
          ],
          "histogram2dcontour": [
           {
            "colorbar": {
             "outlinewidth": 0,
             "ticks": ""
            },
            "colorscale": [
             [
              0,
              "#0d0887"
             ],
             [
              0.1111111111111111,
              "#46039f"
             ],
             [
              0.2222222222222222,
              "#7201a8"
             ],
             [
              0.3333333333333333,
              "#9c179e"
             ],
             [
              0.4444444444444444,
              "#bd3786"
             ],
             [
              0.5555555555555556,
              "#d8576b"
             ],
             [
              0.6666666666666666,
              "#ed7953"
             ],
             [
              0.7777777777777778,
              "#fb9f3a"
             ],
             [
              0.8888888888888888,
              "#fdca26"
             ],
             [
              1,
              "#f0f921"
             ]
            ],
            "type": "histogram2dcontour"
           }
          ],
          "mesh3d": [
           {
            "colorbar": {
             "outlinewidth": 0,
             "ticks": ""
            },
            "type": "mesh3d"
           }
          ],
          "parcoords": [
           {
            "line": {
             "colorbar": {
              "outlinewidth": 0,
              "ticks": ""
             }
            },
            "type": "parcoords"
           }
          ],
          "pie": [
           {
            "automargin": true,
            "type": "pie"
           }
          ],
          "scatter": [
           {
            "marker": {
             "colorbar": {
              "outlinewidth": 0,
              "ticks": ""
             }
            },
            "type": "scatter"
           }
          ],
          "scatter3d": [
           {
            "line": {
             "colorbar": {
              "outlinewidth": 0,
              "ticks": ""
             }
            },
            "marker": {
             "colorbar": {
              "outlinewidth": 0,
              "ticks": ""
             }
            },
            "type": "scatter3d"
           }
          ],
          "scattercarpet": [
           {
            "marker": {
             "colorbar": {
              "outlinewidth": 0,
              "ticks": ""
             }
            },
            "type": "scattercarpet"
           }
          ],
          "scattergeo": [
           {
            "marker": {
             "colorbar": {
              "outlinewidth": 0,
              "ticks": ""
             }
            },
            "type": "scattergeo"
           }
          ],
          "scattergl": [
           {
            "marker": {
             "colorbar": {
              "outlinewidth": 0,
              "ticks": ""
             }
            },
            "type": "scattergl"
           }
          ],
          "scattermapbox": [
           {
            "marker": {
             "colorbar": {
              "outlinewidth": 0,
              "ticks": ""
             }
            },
            "type": "scattermapbox"
           }
          ],
          "scatterpolar": [
           {
            "marker": {
             "colorbar": {
              "outlinewidth": 0,
              "ticks": ""
             }
            },
            "type": "scatterpolar"
           }
          ],
          "scatterpolargl": [
           {
            "marker": {
             "colorbar": {
              "outlinewidth": 0,
              "ticks": ""
             }
            },
            "type": "scatterpolargl"
           }
          ],
          "scatterternary": [
           {
            "marker": {
             "colorbar": {
              "outlinewidth": 0,
              "ticks": ""
             }
            },
            "type": "scatterternary"
           }
          ],
          "surface": [
           {
            "colorbar": {
             "outlinewidth": 0,
             "ticks": ""
            },
            "colorscale": [
             [
              0,
              "#0d0887"
             ],
             [
              0.1111111111111111,
              "#46039f"
             ],
             [
              0.2222222222222222,
              "#7201a8"
             ],
             [
              0.3333333333333333,
              "#9c179e"
             ],
             [
              0.4444444444444444,
              "#bd3786"
             ],
             [
              0.5555555555555556,
              "#d8576b"
             ],
             [
              0.6666666666666666,
              "#ed7953"
             ],
             [
              0.7777777777777778,
              "#fb9f3a"
             ],
             [
              0.8888888888888888,
              "#fdca26"
             ],
             [
              1,
              "#f0f921"
             ]
            ],
            "type": "surface"
           }
          ],
          "table": [
           {
            "cells": {
             "fill": {
              "color": "#EBF0F8"
             },
             "line": {
              "color": "white"
             }
            },
            "header": {
             "fill": {
              "color": "#C8D4E3"
             },
             "line": {
              "color": "white"
             }
            },
            "type": "table"
           }
          ]
         },
         "layout": {
          "annotationdefaults": {
           "arrowcolor": "#2a3f5f",
           "arrowhead": 0,
           "arrowwidth": 1
          },
          "coloraxis": {
           "colorbar": {
            "outlinewidth": 0,
            "ticks": ""
           }
          },
          "colorscale": {
           "diverging": [
            [
             0,
             "#8e0152"
            ],
            [
             0.1,
             "#c51b7d"
            ],
            [
             0.2,
             "#de77ae"
            ],
            [
             0.3,
             "#f1b6da"
            ],
            [
             0.4,
             "#fde0ef"
            ],
            [
             0.5,
             "#f7f7f7"
            ],
            [
             0.6,
             "#e6f5d0"
            ],
            [
             0.7,
             "#b8e186"
            ],
            [
             0.8,
             "#7fbc41"
            ],
            [
             0.9,
             "#4d9221"
            ],
            [
             1,
             "#276419"
            ]
           ],
           "sequential": [
            [
             0,
             "#0d0887"
            ],
            [
             0.1111111111111111,
             "#46039f"
            ],
            [
             0.2222222222222222,
             "#7201a8"
            ],
            [
             0.3333333333333333,
             "#9c179e"
            ],
            [
             0.4444444444444444,
             "#bd3786"
            ],
            [
             0.5555555555555556,
             "#d8576b"
            ],
            [
             0.6666666666666666,
             "#ed7953"
            ],
            [
             0.7777777777777778,
             "#fb9f3a"
            ],
            [
             0.8888888888888888,
             "#fdca26"
            ],
            [
             1,
             "#f0f921"
            ]
           ],
           "sequentialminus": [
            [
             0,
             "#0d0887"
            ],
            [
             0.1111111111111111,
             "#46039f"
            ],
            [
             0.2222222222222222,
             "#7201a8"
            ],
            [
             0.3333333333333333,
             "#9c179e"
            ],
            [
             0.4444444444444444,
             "#bd3786"
            ],
            [
             0.5555555555555556,
             "#d8576b"
            ],
            [
             0.6666666666666666,
             "#ed7953"
            ],
            [
             0.7777777777777778,
             "#fb9f3a"
            ],
            [
             0.8888888888888888,
             "#fdca26"
            ],
            [
             1,
             "#f0f921"
            ]
           ]
          },
          "colorway": [
           "#636efa",
           "#EF553B",
           "#00cc96",
           "#ab63fa",
           "#FFA15A",
           "#19d3f3",
           "#FF6692",
           "#B6E880",
           "#FF97FF",
           "#FECB52"
          ],
          "font": {
           "color": "#2a3f5f"
          },
          "geo": {
           "bgcolor": "white",
           "lakecolor": "white",
           "landcolor": "#E5ECF6",
           "showlakes": true,
           "showland": true,
           "subunitcolor": "white"
          },
          "hoverlabel": {
           "align": "left"
          },
          "hovermode": "closest",
          "mapbox": {
           "style": "light"
          },
          "paper_bgcolor": "white",
          "plot_bgcolor": "#E5ECF6",
          "polar": {
           "angularaxis": {
            "gridcolor": "white",
            "linecolor": "white",
            "ticks": ""
           },
           "bgcolor": "#E5ECF6",
           "radialaxis": {
            "gridcolor": "white",
            "linecolor": "white",
            "ticks": ""
           }
          },
          "scene": {
           "xaxis": {
            "backgroundcolor": "#E5ECF6",
            "gridcolor": "white",
            "gridwidth": 2,
            "linecolor": "white",
            "showbackground": true,
            "ticks": "",
            "zerolinecolor": "white"
           },
           "yaxis": {
            "backgroundcolor": "#E5ECF6",
            "gridcolor": "white",
            "gridwidth": 2,
            "linecolor": "white",
            "showbackground": true,
            "ticks": "",
            "zerolinecolor": "white"
           },
           "zaxis": {
            "backgroundcolor": "#E5ECF6",
            "gridcolor": "white",
            "gridwidth": 2,
            "linecolor": "white",
            "showbackground": true,
            "ticks": "",
            "zerolinecolor": "white"
           }
          },
          "shapedefaults": {
           "line": {
            "color": "#2a3f5f"
           }
          },
          "ternary": {
           "aaxis": {
            "gridcolor": "white",
            "linecolor": "white",
            "ticks": ""
           },
           "baxis": {
            "gridcolor": "white",
            "linecolor": "white",
            "ticks": ""
           },
           "bgcolor": "#E5ECF6",
           "caxis": {
            "gridcolor": "white",
            "linecolor": "white",
            "ticks": ""
           }
          },
          "title": {
           "x": 0.05
          },
          "xaxis": {
           "automargin": true,
           "gridcolor": "white",
           "linecolor": "white",
           "ticks": "",
           "title": {
            "standoff": 15
           },
           "zerolinecolor": "white",
           "zerolinewidth": 2
          },
          "yaxis": {
           "automargin": true,
           "gridcolor": "white",
           "linecolor": "white",
           "ticks": "",
           "title": {
            "standoff": 15
           },
           "zerolinecolor": "white",
           "zerolinewidth": 2
          }
         }
        },
        "title": {
         "text": "Income statement Last Quarter for IBM"
        },
        "yaxis": {
         "title": {
          "text": "USD ($)"
         }
        }
       }
      },
      "text/html": [
       "<div>\n",
       "        \n",
       "        \n",
       "            <div id=\"8875524b-86ae-4c3d-99d4-91de113460de\" class=\"plotly-graph-div\" style=\"height:525px; width:100%;\"></div>\n",
       "            <script type=\"text/javascript\">\n",
       "                require([\"plotly\"], function(Plotly) {\n",
       "                    window.PLOTLYENV=window.PLOTLYENV || {};\n",
       "                    \n",
       "                if (document.getElementById(\"8875524b-86ae-4c3d-99d4-91de113460de\")) {\n",
       "                    Plotly.newPlot(\n",
       "                        '8875524b-86ae-4c3d-99d4-91de113460de',\n",
       "                        [{\"connector\": {\"line\": {\"color\": \"rgb(63, 63, 63)\"}}, \"measure\": [\"relative\", \"relative\", \"total\", \"relative\", \"relative\", \"total\", \"realtive\", \"total\", \"relative\", \"total\"], \"name\": \"20\", \"orientation\": \"v\", \"text\": [\"21.777 B\", \"-10.677 B\", \"11.1 B\", \"-1.596 B\", \"-5.433 B\", \"7.029 B\", \"-0.354 B\", \"3.993 B\", \"-0.324 B\", \"3.67 B\"], \"textposition\": \"outside\", \"type\": \"waterfall\", \"x\": [\"Revenue\", \"Cost of Revenue\", \"Gross Profit\", \"R&D Expenses\", \"SG&A Expense\", \"Operating Expenses\", \"Interest Expense\", \"Earnings before Tax\", \"Income Tax Expense\", \"Net Income\"], \"y\": [21777000000.0, -10677000000.0, 11100000000.0, -1596000000.0, -5433000000.0, 7029000000.0, -354000000.0, 3993000000.0, -324000000.0, 3670000000.0]}],\n",
       "                        {\"showlegend\": true, \"template\": {\"data\": {\"bar\": [{\"error_x\": {\"color\": \"#2a3f5f\"}, \"error_y\": {\"color\": \"#2a3f5f\"}, \"marker\": {\"line\": {\"color\": \"#E5ECF6\", \"width\": 0.5}}, \"type\": \"bar\"}], \"barpolar\": [{\"marker\": {\"line\": {\"color\": \"#E5ECF6\", \"width\": 0.5}}, \"type\": \"barpolar\"}], \"carpet\": [{\"aaxis\": {\"endlinecolor\": \"#2a3f5f\", \"gridcolor\": \"white\", \"linecolor\": \"white\", \"minorgridcolor\": \"white\", \"startlinecolor\": \"#2a3f5f\"}, \"baxis\": {\"endlinecolor\": \"#2a3f5f\", \"gridcolor\": \"white\", \"linecolor\": \"white\", \"minorgridcolor\": \"white\", \"startlinecolor\": \"#2a3f5f\"}, \"type\": \"carpet\"}], \"choropleth\": [{\"colorbar\": {\"outlinewidth\": 0, \"ticks\": \"\"}, \"type\": \"choropleth\"}], \"contour\": [{\"colorbar\": {\"outlinewidth\": 0, \"ticks\": \"\"}, \"colorscale\": [[0.0, \"#0d0887\"], [0.1111111111111111, \"#46039f\"], [0.2222222222222222, \"#7201a8\"], [0.3333333333333333, \"#9c179e\"], [0.4444444444444444, \"#bd3786\"], [0.5555555555555556, \"#d8576b\"], [0.6666666666666666, \"#ed7953\"], [0.7777777777777778, \"#fb9f3a\"], [0.8888888888888888, \"#fdca26\"], [1.0, \"#f0f921\"]], \"type\": \"contour\"}], \"contourcarpet\": [{\"colorbar\": {\"outlinewidth\": 0, \"ticks\": \"\"}, \"type\": \"contourcarpet\"}], \"heatmap\": [{\"colorbar\": {\"outlinewidth\": 0, \"ticks\": \"\"}, \"colorscale\": [[0.0, \"#0d0887\"], [0.1111111111111111, \"#46039f\"], [0.2222222222222222, \"#7201a8\"], [0.3333333333333333, \"#9c179e\"], [0.4444444444444444, \"#bd3786\"], [0.5555555555555556, \"#d8576b\"], [0.6666666666666666, \"#ed7953\"], [0.7777777777777778, \"#fb9f3a\"], [0.8888888888888888, \"#fdca26\"], [1.0, \"#f0f921\"]], \"type\": \"heatmap\"}], \"heatmapgl\": [{\"colorbar\": {\"outlinewidth\": 0, \"ticks\": \"\"}, \"colorscale\": [[0.0, \"#0d0887\"], [0.1111111111111111, \"#46039f\"], [0.2222222222222222, \"#7201a8\"], [0.3333333333333333, \"#9c179e\"], [0.4444444444444444, \"#bd3786\"], [0.5555555555555556, \"#d8576b\"], [0.6666666666666666, \"#ed7953\"], [0.7777777777777778, \"#fb9f3a\"], [0.8888888888888888, \"#fdca26\"], [1.0, \"#f0f921\"]], \"type\": \"heatmapgl\"}], \"histogram\": [{\"marker\": {\"colorbar\": {\"outlinewidth\": 0, \"ticks\": \"\"}}, \"type\": \"histogram\"}], \"histogram2d\": [{\"colorbar\": {\"outlinewidth\": 0, \"ticks\": \"\"}, \"colorscale\": [[0.0, \"#0d0887\"], [0.1111111111111111, \"#46039f\"], [0.2222222222222222, \"#7201a8\"], [0.3333333333333333, \"#9c179e\"], [0.4444444444444444, \"#bd3786\"], [0.5555555555555556, \"#d8576b\"], [0.6666666666666666, \"#ed7953\"], [0.7777777777777778, \"#fb9f3a\"], [0.8888888888888888, \"#fdca26\"], [1.0, \"#f0f921\"]], \"type\": \"histogram2d\"}], \"histogram2dcontour\": [{\"colorbar\": {\"outlinewidth\": 0, \"ticks\": \"\"}, \"colorscale\": [[0.0, \"#0d0887\"], [0.1111111111111111, \"#46039f\"], [0.2222222222222222, \"#7201a8\"], [0.3333333333333333, \"#9c179e\"], [0.4444444444444444, \"#bd3786\"], [0.5555555555555556, \"#d8576b\"], [0.6666666666666666, \"#ed7953\"], [0.7777777777777778, \"#fb9f3a\"], [0.8888888888888888, \"#fdca26\"], [1.0, \"#f0f921\"]], \"type\": \"histogram2dcontour\"}], \"mesh3d\": [{\"colorbar\": {\"outlinewidth\": 0, \"ticks\": \"\"}, \"type\": \"mesh3d\"}], \"parcoords\": [{\"line\": {\"colorbar\": {\"outlinewidth\": 0, \"ticks\": \"\"}}, \"type\": \"parcoords\"}], \"pie\": [{\"automargin\": true, \"type\": \"pie\"}], \"scatter\": [{\"marker\": {\"colorbar\": {\"outlinewidth\": 0, \"ticks\": \"\"}}, \"type\": \"scatter\"}], \"scatter3d\": [{\"line\": {\"colorbar\": {\"outlinewidth\": 0, \"ticks\": \"\"}}, \"marker\": {\"colorbar\": {\"outlinewidth\": 0, \"ticks\": \"\"}}, \"type\": \"scatter3d\"}], \"scattercarpet\": [{\"marker\": {\"colorbar\": {\"outlinewidth\": 0, \"ticks\": \"\"}}, \"type\": \"scattercarpet\"}], \"scattergeo\": [{\"marker\": {\"colorbar\": {\"outlinewidth\": 0, \"ticks\": \"\"}}, \"type\": \"scattergeo\"}], \"scattergl\": [{\"marker\": {\"colorbar\": {\"outlinewidth\": 0, \"ticks\": \"\"}}, \"type\": \"scattergl\"}], \"scattermapbox\": [{\"marker\": {\"colorbar\": {\"outlinewidth\": 0, \"ticks\": \"\"}}, \"type\": \"scattermapbox\"}], \"scatterpolar\": [{\"marker\": {\"colorbar\": {\"outlinewidth\": 0, \"ticks\": \"\"}}, \"type\": \"scatterpolar\"}], \"scatterpolargl\": [{\"marker\": {\"colorbar\": {\"outlinewidth\": 0, \"ticks\": \"\"}}, \"type\": \"scatterpolargl\"}], \"scatterternary\": [{\"marker\": {\"colorbar\": {\"outlinewidth\": 0, \"ticks\": \"\"}}, \"type\": \"scatterternary\"}], \"surface\": [{\"colorbar\": {\"outlinewidth\": 0, \"ticks\": \"\"}, \"colorscale\": [[0.0, \"#0d0887\"], [0.1111111111111111, \"#46039f\"], [0.2222222222222222, \"#7201a8\"], [0.3333333333333333, \"#9c179e\"], [0.4444444444444444, \"#bd3786\"], [0.5555555555555556, \"#d8576b\"], [0.6666666666666666, \"#ed7953\"], [0.7777777777777778, \"#fb9f3a\"], [0.8888888888888888, \"#fdca26\"], [1.0, \"#f0f921\"]], \"type\": \"surface\"}], \"table\": [{\"cells\": {\"fill\": {\"color\": \"#EBF0F8\"}, \"line\": {\"color\": \"white\"}}, \"header\": {\"fill\": {\"color\": \"#C8D4E3\"}, \"line\": {\"color\": \"white\"}}, \"type\": \"table\"}]}, \"layout\": {\"annotationdefaults\": {\"arrowcolor\": \"#2a3f5f\", \"arrowhead\": 0, \"arrowwidth\": 1}, \"coloraxis\": {\"colorbar\": {\"outlinewidth\": 0, \"ticks\": \"\"}}, \"colorscale\": {\"diverging\": [[0, \"#8e0152\"], [0.1, \"#c51b7d\"], [0.2, \"#de77ae\"], [0.3, \"#f1b6da\"], [0.4, \"#fde0ef\"], [0.5, \"#f7f7f7\"], [0.6, \"#e6f5d0\"], [0.7, \"#b8e186\"], [0.8, \"#7fbc41\"], [0.9, \"#4d9221\"], [1, \"#276419\"]], \"sequential\": [[0.0, \"#0d0887\"], [0.1111111111111111, \"#46039f\"], [0.2222222222222222, \"#7201a8\"], [0.3333333333333333, \"#9c179e\"], [0.4444444444444444, \"#bd3786\"], [0.5555555555555556, \"#d8576b\"], [0.6666666666666666, \"#ed7953\"], [0.7777777777777778, \"#fb9f3a\"], [0.8888888888888888, \"#fdca26\"], [1.0, \"#f0f921\"]], \"sequentialminus\": [[0.0, \"#0d0887\"], [0.1111111111111111, \"#46039f\"], [0.2222222222222222, \"#7201a8\"], [0.3333333333333333, \"#9c179e\"], [0.4444444444444444, \"#bd3786\"], [0.5555555555555556, \"#d8576b\"], [0.6666666666666666, \"#ed7953\"], [0.7777777777777778, \"#fb9f3a\"], [0.8888888888888888, \"#fdca26\"], [1.0, \"#f0f921\"]]}, \"colorway\": [\"#636efa\", \"#EF553B\", \"#00cc96\", \"#ab63fa\", \"#FFA15A\", \"#19d3f3\", \"#FF6692\", \"#B6E880\", \"#FF97FF\", \"#FECB52\"], \"font\": {\"color\": \"#2a3f5f\"}, \"geo\": {\"bgcolor\": \"white\", \"lakecolor\": \"white\", \"landcolor\": \"#E5ECF6\", \"showlakes\": true, \"showland\": true, \"subunitcolor\": \"white\"}, \"hoverlabel\": {\"align\": \"left\"}, \"hovermode\": \"closest\", \"mapbox\": {\"style\": \"light\"}, \"paper_bgcolor\": \"white\", \"plot_bgcolor\": \"#E5ECF6\", \"polar\": {\"angularaxis\": {\"gridcolor\": \"white\", \"linecolor\": \"white\", \"ticks\": \"\"}, \"bgcolor\": \"#E5ECF6\", \"radialaxis\": {\"gridcolor\": \"white\", \"linecolor\": \"white\", \"ticks\": \"\"}}, \"scene\": {\"xaxis\": {\"backgroundcolor\": \"#E5ECF6\", \"gridcolor\": \"white\", \"gridwidth\": 2, \"linecolor\": \"white\", \"showbackground\": true, \"ticks\": \"\", \"zerolinecolor\": \"white\"}, \"yaxis\": {\"backgroundcolor\": \"#E5ECF6\", \"gridcolor\": \"white\", \"gridwidth\": 2, \"linecolor\": \"white\", \"showbackground\": true, \"ticks\": \"\", \"zerolinecolor\": \"white\"}, \"zaxis\": {\"backgroundcolor\": \"#E5ECF6\", \"gridcolor\": \"white\", \"gridwidth\": 2, \"linecolor\": \"white\", \"showbackground\": true, \"ticks\": \"\", \"zerolinecolor\": \"white\"}}, \"shapedefaults\": {\"line\": {\"color\": \"#2a3f5f\"}}, \"ternary\": {\"aaxis\": {\"gridcolor\": \"white\", \"linecolor\": \"white\", \"ticks\": \"\"}, \"baxis\": {\"gridcolor\": \"white\", \"linecolor\": \"white\", \"ticks\": \"\"}, \"bgcolor\": \"#E5ECF6\", \"caxis\": {\"gridcolor\": \"white\", \"linecolor\": \"white\", \"ticks\": \"\"}}, \"title\": {\"x\": 0.05}, \"xaxis\": {\"automargin\": true, \"gridcolor\": \"white\", \"linecolor\": \"white\", \"ticks\": \"\", \"title\": {\"standoff\": 15}, \"zerolinecolor\": \"white\", \"zerolinewidth\": 2}, \"yaxis\": {\"automargin\": true, \"gridcolor\": \"white\", \"linecolor\": \"white\", \"ticks\": \"\", \"title\": {\"standoff\": 15}, \"zerolinecolor\": \"white\", \"zerolinewidth\": 2}}}, \"title\": {\"text\": \"Income statement Last Quarter for IBM\"}, \"yaxis\": {\"title\": {\"text\": \"USD ($)\"}}},\n",
       "                        {\"responsive\": true}\n",
       "                    ).then(function(){\n",
       "                            \n",
       "var gd = document.getElementById('8875524b-86ae-4c3d-99d4-91de113460de');\n",
       "var x = new MutationObserver(function (mutations, observer) {{\n",
       "        var display = window.getComputedStyle(gd).display;\n",
       "        if (!display || display === 'none') {{\n",
       "            console.log([gd, 'removed!']);\n",
       "            Plotly.purge(gd);\n",
       "            observer.disconnect();\n",
       "        }}\n",
       "}});\n",
       "\n",
       "// Listen for the removal of the full notebook cells\n",
       "var notebookContainer = gd.closest('#notebook-container');\n",
       "if (notebookContainer) {{\n",
       "    x.observe(notebookContainer, {childList: true});\n",
       "}}\n",
       "\n",
       "// Listen for the clearing of the current output cell\n",
       "var outputEl = gd.closest('.output');\n",
       "if (outputEl) {{\n",
       "    x.observe(outputEl, {childList: true});\n",
       "}}\n",
       "\n",
       "                        })\n",
       "                };\n",
       "                });\n",
       "            </script>\n",
       "        </div>"
      ]
     },
     "metadata": {},
     "output_type": "display_data"
    }
   ],
   "source": [
    "# Getting the values text of the last quarter financials\n",
    "measures, columns, values, text = setup_waterfall_chart(financials, 0)\n",
    "\n",
    "# Creating the waterfall chart of the last quarter profit and loss statement\n",
    "fig = go.Figure(go.Waterfall(\n",
    "    name = \"20\", orientation = \"v\",\n",
    "    measure = measures,\n",
    "    x = columns,\n",
    "    textposition = \"outside\",\n",
    "    text = text ,\n",
    "    y = values,\n",
    "    connector = {\"line\":{\"color\":\"rgb(63, 63, 63)\"}},\n",
    "))\n",
    "\n",
    "fig.update_layout(\n",
    "        title = \"Income statement Last Quarter for {}\".format(ticker),\n",
    "        showlegend = True,\n",
    "        yaxis_title=\"USD ($)\",\n",
    ")\n",
    "\n",
    "fig.show()"
   ]
  },
  {
   "cell_type": "markdown",
   "metadata": {},
   "source": [
    "### 2.2 Revenue Analysis"
   ]
  },
  {
   "cell_type": "markdown",
   "metadata": {},
   "source": [
    "#### Revenue Growth"
   ]
  },
  {
   "cell_type": "markdown",
   "metadata": {},
   "source": [
    "Revenue growth is the increase (or decrease) in a company’s sales from one period to the next. \n",
    "\n",
    "Shown as a percentage, revenue growth illustrates the increases and decreases over time identifying trends in the business."
   ]
  },
  {
   "cell_type": "code",
   "execution_count": 36,
   "metadata": {},
   "outputs": [
    {
     "data": {
      "text/plain": [
       "array([ 0.        ,  0.        ,  0.        ,  0.        ,  0.        ,\n",
       "        0.        ,  0.        ,  0.        ,  0.        ,  0.        ,\n",
       "        0.        ,  0.        ,  0.        ,  0.        ,  0.        ,\n",
       "        0.        ,  0.        ,  0.        ,  0.        ,  0.        ,\n",
       "        0.        ,  0.        ,  0.        ,  0.        , -0.19722734,\n",
       "        0.        ,  0.        ,  0.        ,  0.        ,  0.        ,\n",
       "        0.        ,  0.        ,  0.        ,  0.        ,  0.        ,\n",
       "        0.        ,  0.        ,  0.        ,  0.        ,  0.        ,\n",
       "        0.        ,  0.15547823,  0.0135914 , -0.1331    ])"
      ]
     },
     "execution_count": 36,
     "metadata": {},
     "output_type": "execute_result"
    }
   ],
   "source": [
    "financials['Revenue Growth'].values"
   ]
  },
  {
   "cell_type": "markdown",
   "metadata": {},
   "source": [
    "This Ratio is **not calculated**, in our financial data, let's fix it. We are going to calculated the Revenue growth as :\n",
    "\n",
    "$$ \\cfrac{RevenueQuarter_{n} - Revenue Quarter_{n - 1}} {Revenue Quarter_{n - 1}}  $$"
   ]
  },
  {
   "cell_type": "code",
   "execution_count": 37,
   "metadata": {},
   "outputs": [
    {
     "data": {
      "text/plain": [
       "True"
      ]
     },
     "execution_count": 37,
     "metadata": {},
     "output_type": "execute_result"
    }
   ],
   "source": [
    "# chekcing for errors (zero values) in the financials Revenue column\n",
    "0 in financials['Revenue'].values"
   ]
  },
  {
   "cell_type": "code",
   "execution_count": 38,
   "metadata": {},
   "outputs": [
    {
     "data": {
      "text/html": [
       "<div>\n",
       "<style scoped>\n",
       "    .dataframe tbody tr th:only-of-type {\n",
       "        vertical-align: middle;\n",
       "    }\n",
       "\n",
       "    .dataframe tbody tr th {\n",
       "        vertical-align: top;\n",
       "    }\n",
       "\n",
       "    .dataframe thead th {\n",
       "        text-align: right;\n",
       "    }\n",
       "</style>\n",
       "<table border=\"1\" class=\"dataframe\">\n",
       "  <thead>\n",
       "    <tr style=\"text-align: right;\">\n",
       "      <th></th>\n",
       "      <th>Revenue</th>\n",
       "      <th>Revenue Growth</th>\n",
       "      <th>Cost of Revenue</th>\n",
       "      <th>Gross Profit</th>\n",
       "      <th>R&amp;D Expenses</th>\n",
       "      <th>SG&amp;A Expense</th>\n",
       "      <th>Operating Expenses</th>\n",
       "      <th>Operating Income</th>\n",
       "      <th>Interest Expense</th>\n",
       "      <th>Earnings before Tax</th>\n",
       "      <th>...</th>\n",
       "      <th>Gross Margin</th>\n",
       "      <th>EBITDA Margin</th>\n",
       "      <th>EBIT Margin</th>\n",
       "      <th>Profit Margin</th>\n",
       "      <th>Free Cash Flow margin</th>\n",
       "      <th>EBITDA</th>\n",
       "      <th>EBIT</th>\n",
       "      <th>Consolidated Income</th>\n",
       "      <th>Earnings Before Tax Margin</th>\n",
       "      <th>Net Profit Margin</th>\n",
       "    </tr>\n",
       "    <tr>\n",
       "      <th>date</th>\n",
       "      <th></th>\n",
       "      <th></th>\n",
       "      <th></th>\n",
       "      <th></th>\n",
       "      <th></th>\n",
       "      <th></th>\n",
       "      <th></th>\n",
       "      <th></th>\n",
       "      <th></th>\n",
       "      <th></th>\n",
       "      <th></th>\n",
       "      <th></th>\n",
       "      <th></th>\n",
       "      <th></th>\n",
       "      <th></th>\n",
       "      <th></th>\n",
       "      <th></th>\n",
       "      <th></th>\n",
       "      <th></th>\n",
       "      <th></th>\n",
       "      <th></th>\n",
       "    </tr>\n",
       "  </thead>\n",
       "  <tbody>\n",
       "    <tr>\n",
       "      <td>2014-04-29</td>\n",
       "      <td>0.0</td>\n",
       "      <td>0.0</td>\n",
       "      <td>0.0</td>\n",
       "      <td>0.0</td>\n",
       "      <td>0.0</td>\n",
       "      <td>0.0</td>\n",
       "      <td>0.0</td>\n",
       "      <td>0.0</td>\n",
       "      <td>0.0</td>\n",
       "      <td>0.0</td>\n",
       "      <td>...</td>\n",
       "      <td>0.0</td>\n",
       "      <td>0.0</td>\n",
       "      <td>0.0</td>\n",
       "      <td>0.0</td>\n",
       "      <td>0.0</td>\n",
       "      <td>0.0</td>\n",
       "      <td>0.0</td>\n",
       "      <td>0.0</td>\n",
       "      <td>0.0</td>\n",
       "      <td>0.0</td>\n",
       "    </tr>\n",
       "  </tbody>\n",
       "</table>\n",
       "<p>1 rows × 31 columns</p>\n",
       "</div>"
      ],
      "text/plain": [
       "            Revenue  Revenue Growth  Cost of Revenue  Gross Profit  \\\n",
       "date                                                                 \n",
       "2014-04-29      0.0             0.0              0.0           0.0   \n",
       "\n",
       "            R&D Expenses  SG&A Expense  Operating Expenses  Operating Income  \\\n",
       "date                                                                           \n",
       "2014-04-29           0.0           0.0                 0.0               0.0   \n",
       "\n",
       "            Interest Expense  Earnings before Tax  ...  Gross Margin  \\\n",
       "date                                               ...                 \n",
       "2014-04-29               0.0                  0.0  ...           0.0   \n",
       "\n",
       "            EBITDA Margin  EBIT Margin  Profit Margin  Free Cash Flow margin  \\\n",
       "date                                                                           \n",
       "2014-04-29            0.0          0.0            0.0                    0.0   \n",
       "\n",
       "            EBITDA  EBIT  Consolidated Income  Earnings Before Tax Margin  \\\n",
       "date                                                                        \n",
       "2014-04-29     0.0   0.0                  0.0                         0.0   \n",
       "\n",
       "            Net Profit Margin  \n",
       "date                           \n",
       "2014-04-29                0.0  \n",
       "\n",
       "[1 rows x 31 columns]"
      ]
     },
     "execution_count": 38,
     "metadata": {},
     "output_type": "execute_result"
    }
   ],
   "source": [
    "# There is a null values, It corresponds to the date(s)\n",
    "financials[financials['Revenue'].values == 0]"
   ]
  },
  {
   "cell_type": "markdown",
   "metadata": {},
   "source": [
    "We see that the row is empty, but shall we already drop it ? \n",
    "\n",
    "**No** ! we have to determine the reality of the problem\n",
    "- Is it a typing error ?\n",
    "- Will it create another error if we drop ?\n",
    "\n",
    "Lets plot the revenue to have a better idea"
   ]
  },
  {
   "cell_type": "code",
   "execution_count": 39,
   "metadata": {},
   "outputs": [
    {
     "data": {
      "application/vnd.plotly.v1+json": {
       "config": {
        "plotlyServerURL": "https://plot.ly"
       },
       "data": [
        {
         "hoverlabel": {
          "namelength": 0
         },
         "hovertemplate": "x=%{x}<br>Revenue=%{y}",
         "legendgroup": "",
         "line": {
          "color": "#636efa",
          "dash": "solid"
         },
         "mode": "lines",
         "name": "",
         "showlegend": false,
         "type": "scatter",
         "x": [
          "2019-12-31T00:00:00",
          "2019-09-30T00:00:00",
          "2019-06-30T00:00:00",
          "2019-03-31T00:00:00",
          "2018-12-31T00:00:00",
          "2018-09-30T00:00:00",
          "2018-06-30T00:00:00",
          "2018-03-31T00:00:00",
          "2017-12-31T00:00:00",
          "2017-09-30T00:00:00",
          "2017-06-30T00:00:00",
          "2017-03-31T00:00:00",
          "2016-12-31T00:00:00",
          "2016-09-30T00:00:00",
          "2016-06-30T00:00:00",
          "2016-03-31T00:00:00",
          "2015-12-31T00:00:00",
          "2015-09-30T00:00:00",
          "2015-06-30T00:00:00",
          "2015-03-31T00:00:00",
          "2014-12-31T00:00:00",
          "2014-09-30T00:00:00",
          "2014-06-30T00:00:00",
          "2014-04-29T00:00:00",
          "2014-03-31T00:00:00",
          "2013-12-31T00:00:00",
          "2013-09-30T00:00:00",
          "2013-06-30T00:00:00",
          "2013-03-31T00:00:00",
          "2012-12-31T00:00:00",
          "2012-09-30T00:00:00",
          "2012-06-30T00:00:00",
          "2012-03-31T00:00:00",
          "2011-12-31T00:00:00",
          "2011-09-30T00:00:00",
          "2011-06-30T00:00:00",
          "2011-03-31T00:00:00",
          "2010-12-31T00:00:00",
          "2010-09-30T00:00:00",
          "2010-06-30T00:00:00",
          "2010-03-31T00:00:00",
          "2009-12-31T00:00:00",
          "2009-09-30T00:00:00",
          "2009-06-30T00:00:00"
         ],
         "xaxis": "x",
         "y": [
          21777000000,
          18028000000,
          19160000000,
          18182000000,
          21761000000,
          18755000000,
          20003000000,
          19072000000,
          22542000000,
          19154000000,
          19288000000,
          18155000000,
          21770000000,
          19226000000,
          20239000000,
          18684000000,
          22059000000,
          19279000000,
          20813000000,
          19590000000,
          24113000000,
          21832000000,
          46848000000,
          0,
          22236000000,
          27699000000,
          23720000000,
          24924000000,
          23408000000,
          29304000000,
          24747000000,
          25783000000,
          24673000000,
          29486000000,
          26157000000,
          26666000000,
          24607000000,
          29018000000,
          24271000000,
          23724000000,
          22857000000,
          27230000000,
          23566000000,
          23250000000
         ],
         "yaxis": "y"
        }
       ],
       "layout": {
        "legend": {
         "tracegroupgap": 0
        },
        "margin": {
         "t": 60
        },
        "showlegend": true,
        "template": {
         "data": {
          "bar": [
           {
            "error_x": {
             "color": "#2a3f5f"
            },
            "error_y": {
             "color": "#2a3f5f"
            },
            "marker": {
             "line": {
              "color": "#E5ECF6",
              "width": 0.5
             }
            },
            "type": "bar"
           }
          ],
          "barpolar": [
           {
            "marker": {
             "line": {
              "color": "#E5ECF6",
              "width": 0.5
             }
            },
            "type": "barpolar"
           }
          ],
          "carpet": [
           {
            "aaxis": {
             "endlinecolor": "#2a3f5f",
             "gridcolor": "white",
             "linecolor": "white",
             "minorgridcolor": "white",
             "startlinecolor": "#2a3f5f"
            },
            "baxis": {
             "endlinecolor": "#2a3f5f",
             "gridcolor": "white",
             "linecolor": "white",
             "minorgridcolor": "white",
             "startlinecolor": "#2a3f5f"
            },
            "type": "carpet"
           }
          ],
          "choropleth": [
           {
            "colorbar": {
             "outlinewidth": 0,
             "ticks": ""
            },
            "type": "choropleth"
           }
          ],
          "contour": [
           {
            "colorbar": {
             "outlinewidth": 0,
             "ticks": ""
            },
            "colorscale": [
             [
              0,
              "#0d0887"
             ],
             [
              0.1111111111111111,
              "#46039f"
             ],
             [
              0.2222222222222222,
              "#7201a8"
             ],
             [
              0.3333333333333333,
              "#9c179e"
             ],
             [
              0.4444444444444444,
              "#bd3786"
             ],
             [
              0.5555555555555556,
              "#d8576b"
             ],
             [
              0.6666666666666666,
              "#ed7953"
             ],
             [
              0.7777777777777778,
              "#fb9f3a"
             ],
             [
              0.8888888888888888,
              "#fdca26"
             ],
             [
              1,
              "#f0f921"
             ]
            ],
            "type": "contour"
           }
          ],
          "contourcarpet": [
           {
            "colorbar": {
             "outlinewidth": 0,
             "ticks": ""
            },
            "type": "contourcarpet"
           }
          ],
          "heatmap": [
           {
            "colorbar": {
             "outlinewidth": 0,
             "ticks": ""
            },
            "colorscale": [
             [
              0,
              "#0d0887"
             ],
             [
              0.1111111111111111,
              "#46039f"
             ],
             [
              0.2222222222222222,
              "#7201a8"
             ],
             [
              0.3333333333333333,
              "#9c179e"
             ],
             [
              0.4444444444444444,
              "#bd3786"
             ],
             [
              0.5555555555555556,
              "#d8576b"
             ],
             [
              0.6666666666666666,
              "#ed7953"
             ],
             [
              0.7777777777777778,
              "#fb9f3a"
             ],
             [
              0.8888888888888888,
              "#fdca26"
             ],
             [
              1,
              "#f0f921"
             ]
            ],
            "type": "heatmap"
           }
          ],
          "heatmapgl": [
           {
            "colorbar": {
             "outlinewidth": 0,
             "ticks": ""
            },
            "colorscale": [
             [
              0,
              "#0d0887"
             ],
             [
              0.1111111111111111,
              "#46039f"
             ],
             [
              0.2222222222222222,
              "#7201a8"
             ],
             [
              0.3333333333333333,
              "#9c179e"
             ],
             [
              0.4444444444444444,
              "#bd3786"
             ],
             [
              0.5555555555555556,
              "#d8576b"
             ],
             [
              0.6666666666666666,
              "#ed7953"
             ],
             [
              0.7777777777777778,
              "#fb9f3a"
             ],
             [
              0.8888888888888888,
              "#fdca26"
             ],
             [
              1,
              "#f0f921"
             ]
            ],
            "type": "heatmapgl"
           }
          ],
          "histogram": [
           {
            "marker": {
             "colorbar": {
              "outlinewidth": 0,
              "ticks": ""
             }
            },
            "type": "histogram"
           }
          ],
          "histogram2d": [
           {
            "colorbar": {
             "outlinewidth": 0,
             "ticks": ""
            },
            "colorscale": [
             [
              0,
              "#0d0887"
             ],
             [
              0.1111111111111111,
              "#46039f"
             ],
             [
              0.2222222222222222,
              "#7201a8"
             ],
             [
              0.3333333333333333,
              "#9c179e"
             ],
             [
              0.4444444444444444,
              "#bd3786"
             ],
             [
              0.5555555555555556,
              "#d8576b"
             ],
             [
              0.6666666666666666,
              "#ed7953"
             ],
             [
              0.7777777777777778,
              "#fb9f3a"
             ],
             [
              0.8888888888888888,
              "#fdca26"
             ],
             [
              1,
              "#f0f921"
             ]
            ],
            "type": "histogram2d"
           }
          ],
          "histogram2dcontour": [
           {
            "colorbar": {
             "outlinewidth": 0,
             "ticks": ""
            },
            "colorscale": [
             [
              0,
              "#0d0887"
             ],
             [
              0.1111111111111111,
              "#46039f"
             ],
             [
              0.2222222222222222,
              "#7201a8"
             ],
             [
              0.3333333333333333,
              "#9c179e"
             ],
             [
              0.4444444444444444,
              "#bd3786"
             ],
             [
              0.5555555555555556,
              "#d8576b"
             ],
             [
              0.6666666666666666,
              "#ed7953"
             ],
             [
              0.7777777777777778,
              "#fb9f3a"
             ],
             [
              0.8888888888888888,
              "#fdca26"
             ],
             [
              1,
              "#f0f921"
             ]
            ],
            "type": "histogram2dcontour"
           }
          ],
          "mesh3d": [
           {
            "colorbar": {
             "outlinewidth": 0,
             "ticks": ""
            },
            "type": "mesh3d"
           }
          ],
          "parcoords": [
           {
            "line": {
             "colorbar": {
              "outlinewidth": 0,
              "ticks": ""
             }
            },
            "type": "parcoords"
           }
          ],
          "pie": [
           {
            "automargin": true,
            "type": "pie"
           }
          ],
          "scatter": [
           {
            "marker": {
             "colorbar": {
              "outlinewidth": 0,
              "ticks": ""
             }
            },
            "type": "scatter"
           }
          ],
          "scatter3d": [
           {
            "line": {
             "colorbar": {
              "outlinewidth": 0,
              "ticks": ""
             }
            },
            "marker": {
             "colorbar": {
              "outlinewidth": 0,
              "ticks": ""
             }
            },
            "type": "scatter3d"
           }
          ],
          "scattercarpet": [
           {
            "marker": {
             "colorbar": {
              "outlinewidth": 0,
              "ticks": ""
             }
            },
            "type": "scattercarpet"
           }
          ],
          "scattergeo": [
           {
            "marker": {
             "colorbar": {
              "outlinewidth": 0,
              "ticks": ""
             }
            },
            "type": "scattergeo"
           }
          ],
          "scattergl": [
           {
            "marker": {
             "colorbar": {
              "outlinewidth": 0,
              "ticks": ""
             }
            },
            "type": "scattergl"
           }
          ],
          "scattermapbox": [
           {
            "marker": {
             "colorbar": {
              "outlinewidth": 0,
              "ticks": ""
             }
            },
            "type": "scattermapbox"
           }
          ],
          "scatterpolar": [
           {
            "marker": {
             "colorbar": {
              "outlinewidth": 0,
              "ticks": ""
             }
            },
            "type": "scatterpolar"
           }
          ],
          "scatterpolargl": [
           {
            "marker": {
             "colorbar": {
              "outlinewidth": 0,
              "ticks": ""
             }
            },
            "type": "scatterpolargl"
           }
          ],
          "scatterternary": [
           {
            "marker": {
             "colorbar": {
              "outlinewidth": 0,
              "ticks": ""
             }
            },
            "type": "scatterternary"
           }
          ],
          "surface": [
           {
            "colorbar": {
             "outlinewidth": 0,
             "ticks": ""
            },
            "colorscale": [
             [
              0,
              "#0d0887"
             ],
             [
              0.1111111111111111,
              "#46039f"
             ],
             [
              0.2222222222222222,
              "#7201a8"
             ],
             [
              0.3333333333333333,
              "#9c179e"
             ],
             [
              0.4444444444444444,
              "#bd3786"
             ],
             [
              0.5555555555555556,
              "#d8576b"
             ],
             [
              0.6666666666666666,
              "#ed7953"
             ],
             [
              0.7777777777777778,
              "#fb9f3a"
             ],
             [
              0.8888888888888888,
              "#fdca26"
             ],
             [
              1,
              "#f0f921"
             ]
            ],
            "type": "surface"
           }
          ],
          "table": [
           {
            "cells": {
             "fill": {
              "color": "#EBF0F8"
             },
             "line": {
              "color": "white"
             }
            },
            "header": {
             "fill": {
              "color": "#C8D4E3"
             },
             "line": {
              "color": "white"
             }
            },
            "type": "table"
           }
          ]
         },
         "layout": {
          "annotationdefaults": {
           "arrowcolor": "#2a3f5f",
           "arrowhead": 0,
           "arrowwidth": 1
          },
          "coloraxis": {
           "colorbar": {
            "outlinewidth": 0,
            "ticks": ""
           }
          },
          "colorscale": {
           "diverging": [
            [
             0,
             "#8e0152"
            ],
            [
             0.1,
             "#c51b7d"
            ],
            [
             0.2,
             "#de77ae"
            ],
            [
             0.3,
             "#f1b6da"
            ],
            [
             0.4,
             "#fde0ef"
            ],
            [
             0.5,
             "#f7f7f7"
            ],
            [
             0.6,
             "#e6f5d0"
            ],
            [
             0.7,
             "#b8e186"
            ],
            [
             0.8,
             "#7fbc41"
            ],
            [
             0.9,
             "#4d9221"
            ],
            [
             1,
             "#276419"
            ]
           ],
           "sequential": [
            [
             0,
             "#0d0887"
            ],
            [
             0.1111111111111111,
             "#46039f"
            ],
            [
             0.2222222222222222,
             "#7201a8"
            ],
            [
             0.3333333333333333,
             "#9c179e"
            ],
            [
             0.4444444444444444,
             "#bd3786"
            ],
            [
             0.5555555555555556,
             "#d8576b"
            ],
            [
             0.6666666666666666,
             "#ed7953"
            ],
            [
             0.7777777777777778,
             "#fb9f3a"
            ],
            [
             0.8888888888888888,
             "#fdca26"
            ],
            [
             1,
             "#f0f921"
            ]
           ],
           "sequentialminus": [
            [
             0,
             "#0d0887"
            ],
            [
             0.1111111111111111,
             "#46039f"
            ],
            [
             0.2222222222222222,
             "#7201a8"
            ],
            [
             0.3333333333333333,
             "#9c179e"
            ],
            [
             0.4444444444444444,
             "#bd3786"
            ],
            [
             0.5555555555555556,
             "#d8576b"
            ],
            [
             0.6666666666666666,
             "#ed7953"
            ],
            [
             0.7777777777777778,
             "#fb9f3a"
            ],
            [
             0.8888888888888888,
             "#fdca26"
            ],
            [
             1,
             "#f0f921"
            ]
           ]
          },
          "colorway": [
           "#636efa",
           "#EF553B",
           "#00cc96",
           "#ab63fa",
           "#FFA15A",
           "#19d3f3",
           "#FF6692",
           "#B6E880",
           "#FF97FF",
           "#FECB52"
          ],
          "font": {
           "color": "#2a3f5f"
          },
          "geo": {
           "bgcolor": "white",
           "lakecolor": "white",
           "landcolor": "#E5ECF6",
           "showlakes": true,
           "showland": true,
           "subunitcolor": "white"
          },
          "hoverlabel": {
           "align": "left"
          },
          "hovermode": "closest",
          "mapbox": {
           "style": "light"
          },
          "paper_bgcolor": "white",
          "plot_bgcolor": "#E5ECF6",
          "polar": {
           "angularaxis": {
            "gridcolor": "white",
            "linecolor": "white",
            "ticks": ""
           },
           "bgcolor": "#E5ECF6",
           "radialaxis": {
            "gridcolor": "white",
            "linecolor": "white",
            "ticks": ""
           }
          },
          "scene": {
           "xaxis": {
            "backgroundcolor": "#E5ECF6",
            "gridcolor": "white",
            "gridwidth": 2,
            "linecolor": "white",
            "showbackground": true,
            "ticks": "",
            "zerolinecolor": "white"
           },
           "yaxis": {
            "backgroundcolor": "#E5ECF6",
            "gridcolor": "white",
            "gridwidth": 2,
            "linecolor": "white",
            "showbackground": true,
            "ticks": "",
            "zerolinecolor": "white"
           },
           "zaxis": {
            "backgroundcolor": "#E5ECF6",
            "gridcolor": "white",
            "gridwidth": 2,
            "linecolor": "white",
            "showbackground": true,
            "ticks": "",
            "zerolinecolor": "white"
           }
          },
          "shapedefaults": {
           "line": {
            "color": "#2a3f5f"
           }
          },
          "ternary": {
           "aaxis": {
            "gridcolor": "white",
            "linecolor": "white",
            "ticks": ""
           },
           "baxis": {
            "gridcolor": "white",
            "linecolor": "white",
            "ticks": ""
           },
           "bgcolor": "#E5ECF6",
           "caxis": {
            "gridcolor": "white",
            "linecolor": "white",
            "ticks": ""
           }
          },
          "title": {
           "x": 0.05
          },
          "xaxis": {
           "automargin": true,
           "gridcolor": "white",
           "linecolor": "white",
           "ticks": "",
           "title": {
            "standoff": 15
           },
           "zerolinecolor": "white",
           "zerolinewidth": 2
          },
          "yaxis": {
           "automargin": true,
           "gridcolor": "white",
           "linecolor": "white",
           "ticks": "",
           "title": {
            "standoff": 15
           },
           "zerolinecolor": "white",
           "zerolinewidth": 2
          }
         }
        },
        "title": {
         "text": "False Revenue of IBM per Date"
        },
        "xaxis": {
         "anchor": "y",
         "domain": [
          0,
          1
         ],
         "title": {
          "text": "Date"
         }
        },
        "yaxis": {
         "anchor": "x",
         "domain": [
          0,
          1
         ],
         "title": {
          "text": "USD ($)"
         }
        }
       }
      },
      "text/html": [
       "<div>\n",
       "        \n",
       "        \n",
       "            <div id=\"98637a99-bd86-4e68-a2a2-6e2d920fdf6a\" class=\"plotly-graph-div\" style=\"height:525px; width:100%;\"></div>\n",
       "            <script type=\"text/javascript\">\n",
       "                require([\"plotly\"], function(Plotly) {\n",
       "                    window.PLOTLYENV=window.PLOTLYENV || {};\n",
       "                    \n",
       "                if (document.getElementById(\"98637a99-bd86-4e68-a2a2-6e2d920fdf6a\")) {\n",
       "                    Plotly.newPlot(\n",
       "                        '98637a99-bd86-4e68-a2a2-6e2d920fdf6a',\n",
       "                        [{\"hoverlabel\": {\"namelength\": 0}, \"hovertemplate\": \"x=%{x}<br>Revenue=%{y}\", \"legendgroup\": \"\", \"line\": {\"color\": \"#636efa\", \"dash\": \"solid\"}, \"mode\": \"lines\", \"name\": \"\", \"showlegend\": false, \"type\": \"scatter\", \"x\": [\"2019-12-31T00:00:00\", \"2019-09-30T00:00:00\", \"2019-06-30T00:00:00\", \"2019-03-31T00:00:00\", \"2018-12-31T00:00:00\", \"2018-09-30T00:00:00\", \"2018-06-30T00:00:00\", \"2018-03-31T00:00:00\", \"2017-12-31T00:00:00\", \"2017-09-30T00:00:00\", \"2017-06-30T00:00:00\", \"2017-03-31T00:00:00\", \"2016-12-31T00:00:00\", \"2016-09-30T00:00:00\", \"2016-06-30T00:00:00\", \"2016-03-31T00:00:00\", \"2015-12-31T00:00:00\", \"2015-09-30T00:00:00\", \"2015-06-30T00:00:00\", \"2015-03-31T00:00:00\", \"2014-12-31T00:00:00\", \"2014-09-30T00:00:00\", \"2014-06-30T00:00:00\", \"2014-04-29T00:00:00\", \"2014-03-31T00:00:00\", \"2013-12-31T00:00:00\", \"2013-09-30T00:00:00\", \"2013-06-30T00:00:00\", \"2013-03-31T00:00:00\", \"2012-12-31T00:00:00\", \"2012-09-30T00:00:00\", \"2012-06-30T00:00:00\", \"2012-03-31T00:00:00\", \"2011-12-31T00:00:00\", \"2011-09-30T00:00:00\", \"2011-06-30T00:00:00\", \"2011-03-31T00:00:00\", \"2010-12-31T00:00:00\", \"2010-09-30T00:00:00\", \"2010-06-30T00:00:00\", \"2010-03-31T00:00:00\", \"2009-12-31T00:00:00\", \"2009-09-30T00:00:00\", \"2009-06-30T00:00:00\"], \"xaxis\": \"x\", \"y\": [21777000000.0, 18028000000.0, 19160000000.0, 18182000000.0, 21761000000.0, 18755000000.0, 20003000000.0, 19072000000.0, 22542000000.0, 19154000000.0, 19288000000.0, 18155000000.0, 21770000000.0, 19226000000.0, 20239000000.0, 18684000000.0, 22059000000.0, 19279000000.0, 20813000000.0, 19590000000.0, 24113000000.0, 21832000000.0, 46848000000.0, 0.0, 22236000000.0, 27699000000.0, 23720000000.0, 24924000000.0, 23408000000.0, 29304000000.0, 24747000000.0, 25783000000.0, 24673000000.0, 29486000000.0, 26157000000.0, 26666000000.0, 24607000000.0, 29018000000.0, 24271000000.0, 23724000000.0, 22857000000.0, 27230000000.0, 23566000000.0, 23250000000.0], \"yaxis\": \"y\"}],\n",
       "                        {\"legend\": {\"tracegroupgap\": 0}, \"margin\": {\"t\": 60}, \"showlegend\": true, \"template\": {\"data\": {\"bar\": [{\"error_x\": {\"color\": \"#2a3f5f\"}, \"error_y\": {\"color\": \"#2a3f5f\"}, \"marker\": {\"line\": {\"color\": \"#E5ECF6\", \"width\": 0.5}}, \"type\": \"bar\"}], \"barpolar\": [{\"marker\": {\"line\": {\"color\": \"#E5ECF6\", \"width\": 0.5}}, \"type\": \"barpolar\"}], \"carpet\": [{\"aaxis\": {\"endlinecolor\": \"#2a3f5f\", \"gridcolor\": \"white\", \"linecolor\": \"white\", \"minorgridcolor\": \"white\", \"startlinecolor\": \"#2a3f5f\"}, \"baxis\": {\"endlinecolor\": \"#2a3f5f\", \"gridcolor\": \"white\", \"linecolor\": \"white\", \"minorgridcolor\": \"white\", \"startlinecolor\": \"#2a3f5f\"}, \"type\": \"carpet\"}], \"choropleth\": [{\"colorbar\": {\"outlinewidth\": 0, \"ticks\": \"\"}, \"type\": \"choropleth\"}], \"contour\": [{\"colorbar\": {\"outlinewidth\": 0, \"ticks\": \"\"}, \"colorscale\": [[0.0, \"#0d0887\"], [0.1111111111111111, \"#46039f\"], [0.2222222222222222, \"#7201a8\"], [0.3333333333333333, \"#9c179e\"], [0.4444444444444444, \"#bd3786\"], [0.5555555555555556, \"#d8576b\"], [0.6666666666666666, \"#ed7953\"], [0.7777777777777778, \"#fb9f3a\"], [0.8888888888888888, \"#fdca26\"], [1.0, \"#f0f921\"]], \"type\": \"contour\"}], \"contourcarpet\": [{\"colorbar\": {\"outlinewidth\": 0, \"ticks\": \"\"}, \"type\": \"contourcarpet\"}], \"heatmap\": [{\"colorbar\": {\"outlinewidth\": 0, \"ticks\": \"\"}, \"colorscale\": [[0.0, \"#0d0887\"], [0.1111111111111111, \"#46039f\"], [0.2222222222222222, \"#7201a8\"], [0.3333333333333333, \"#9c179e\"], [0.4444444444444444, \"#bd3786\"], [0.5555555555555556, \"#d8576b\"], [0.6666666666666666, \"#ed7953\"], [0.7777777777777778, \"#fb9f3a\"], [0.8888888888888888, \"#fdca26\"], [1.0, \"#f0f921\"]], \"type\": \"heatmap\"}], \"heatmapgl\": [{\"colorbar\": {\"outlinewidth\": 0, \"ticks\": \"\"}, \"colorscale\": [[0.0, \"#0d0887\"], [0.1111111111111111, \"#46039f\"], [0.2222222222222222, \"#7201a8\"], [0.3333333333333333, \"#9c179e\"], [0.4444444444444444, \"#bd3786\"], [0.5555555555555556, \"#d8576b\"], [0.6666666666666666, \"#ed7953\"], [0.7777777777777778, \"#fb9f3a\"], [0.8888888888888888, \"#fdca26\"], [1.0, \"#f0f921\"]], \"type\": \"heatmapgl\"}], \"histogram\": [{\"marker\": {\"colorbar\": {\"outlinewidth\": 0, \"ticks\": \"\"}}, \"type\": \"histogram\"}], \"histogram2d\": [{\"colorbar\": {\"outlinewidth\": 0, \"ticks\": \"\"}, \"colorscale\": [[0.0, \"#0d0887\"], [0.1111111111111111, \"#46039f\"], [0.2222222222222222, \"#7201a8\"], [0.3333333333333333, \"#9c179e\"], [0.4444444444444444, \"#bd3786\"], [0.5555555555555556, \"#d8576b\"], [0.6666666666666666, \"#ed7953\"], [0.7777777777777778, \"#fb9f3a\"], [0.8888888888888888, \"#fdca26\"], [1.0, \"#f0f921\"]], \"type\": \"histogram2d\"}], \"histogram2dcontour\": [{\"colorbar\": {\"outlinewidth\": 0, \"ticks\": \"\"}, \"colorscale\": [[0.0, \"#0d0887\"], [0.1111111111111111, \"#46039f\"], [0.2222222222222222, \"#7201a8\"], [0.3333333333333333, \"#9c179e\"], [0.4444444444444444, \"#bd3786\"], [0.5555555555555556, \"#d8576b\"], [0.6666666666666666, \"#ed7953\"], [0.7777777777777778, \"#fb9f3a\"], [0.8888888888888888, \"#fdca26\"], [1.0, \"#f0f921\"]], \"type\": \"histogram2dcontour\"}], \"mesh3d\": [{\"colorbar\": {\"outlinewidth\": 0, \"ticks\": \"\"}, \"type\": \"mesh3d\"}], \"parcoords\": [{\"line\": {\"colorbar\": {\"outlinewidth\": 0, \"ticks\": \"\"}}, \"type\": \"parcoords\"}], \"pie\": [{\"automargin\": true, \"type\": \"pie\"}], \"scatter\": [{\"marker\": {\"colorbar\": {\"outlinewidth\": 0, \"ticks\": \"\"}}, \"type\": \"scatter\"}], \"scatter3d\": [{\"line\": {\"colorbar\": {\"outlinewidth\": 0, \"ticks\": \"\"}}, \"marker\": {\"colorbar\": {\"outlinewidth\": 0, \"ticks\": \"\"}}, \"type\": \"scatter3d\"}], \"scattercarpet\": [{\"marker\": {\"colorbar\": {\"outlinewidth\": 0, \"ticks\": \"\"}}, \"type\": \"scattercarpet\"}], \"scattergeo\": [{\"marker\": {\"colorbar\": {\"outlinewidth\": 0, \"ticks\": \"\"}}, \"type\": \"scattergeo\"}], \"scattergl\": [{\"marker\": {\"colorbar\": {\"outlinewidth\": 0, \"ticks\": \"\"}}, \"type\": \"scattergl\"}], \"scattermapbox\": [{\"marker\": {\"colorbar\": {\"outlinewidth\": 0, \"ticks\": \"\"}}, \"type\": \"scattermapbox\"}], \"scatterpolar\": [{\"marker\": {\"colorbar\": {\"outlinewidth\": 0, \"ticks\": \"\"}}, \"type\": \"scatterpolar\"}], \"scatterpolargl\": [{\"marker\": {\"colorbar\": {\"outlinewidth\": 0, \"ticks\": \"\"}}, \"type\": \"scatterpolargl\"}], \"scatterternary\": [{\"marker\": {\"colorbar\": {\"outlinewidth\": 0, \"ticks\": \"\"}}, \"type\": \"scatterternary\"}], \"surface\": [{\"colorbar\": {\"outlinewidth\": 0, \"ticks\": \"\"}, \"colorscale\": [[0.0, \"#0d0887\"], [0.1111111111111111, \"#46039f\"], [0.2222222222222222, \"#7201a8\"], [0.3333333333333333, \"#9c179e\"], [0.4444444444444444, \"#bd3786\"], [0.5555555555555556, \"#d8576b\"], [0.6666666666666666, \"#ed7953\"], [0.7777777777777778, \"#fb9f3a\"], [0.8888888888888888, \"#fdca26\"], [1.0, \"#f0f921\"]], \"type\": \"surface\"}], \"table\": [{\"cells\": {\"fill\": {\"color\": \"#EBF0F8\"}, \"line\": {\"color\": \"white\"}}, \"header\": {\"fill\": {\"color\": \"#C8D4E3\"}, \"line\": {\"color\": \"white\"}}, \"type\": \"table\"}]}, \"layout\": {\"annotationdefaults\": {\"arrowcolor\": \"#2a3f5f\", \"arrowhead\": 0, \"arrowwidth\": 1}, \"coloraxis\": {\"colorbar\": {\"outlinewidth\": 0, \"ticks\": \"\"}}, \"colorscale\": {\"diverging\": [[0, \"#8e0152\"], [0.1, \"#c51b7d\"], [0.2, \"#de77ae\"], [0.3, \"#f1b6da\"], [0.4, \"#fde0ef\"], [0.5, \"#f7f7f7\"], [0.6, \"#e6f5d0\"], [0.7, \"#b8e186\"], [0.8, \"#7fbc41\"], [0.9, \"#4d9221\"], [1, \"#276419\"]], \"sequential\": [[0.0, \"#0d0887\"], [0.1111111111111111, \"#46039f\"], [0.2222222222222222, \"#7201a8\"], [0.3333333333333333, \"#9c179e\"], [0.4444444444444444, \"#bd3786\"], [0.5555555555555556, \"#d8576b\"], [0.6666666666666666, \"#ed7953\"], [0.7777777777777778, \"#fb9f3a\"], [0.8888888888888888, \"#fdca26\"], [1.0, \"#f0f921\"]], \"sequentialminus\": [[0.0, \"#0d0887\"], [0.1111111111111111, \"#46039f\"], [0.2222222222222222, \"#7201a8\"], [0.3333333333333333, \"#9c179e\"], [0.4444444444444444, \"#bd3786\"], [0.5555555555555556, \"#d8576b\"], [0.6666666666666666, \"#ed7953\"], [0.7777777777777778, \"#fb9f3a\"], [0.8888888888888888, \"#fdca26\"], [1.0, \"#f0f921\"]]}, \"colorway\": [\"#636efa\", \"#EF553B\", \"#00cc96\", \"#ab63fa\", \"#FFA15A\", \"#19d3f3\", \"#FF6692\", \"#B6E880\", \"#FF97FF\", \"#FECB52\"], \"font\": {\"color\": \"#2a3f5f\"}, \"geo\": {\"bgcolor\": \"white\", \"lakecolor\": \"white\", \"landcolor\": \"#E5ECF6\", \"showlakes\": true, \"showland\": true, \"subunitcolor\": \"white\"}, \"hoverlabel\": {\"align\": \"left\"}, \"hovermode\": \"closest\", \"mapbox\": {\"style\": \"light\"}, \"paper_bgcolor\": \"white\", \"plot_bgcolor\": \"#E5ECF6\", \"polar\": {\"angularaxis\": {\"gridcolor\": \"white\", \"linecolor\": \"white\", \"ticks\": \"\"}, \"bgcolor\": \"#E5ECF6\", \"radialaxis\": {\"gridcolor\": \"white\", \"linecolor\": \"white\", \"ticks\": \"\"}}, \"scene\": {\"xaxis\": {\"backgroundcolor\": \"#E5ECF6\", \"gridcolor\": \"white\", \"gridwidth\": 2, \"linecolor\": \"white\", \"showbackground\": true, \"ticks\": \"\", \"zerolinecolor\": \"white\"}, \"yaxis\": {\"backgroundcolor\": \"#E5ECF6\", \"gridcolor\": \"white\", \"gridwidth\": 2, \"linecolor\": \"white\", \"showbackground\": true, \"ticks\": \"\", \"zerolinecolor\": \"white\"}, \"zaxis\": {\"backgroundcolor\": \"#E5ECF6\", \"gridcolor\": \"white\", \"gridwidth\": 2, \"linecolor\": \"white\", \"showbackground\": true, \"ticks\": \"\", \"zerolinecolor\": \"white\"}}, \"shapedefaults\": {\"line\": {\"color\": \"#2a3f5f\"}}, \"ternary\": {\"aaxis\": {\"gridcolor\": \"white\", \"linecolor\": \"white\", \"ticks\": \"\"}, \"baxis\": {\"gridcolor\": \"white\", \"linecolor\": \"white\", \"ticks\": \"\"}, \"bgcolor\": \"#E5ECF6\", \"caxis\": {\"gridcolor\": \"white\", \"linecolor\": \"white\", \"ticks\": \"\"}}, \"title\": {\"x\": 0.05}, \"xaxis\": {\"automargin\": true, \"gridcolor\": \"white\", \"linecolor\": \"white\", \"ticks\": \"\", \"title\": {\"standoff\": 15}, \"zerolinecolor\": \"white\", \"zerolinewidth\": 2}, \"yaxis\": {\"automargin\": true, \"gridcolor\": \"white\", \"linecolor\": \"white\", \"ticks\": \"\", \"title\": {\"standoff\": 15}, \"zerolinecolor\": \"white\", \"zerolinewidth\": 2}}}, \"title\": {\"text\": \"False Revenue of IBM per Date\"}, \"xaxis\": {\"anchor\": \"y\", \"domain\": [0.0, 1.0], \"title\": {\"text\": \"Date\"}}, \"yaxis\": {\"anchor\": \"x\", \"domain\": [0.0, 1.0], \"title\": {\"text\": \"USD ($)\"}}},\n",
       "                        {\"responsive\": true}\n",
       "                    ).then(function(){\n",
       "                            \n",
       "var gd = document.getElementById('98637a99-bd86-4e68-a2a2-6e2d920fdf6a');\n",
       "var x = new MutationObserver(function (mutations, observer) {{\n",
       "        var display = window.getComputedStyle(gd).display;\n",
       "        if (!display || display === 'none') {{\n",
       "            console.log([gd, 'removed!']);\n",
       "            Plotly.purge(gd);\n",
       "            observer.disconnect();\n",
       "        }}\n",
       "}});\n",
       "\n",
       "// Listen for the removal of the full notebook cells\n",
       "var notebookContainer = gd.closest('#notebook-container');\n",
       "if (notebookContainer) {{\n",
       "    x.observe(notebookContainer, {childList: true});\n",
       "}}\n",
       "\n",
       "// Listen for the clearing of the current output cell\n",
       "var outputEl = gd.closest('.output');\n",
       "if (outputEl) {{\n",
       "    x.observe(outputEl, {childList: true});\n",
       "}}\n",
       "\n",
       "                        })\n",
       "                };\n",
       "                });\n",
       "            </script>\n",
       "        </div>"
      ]
     },
     "metadata": {},
     "output_type": "display_data"
    }
   ],
   "source": [
    "# Plotting the Revenue of IBM per Date\n",
    "fig = px.line(financials, x=financials.index, y=financials['Revenue'])\n",
    "fig.update_layout(title = \"False Revenue of {} per Date\".format(ticker), showlegend = True, yaxis_title=\"USD ($)\", xaxis_title=\"Date\")\n",
    "fig.show()"
   ]
  },
  {
   "cell_type": "code",
   "execution_count": 40,
   "metadata": {},
   "outputs": [
    {
     "data": {
      "text/html": [
       "<div>\n",
       "<style scoped>\n",
       "    .dataframe tbody tr th:only-of-type {\n",
       "        vertical-align: middle;\n",
       "    }\n",
       "\n",
       "    .dataframe tbody tr th {\n",
       "        vertical-align: top;\n",
       "    }\n",
       "\n",
       "    .dataframe thead th {\n",
       "        text-align: right;\n",
       "    }\n",
       "</style>\n",
       "<table border=\"1\" class=\"dataframe\">\n",
       "  <thead>\n",
       "    <tr style=\"text-align: right;\">\n",
       "      <th></th>\n",
       "      <th>Revenue</th>\n",
       "      <th>Revenue Growth</th>\n",
       "      <th>Cost of Revenue</th>\n",
       "      <th>Gross Profit</th>\n",
       "      <th>R&amp;D Expenses</th>\n",
       "      <th>SG&amp;A Expense</th>\n",
       "      <th>Operating Expenses</th>\n",
       "      <th>Operating Income</th>\n",
       "      <th>Interest Expense</th>\n",
       "      <th>Earnings before Tax</th>\n",
       "      <th>...</th>\n",
       "      <th>Gross Margin</th>\n",
       "      <th>EBITDA Margin</th>\n",
       "      <th>EBIT Margin</th>\n",
       "      <th>Profit Margin</th>\n",
       "      <th>Free Cash Flow margin</th>\n",
       "      <th>EBITDA</th>\n",
       "      <th>EBIT</th>\n",
       "      <th>Consolidated Income</th>\n",
       "      <th>Earnings Before Tax Margin</th>\n",
       "      <th>Net Profit Margin</th>\n",
       "    </tr>\n",
       "    <tr>\n",
       "      <th>date</th>\n",
       "      <th></th>\n",
       "      <th></th>\n",
       "      <th></th>\n",
       "      <th></th>\n",
       "      <th></th>\n",
       "      <th></th>\n",
       "      <th></th>\n",
       "      <th></th>\n",
       "      <th></th>\n",
       "      <th></th>\n",
       "      <th></th>\n",
       "      <th></th>\n",
       "      <th></th>\n",
       "      <th></th>\n",
       "      <th></th>\n",
       "      <th></th>\n",
       "      <th></th>\n",
       "      <th></th>\n",
       "      <th></th>\n",
       "      <th></th>\n",
       "      <th></th>\n",
       "    </tr>\n",
       "  </thead>\n",
       "  <tbody>\n",
       "    <tr>\n",
       "      <td>2014-12-31</td>\n",
       "      <td>24,113,000,000.0</td>\n",
       "      <td>0.0</td>\n",
       "      <td>11,251,000,000.0</td>\n",
       "      <td>12,862,000,000.0</td>\n",
       "      <td>1,320,000,000.0</td>\n",
       "      <td>6,034,000,000.0</td>\n",
       "      <td>7,354,000,000.0</td>\n",
       "      <td>7,095,000,000.0</td>\n",
       "      <td>117,000,000.0</td>\n",
       "      <td>7,095,000,000.0</td>\n",
       "      <td>...</td>\n",
       "      <td>0.533405217103</td>\n",
       "      <td>0.337618711898</td>\n",
       "      <td>0.294239621781</td>\n",
       "      <td>0.22738771616999998</td>\n",
       "      <td>0.212001824742</td>\n",
       "      <td>8,141,000,000.0</td>\n",
       "      <td>7,095,000,000.0</td>\n",
       "      <td>5,483,000,000.0</td>\n",
       "      <td>0.294239621781</td>\n",
       "      <td>0.22738771616999998</td>\n",
       "    </tr>\n",
       "    <tr>\n",
       "      <td>2014-09-30</td>\n",
       "      <td>21,832,000,000.0</td>\n",
       "      <td>0.0</td>\n",
       "      <td>10,805,000,000.0</td>\n",
       "      <td>11,027,000,000.0</td>\n",
       "      <td>1,159,000,000.0</td>\n",
       "      <td>5,254,000,000.0</td>\n",
       "      <td>6,413,000,000.0</td>\n",
       "      <td>4,740,000,000.0</td>\n",
       "      <td>127,000,000.0</td>\n",
       "      <td>4,740,000,000.0</td>\n",
       "      <td>...</td>\n",
       "      <td>0.505084279956</td>\n",
       "      <td>0.269283620374</td>\n",
       "      <td>0.21711249542</td>\n",
       "      <td>0.0008244778307069999</td>\n",
       "      <td>0.131366801026</td>\n",
       "      <td>5,879,000,000.0</td>\n",
       "      <td>4,740,000,000.0</td>\n",
       "      <td>18,000,000.0</td>\n",
       "      <td>0.21711249542</td>\n",
       "      <td>0.0008244778307069999</td>\n",
       "    </tr>\n",
       "    <tr>\n",
       "      <td>2014-06-30</td>\n",
       "      <td>46,848,000,000.0</td>\n",
       "      <td>0.0</td>\n",
       "      <td>24,330,000,000.0</td>\n",
       "      <td>22,518,000,000.0</td>\n",
       "      <td>2,958,000,000.0</td>\n",
       "      <td>11,892,000,000.0</td>\n",
       "      <td>14,850,000,000.0</td>\n",
       "      <td>8,151,000,000.0</td>\n",
       "      <td>240,000,000.0</td>\n",
       "      <td>8,151,000,000.0</td>\n",
       "      <td>...</td>\n",
       "      <td>0.480660860656</td>\n",
       "      <td>0.223232581967</td>\n",
       "      <td>0.17398821721299998</td>\n",
       "      <td>0.139194842896</td>\n",
       "      <td>0.10988729508199999</td>\n",
       "      <td>10,458,000,000.0</td>\n",
       "      <td>8,151,000,000.0</td>\n",
       "      <td>6,521,000,000.0</td>\n",
       "      <td>0.17398821721299998</td>\n",
       "      <td>0.139194842896</td>\n",
       "    </tr>\n",
       "    <tr>\n",
       "      <td>2014-04-29</td>\n",
       "      <td>0.0</td>\n",
       "      <td>0.0</td>\n",
       "      <td>0.0</td>\n",
       "      <td>0.0</td>\n",
       "      <td>0.0</td>\n",
       "      <td>0.0</td>\n",
       "      <td>0.0</td>\n",
       "      <td>0.0</td>\n",
       "      <td>0.0</td>\n",
       "      <td>0.0</td>\n",
       "      <td>...</td>\n",
       "      <td>0.0</td>\n",
       "      <td>0.0</td>\n",
       "      <td>0.0</td>\n",
       "      <td>0.0</td>\n",
       "      <td>0.0</td>\n",
       "      <td>0.0</td>\n",
       "      <td>0.0</td>\n",
       "      <td>0.0</td>\n",
       "      <td>0.0</td>\n",
       "      <td>0.0</td>\n",
       "    </tr>\n",
       "    <tr>\n",
       "      <td>2014-03-31</td>\n",
       "      <td>22,236,000,000.0</td>\n",
       "      <td>-0.197227336727</td>\n",
       "      <td>11,608,000,000.0</td>\n",
       "      <td>10,628,000,000.0</td>\n",
       "      <td>1,402,000,000.0</td>\n",
       "      <td>6,272,000,000.0</td>\n",
       "      <td>7,340,000,000.0</td>\n",
       "      <td>3,288,000,000.0</td>\n",
       "      <td>105,000,000.0</td>\n",
       "      <td>3,037,000,000.0</td>\n",
       "      <td>...</td>\n",
       "      <td>0.478</td>\n",
       "      <td>0.193</td>\n",
       "      <td>0.1413</td>\n",
       "      <td>0.107</td>\n",
       "      <td>0.1097</td>\n",
       "      <td>4,283,000,000.0</td>\n",
       "      <td>3,142,000,000.0</td>\n",
       "      <td>2,384,000,000.0</td>\n",
       "      <td>0.1366</td>\n",
       "      <td>0.1072</td>\n",
       "    </tr>\n",
       "  </tbody>\n",
       "</table>\n",
       "<p>5 rows × 31 columns</p>\n",
       "</div>"
      ],
      "text/plain": [
       "                    Revenue  Revenue Growth  Cost of Revenue     Gross Profit  \\\n",
       "date                                                                            \n",
       "2014-12-31 24,113,000,000.0             0.0 11,251,000,000.0 12,862,000,000.0   \n",
       "2014-09-30 21,832,000,000.0             0.0 10,805,000,000.0 11,027,000,000.0   \n",
       "2014-06-30 46,848,000,000.0             0.0 24,330,000,000.0 22,518,000,000.0   \n",
       "2014-04-29              0.0             0.0              0.0              0.0   \n",
       "2014-03-31 22,236,000,000.0 -0.197227336727 11,608,000,000.0 10,628,000,000.0   \n",
       "\n",
       "              R&D Expenses     SG&A Expense  Operating Expenses  \\\n",
       "date                                                              \n",
       "2014-12-31 1,320,000,000.0  6,034,000,000.0     7,354,000,000.0   \n",
       "2014-09-30 1,159,000,000.0  5,254,000,000.0     6,413,000,000.0   \n",
       "2014-06-30 2,958,000,000.0 11,892,000,000.0    14,850,000,000.0   \n",
       "2014-04-29             0.0              0.0                 0.0   \n",
       "2014-03-31 1,402,000,000.0  6,272,000,000.0     7,340,000,000.0   \n",
       "\n",
       "            Operating Income  Interest Expense  Earnings before Tax  ...  \\\n",
       "date                                                                 ...   \n",
       "2014-12-31   7,095,000,000.0     117,000,000.0      7,095,000,000.0  ...   \n",
       "2014-09-30   4,740,000,000.0     127,000,000.0      4,740,000,000.0  ...   \n",
       "2014-06-30   8,151,000,000.0     240,000,000.0      8,151,000,000.0  ...   \n",
       "2014-04-29               0.0               0.0                  0.0  ...   \n",
       "2014-03-31   3,288,000,000.0     105,000,000.0      3,037,000,000.0  ...   \n",
       "\n",
       "             Gross Margin  EBITDA Margin         EBIT Margin  \\\n",
       "date                                                           \n",
       "2014-12-31 0.533405217103 0.337618711898      0.294239621781   \n",
       "2014-09-30 0.505084279956 0.269283620374       0.21711249542   \n",
       "2014-06-30 0.480660860656 0.223232581967 0.17398821721299998   \n",
       "2014-04-29            0.0            0.0                 0.0   \n",
       "2014-03-31          0.478          0.193              0.1413   \n",
       "\n",
       "                   Profit Margin  Free Cash Flow margin           EBITDA  \\\n",
       "date                                                                       \n",
       "2014-12-31   0.22738771616999998         0.212001824742  8,141,000,000.0   \n",
       "2014-09-30 0.0008244778307069999         0.131366801026  5,879,000,000.0   \n",
       "2014-06-30        0.139194842896    0.10988729508199999 10,458,000,000.0   \n",
       "2014-04-29                   0.0                    0.0              0.0   \n",
       "2014-03-31                 0.107                 0.1097  4,283,000,000.0   \n",
       "\n",
       "                      EBIT  Consolidated Income  Earnings Before Tax Margin  \\\n",
       "date                                                                          \n",
       "2014-12-31 7,095,000,000.0      5,483,000,000.0              0.294239621781   \n",
       "2014-09-30 4,740,000,000.0         18,000,000.0               0.21711249542   \n",
       "2014-06-30 8,151,000,000.0      6,521,000,000.0         0.17398821721299998   \n",
       "2014-04-29             0.0                  0.0                         0.0   \n",
       "2014-03-31 3,142,000,000.0      2,384,000,000.0                      0.1366   \n",
       "\n",
       "               Net Profit Margin  \n",
       "date                              \n",
       "2014-12-31   0.22738771616999998  \n",
       "2014-09-30 0.0008244778307069999  \n",
       "2014-06-30        0.139194842896  \n",
       "2014-04-29                   0.0  \n",
       "2014-03-31                0.1072  \n",
       "\n",
       "[5 rows x 31 columns]"
      ]
     },
     "execution_count": 40,
     "metadata": {},
     "output_type": "execute_result"
    }
   ],
   "source": [
    "financials.loc['2014']"
   ]
  },
  {
   "cell_type": "markdown",
   "metadata": {},
   "source": [
    "#### Analysing the results\n",
    "\n",
    "As we can see the problem comes from two dates, April 2014 and Jun 2014. The values of the columns must have been added together. \n",
    "\n",
    "We can divid the values of Jun 2014 by two and copy it in the April 2014 row."
   ]
  },
  {
   "cell_type": "code",
   "execution_count": 41,
   "metadata": {
    "scrolled": false
   },
   "outputs": [
    {
     "data": {
      "text/html": [
       "<div>\n",
       "<style scoped>\n",
       "    .dataframe tbody tr th:only-of-type {\n",
       "        vertical-align: middle;\n",
       "    }\n",
       "\n",
       "    .dataframe tbody tr th {\n",
       "        vertical-align: top;\n",
       "    }\n",
       "\n",
       "    .dataframe thead th {\n",
       "        text-align: right;\n",
       "    }\n",
       "</style>\n",
       "<table border=\"1\" class=\"dataframe\">\n",
       "  <thead>\n",
       "    <tr style=\"text-align: right;\">\n",
       "      <th></th>\n",
       "      <th>Revenue</th>\n",
       "      <th>Revenue Growth</th>\n",
       "      <th>Cost of Revenue</th>\n",
       "      <th>Gross Profit</th>\n",
       "      <th>R&amp;D Expenses</th>\n",
       "      <th>SG&amp;A Expense</th>\n",
       "      <th>Operating Expenses</th>\n",
       "      <th>Operating Income</th>\n",
       "      <th>Interest Expense</th>\n",
       "      <th>Earnings before Tax</th>\n",
       "      <th>...</th>\n",
       "      <th>Gross Margin</th>\n",
       "      <th>EBITDA Margin</th>\n",
       "      <th>EBIT Margin</th>\n",
       "      <th>Profit Margin</th>\n",
       "      <th>Free Cash Flow margin</th>\n",
       "      <th>EBITDA</th>\n",
       "      <th>EBIT</th>\n",
       "      <th>Consolidated Income</th>\n",
       "      <th>Earnings Before Tax Margin</th>\n",
       "      <th>Net Profit Margin</th>\n",
       "    </tr>\n",
       "    <tr>\n",
       "      <th>date</th>\n",
       "      <th></th>\n",
       "      <th></th>\n",
       "      <th></th>\n",
       "      <th></th>\n",
       "      <th></th>\n",
       "      <th></th>\n",
       "      <th></th>\n",
       "      <th></th>\n",
       "      <th></th>\n",
       "      <th></th>\n",
       "      <th></th>\n",
       "      <th></th>\n",
       "      <th></th>\n",
       "      <th></th>\n",
       "      <th></th>\n",
       "      <th></th>\n",
       "      <th></th>\n",
       "      <th></th>\n",
       "      <th></th>\n",
       "      <th></th>\n",
       "      <th></th>\n",
       "    </tr>\n",
       "  </thead>\n",
       "  <tbody>\n",
       "    <tr>\n",
       "      <td>2014-12-31</td>\n",
       "      <td>24,113,000,000.0</td>\n",
       "      <td>0.0</td>\n",
       "      <td>11,251,000,000.0</td>\n",
       "      <td>12,862,000,000.0</td>\n",
       "      <td>1,320,000,000.0</td>\n",
       "      <td>6,034,000,000.0</td>\n",
       "      <td>7,354,000,000.0</td>\n",
       "      <td>7,095,000,000.0</td>\n",
       "      <td>117,000,000.0</td>\n",
       "      <td>7,095,000,000.0</td>\n",
       "      <td>...</td>\n",
       "      <td>0.533405217103</td>\n",
       "      <td>0.337618711898</td>\n",
       "      <td>0.294239621781</td>\n",
       "      <td>0.22738771616999998</td>\n",
       "      <td>0.212001824742</td>\n",
       "      <td>8,141,000,000.0</td>\n",
       "      <td>7,095,000,000.0</td>\n",
       "      <td>5,483,000,000.0</td>\n",
       "      <td>0.294239621781</td>\n",
       "      <td>0.22738771616999998</td>\n",
       "    </tr>\n",
       "    <tr>\n",
       "      <td>2014-09-30</td>\n",
       "      <td>21,832,000,000.0</td>\n",
       "      <td>0.0</td>\n",
       "      <td>10,805,000,000.0</td>\n",
       "      <td>11,027,000,000.0</td>\n",
       "      <td>1,159,000,000.0</td>\n",
       "      <td>5,254,000,000.0</td>\n",
       "      <td>6,413,000,000.0</td>\n",
       "      <td>4,740,000,000.0</td>\n",
       "      <td>127,000,000.0</td>\n",
       "      <td>4,740,000,000.0</td>\n",
       "      <td>...</td>\n",
       "      <td>0.505084279956</td>\n",
       "      <td>0.269283620374</td>\n",
       "      <td>0.21711249542</td>\n",
       "      <td>0.0008244778307069999</td>\n",
       "      <td>0.131366801026</td>\n",
       "      <td>5,879,000,000.0</td>\n",
       "      <td>4,740,000,000.0</td>\n",
       "      <td>18,000,000.0</td>\n",
       "      <td>0.21711249542</td>\n",
       "      <td>0.0008244778307069999</td>\n",
       "    </tr>\n",
       "    <tr>\n",
       "      <td>2014-06-30</td>\n",
       "      <td>23,424,000,000.0</td>\n",
       "      <td>0.0</td>\n",
       "      <td>12,165,000,000.0</td>\n",
       "      <td>11,259,000,000.0</td>\n",
       "      <td>1,479,000,000.0</td>\n",
       "      <td>5,946,000,000.0</td>\n",
       "      <td>7,425,000,000.0</td>\n",
       "      <td>4,075,500,000.0</td>\n",
       "      <td>120,000,000.0</td>\n",
       "      <td>4,075,500,000.0</td>\n",
       "      <td>...</td>\n",
       "      <td>0.480660860656</td>\n",
       "      <td>0.223232581967</td>\n",
       "      <td>0.17398821721299998</td>\n",
       "      <td>0.139194842896</td>\n",
       "      <td>0.10988729508199999</td>\n",
       "      <td>5,229,000,000.0</td>\n",
       "      <td>4,075,500,000.0</td>\n",
       "      <td>6,521,000,000.0</td>\n",
       "      <td>0.17398821721299998</td>\n",
       "      <td>0.139194842896</td>\n",
       "    </tr>\n",
       "    <tr>\n",
       "      <td>2014-04-29</td>\n",
       "      <td>23,424,000,000.0</td>\n",
       "      <td>0.0</td>\n",
       "      <td>12,165,000,000.0</td>\n",
       "      <td>11,259,000,000.0</td>\n",
       "      <td>1,479,000,000.0</td>\n",
       "      <td>5,946,000,000.0</td>\n",
       "      <td>7,425,000,000.0</td>\n",
       "      <td>4,075,500,000.0</td>\n",
       "      <td>120,000,000.0</td>\n",
       "      <td>4,075,500,000.0</td>\n",
       "      <td>...</td>\n",
       "      <td>0.480660860656</td>\n",
       "      <td>0.223232581967</td>\n",
       "      <td>0.17398821721299998</td>\n",
       "      <td>0.139194842896</td>\n",
       "      <td>0.10988729508199999</td>\n",
       "      <td>5,229,000,000.0</td>\n",
       "      <td>4,075,500,000.0</td>\n",
       "      <td>6,521,000,000.0</td>\n",
       "      <td>0.17398821721299998</td>\n",
       "      <td>0.139194842896</td>\n",
       "    </tr>\n",
       "    <tr>\n",
       "      <td>2014-03-31</td>\n",
       "      <td>22,236,000,000.0</td>\n",
       "      <td>-0.197227336727</td>\n",
       "      <td>11,608,000,000.0</td>\n",
       "      <td>10,628,000,000.0</td>\n",
       "      <td>1,402,000,000.0</td>\n",
       "      <td>6,272,000,000.0</td>\n",
       "      <td>7,340,000,000.0</td>\n",
       "      <td>3,288,000,000.0</td>\n",
       "      <td>105,000,000.0</td>\n",
       "      <td>3,037,000,000.0</td>\n",
       "      <td>...</td>\n",
       "      <td>0.478</td>\n",
       "      <td>0.193</td>\n",
       "      <td>0.1413</td>\n",
       "      <td>0.107</td>\n",
       "      <td>0.1097</td>\n",
       "      <td>4,283,000,000.0</td>\n",
       "      <td>3,142,000,000.0</td>\n",
       "      <td>2,384,000,000.0</td>\n",
       "      <td>0.1366</td>\n",
       "      <td>0.1072</td>\n",
       "    </tr>\n",
       "  </tbody>\n",
       "</table>\n",
       "<p>5 rows × 31 columns</p>\n",
       "</div>"
      ],
      "text/plain": [
       "                    Revenue  Revenue Growth  Cost of Revenue     Gross Profit  \\\n",
       "date                                                                            \n",
       "2014-12-31 24,113,000,000.0             0.0 11,251,000,000.0 12,862,000,000.0   \n",
       "2014-09-30 21,832,000,000.0             0.0 10,805,000,000.0 11,027,000,000.0   \n",
       "2014-06-30 23,424,000,000.0             0.0 12,165,000,000.0 11,259,000,000.0   \n",
       "2014-04-29 23,424,000,000.0             0.0 12,165,000,000.0 11,259,000,000.0   \n",
       "2014-03-31 22,236,000,000.0 -0.197227336727 11,608,000,000.0 10,628,000,000.0   \n",
       "\n",
       "              R&D Expenses    SG&A Expense  Operating Expenses  \\\n",
       "date                                                             \n",
       "2014-12-31 1,320,000,000.0 6,034,000,000.0     7,354,000,000.0   \n",
       "2014-09-30 1,159,000,000.0 5,254,000,000.0     6,413,000,000.0   \n",
       "2014-06-30 1,479,000,000.0 5,946,000,000.0     7,425,000,000.0   \n",
       "2014-04-29 1,479,000,000.0 5,946,000,000.0     7,425,000,000.0   \n",
       "2014-03-31 1,402,000,000.0 6,272,000,000.0     7,340,000,000.0   \n",
       "\n",
       "            Operating Income  Interest Expense  Earnings before Tax  ...  \\\n",
       "date                                                                 ...   \n",
       "2014-12-31   7,095,000,000.0     117,000,000.0      7,095,000,000.0  ...   \n",
       "2014-09-30   4,740,000,000.0     127,000,000.0      4,740,000,000.0  ...   \n",
       "2014-06-30   4,075,500,000.0     120,000,000.0      4,075,500,000.0  ...   \n",
       "2014-04-29   4,075,500,000.0     120,000,000.0      4,075,500,000.0  ...   \n",
       "2014-03-31   3,288,000,000.0     105,000,000.0      3,037,000,000.0  ...   \n",
       "\n",
       "             Gross Margin  EBITDA Margin         EBIT Margin  \\\n",
       "date                                                           \n",
       "2014-12-31 0.533405217103 0.337618711898      0.294239621781   \n",
       "2014-09-30 0.505084279956 0.269283620374       0.21711249542   \n",
       "2014-06-30 0.480660860656 0.223232581967 0.17398821721299998   \n",
       "2014-04-29 0.480660860656 0.223232581967 0.17398821721299998   \n",
       "2014-03-31          0.478          0.193              0.1413   \n",
       "\n",
       "                   Profit Margin  Free Cash Flow margin          EBITDA  \\\n",
       "date                                                                      \n",
       "2014-12-31   0.22738771616999998         0.212001824742 8,141,000,000.0   \n",
       "2014-09-30 0.0008244778307069999         0.131366801026 5,879,000,000.0   \n",
       "2014-06-30        0.139194842896    0.10988729508199999 5,229,000,000.0   \n",
       "2014-04-29        0.139194842896    0.10988729508199999 5,229,000,000.0   \n",
       "2014-03-31                 0.107                 0.1097 4,283,000,000.0   \n",
       "\n",
       "                      EBIT  Consolidated Income  Earnings Before Tax Margin  \\\n",
       "date                                                                          \n",
       "2014-12-31 7,095,000,000.0      5,483,000,000.0              0.294239621781   \n",
       "2014-09-30 4,740,000,000.0         18,000,000.0               0.21711249542   \n",
       "2014-06-30 4,075,500,000.0      6,521,000,000.0         0.17398821721299998   \n",
       "2014-04-29 4,075,500,000.0      6,521,000,000.0         0.17398821721299998   \n",
       "2014-03-31 3,142,000,000.0      2,384,000,000.0                      0.1366   \n",
       "\n",
       "               Net Profit Margin  \n",
       "date                              \n",
       "2014-12-31   0.22738771616999998  \n",
       "2014-09-30 0.0008244778307069999  \n",
       "2014-06-30        0.139194842896  \n",
       "2014-04-29        0.139194842896  \n",
       "2014-03-31                0.1072  \n",
       "\n",
       "[5 rows x 31 columns]"
      ]
     },
     "execution_count": 41,
     "metadata": {},
     "output_type": "execute_result"
    }
   ],
   "source": [
    "financials.loc['2014-06-30', : 'Earnings before Tax'] /= 2\n",
    "financials.loc['2014-06-30', ['Dividend per Share', 'EBITDA', 'EBIT']] /= 2\n",
    "financials['2014-04-29'] = financials['2014-06-30'].values\n",
    "\n",
    "financials['2014']"
   ]
  },
  {
   "cell_type": "markdown",
   "metadata": {},
   "source": [
    "#### Caculating the Revenue Growth"
   ]
  },
  {
   "cell_type": "code",
   "execution_count": 42,
   "metadata": {
    "scrolled": false
   },
   "outputs": [
    {
     "data": {
      "text/plain": [
       "array([ 0.20795429, -0.05908142,  0.05378946, -0.16446854,  0.16027726])"
      ]
     },
     "execution_count": 42,
     "metadata": {},
     "output_type": "execute_result"
    }
   ],
   "source": [
    "for i in range(len(financials) - 1):\n",
    "    financials['Revenue Growth'][i] = (financials['Revenue'][i] - financials['Revenue'][i + 1]) / financials['Revenue'][i + 1]\n",
    "    \n",
    "financials['Revenue Growth'].values[:5]"
   ]
  },
  {
   "cell_type": "markdown",
   "metadata": {},
   "source": [
    "### Plotting the results"
   ]
  },
  {
   "cell_type": "code",
   "execution_count": 43,
   "metadata": {
    "scrolled": false
   },
   "outputs": [
    {
     "data": {
      "application/vnd.plotly.v1+json": {
       "config": {
        "plotlyServerURL": "https://plot.ly"
       },
       "data": [
        {
         "name": "Revenue",
         "type": "scatter",
         "x": [
          "2019-12-31T00:00:00",
          "2019-09-30T00:00:00",
          "2019-06-30T00:00:00",
          "2019-03-31T00:00:00",
          "2018-12-31T00:00:00",
          "2018-09-30T00:00:00",
          "2018-06-30T00:00:00",
          "2018-03-31T00:00:00",
          "2017-12-31T00:00:00",
          "2017-09-30T00:00:00",
          "2017-06-30T00:00:00",
          "2017-03-31T00:00:00",
          "2016-12-31T00:00:00",
          "2016-09-30T00:00:00",
          "2016-06-30T00:00:00",
          "2016-03-31T00:00:00",
          "2015-12-31T00:00:00",
          "2015-09-30T00:00:00",
          "2015-06-30T00:00:00",
          "2015-03-31T00:00:00",
          "2014-12-31T00:00:00",
          "2014-09-30T00:00:00",
          "2014-06-30T00:00:00",
          "2014-04-29T00:00:00",
          "2014-03-31T00:00:00",
          "2013-12-31T00:00:00",
          "2013-09-30T00:00:00",
          "2013-06-30T00:00:00",
          "2013-03-31T00:00:00",
          "2012-12-31T00:00:00",
          "2012-09-30T00:00:00",
          "2012-06-30T00:00:00",
          "2012-03-31T00:00:00",
          "2011-12-31T00:00:00",
          "2011-09-30T00:00:00",
          "2011-06-30T00:00:00",
          "2011-03-31T00:00:00",
          "2010-12-31T00:00:00",
          "2010-09-30T00:00:00",
          "2010-06-30T00:00:00",
          "2010-03-31T00:00:00",
          "2009-12-31T00:00:00",
          "2009-09-30T00:00:00",
          "2009-06-30T00:00:00"
         ],
         "xaxis": "x",
         "y": [
          21777000000,
          18028000000,
          19160000000,
          18182000000,
          21761000000,
          18755000000,
          20003000000,
          19072000000,
          22542000000,
          19154000000,
          19288000000,
          18155000000,
          21770000000,
          19226000000,
          20239000000,
          18684000000,
          22059000000,
          19279000000,
          20813000000,
          19590000000,
          24113000000,
          21832000000,
          23424000000,
          23424000000,
          22236000000,
          27699000000,
          23720000000,
          24924000000,
          23408000000,
          29304000000,
          24747000000,
          25783000000,
          24673000000,
          29486000000,
          26157000000,
          26666000000,
          24607000000,
          29018000000,
          24271000000,
          23724000000,
          22857000000,
          27230000000,
          23566000000,
          23250000000
         ],
         "yaxis": "y"
        },
        {
         "name": "Revenue Growth",
         "type": "scatter",
         "x": [
          "2019-12-31T00:00:00",
          "2019-09-30T00:00:00",
          "2019-06-30T00:00:00",
          "2019-03-31T00:00:00",
          "2018-12-31T00:00:00",
          "2018-09-30T00:00:00",
          "2018-06-30T00:00:00",
          "2018-03-31T00:00:00",
          "2017-12-31T00:00:00",
          "2017-09-30T00:00:00",
          "2017-06-30T00:00:00",
          "2017-03-31T00:00:00",
          "2016-12-31T00:00:00",
          "2016-09-30T00:00:00",
          "2016-06-30T00:00:00",
          "2016-03-31T00:00:00",
          "2015-12-31T00:00:00",
          "2015-09-30T00:00:00",
          "2015-06-30T00:00:00",
          "2015-03-31T00:00:00",
          "2014-12-31T00:00:00",
          "2014-09-30T00:00:00",
          "2014-06-30T00:00:00",
          "2014-04-29T00:00:00",
          "2014-03-31T00:00:00",
          "2013-12-31T00:00:00",
          "2013-09-30T00:00:00",
          "2013-06-30T00:00:00",
          "2013-03-31T00:00:00",
          "2012-12-31T00:00:00",
          "2012-09-30T00:00:00",
          "2012-06-30T00:00:00",
          "2012-03-31T00:00:00",
          "2011-12-31T00:00:00",
          "2011-09-30T00:00:00",
          "2011-06-30T00:00:00",
          "2011-03-31T00:00:00",
          "2010-12-31T00:00:00",
          "2010-09-30T00:00:00",
          "2010-06-30T00:00:00",
          "2010-03-31T00:00:00",
          "2009-12-31T00:00:00",
          "2009-09-30T00:00:00",
          "2009-06-30T00:00:00"
         ],
         "xaxis": "x2",
         "y": [
          0.2079542933214999,
          -0.05908141962421712,
          0.053789462105378945,
          -0.16446854464408805,
          0.16027725939749402,
          -0.06239064140378943,
          0.04881501677852349,
          -0.15393487711826812,
          0.17688211339667956,
          -0.006947324761509747,
          0.062407050399339026,
          -0.166054203031695,
          0.13232081556225944,
          -0.0500518800335985,
          0.08322628987368871,
          -0.15299877600979192,
          0.14419835053685356,
          -0.07370393504059962,
          0.062429811128126594,
          -0.187575166922407,
          0.10447966288017589,
          -0.06796448087431695,
          0,
          0.05342687533729088,
          -0.19722733672695766,
          0.1677487352445194,
          -0.04830685283261114,
          0.06476418318523582,
          -0.2012012012012012,
          0.18414353254939994,
          -0.04018151495171237,
          0.0449884489117659,
          -0.163230007461168,
          0.1272699468593493,
          -0.019087977199429985,
          0.08367537692526517,
          -0.15200909780136468,
          0.1955832062955791,
          0.023056820097791267,
          0.037931487071794195,
          -0.16059493206022768,
          0.15547823135025035,
          0.013591397849462365,
          -0.1331
         ],
         "yaxis": "y2"
        }
       ],
       "layout": {
        "annotations": [
         {
          "font": {
           "size": 16
          },
          "showarrow": false,
          "text": "Revenue of IBM",
          "x": 0.5,
          "xanchor": "center",
          "xref": "paper",
          "y": 1,
          "yanchor": "bottom",
          "yref": "paper"
         },
         {
          "font": {
           "size": 16
          },
          "showarrow": false,
          "text": "Revenue Growth of IBM",
          "x": 0.5,
          "xanchor": "center",
          "xref": "paper",
          "y": 0.375,
          "yanchor": "bottom",
          "yref": "paper"
         }
        ],
        "template": {
         "data": {
          "bar": [
           {
            "error_x": {
             "color": "#2a3f5f"
            },
            "error_y": {
             "color": "#2a3f5f"
            },
            "marker": {
             "line": {
              "color": "#E5ECF6",
              "width": 0.5
             }
            },
            "type": "bar"
           }
          ],
          "barpolar": [
           {
            "marker": {
             "line": {
              "color": "#E5ECF6",
              "width": 0.5
             }
            },
            "type": "barpolar"
           }
          ],
          "carpet": [
           {
            "aaxis": {
             "endlinecolor": "#2a3f5f",
             "gridcolor": "white",
             "linecolor": "white",
             "minorgridcolor": "white",
             "startlinecolor": "#2a3f5f"
            },
            "baxis": {
             "endlinecolor": "#2a3f5f",
             "gridcolor": "white",
             "linecolor": "white",
             "minorgridcolor": "white",
             "startlinecolor": "#2a3f5f"
            },
            "type": "carpet"
           }
          ],
          "choropleth": [
           {
            "colorbar": {
             "outlinewidth": 0,
             "ticks": ""
            },
            "type": "choropleth"
           }
          ],
          "contour": [
           {
            "colorbar": {
             "outlinewidth": 0,
             "ticks": ""
            },
            "colorscale": [
             [
              0,
              "#0d0887"
             ],
             [
              0.1111111111111111,
              "#46039f"
             ],
             [
              0.2222222222222222,
              "#7201a8"
             ],
             [
              0.3333333333333333,
              "#9c179e"
             ],
             [
              0.4444444444444444,
              "#bd3786"
             ],
             [
              0.5555555555555556,
              "#d8576b"
             ],
             [
              0.6666666666666666,
              "#ed7953"
             ],
             [
              0.7777777777777778,
              "#fb9f3a"
             ],
             [
              0.8888888888888888,
              "#fdca26"
             ],
             [
              1,
              "#f0f921"
             ]
            ],
            "type": "contour"
           }
          ],
          "contourcarpet": [
           {
            "colorbar": {
             "outlinewidth": 0,
             "ticks": ""
            },
            "type": "contourcarpet"
           }
          ],
          "heatmap": [
           {
            "colorbar": {
             "outlinewidth": 0,
             "ticks": ""
            },
            "colorscale": [
             [
              0,
              "#0d0887"
             ],
             [
              0.1111111111111111,
              "#46039f"
             ],
             [
              0.2222222222222222,
              "#7201a8"
             ],
             [
              0.3333333333333333,
              "#9c179e"
             ],
             [
              0.4444444444444444,
              "#bd3786"
             ],
             [
              0.5555555555555556,
              "#d8576b"
             ],
             [
              0.6666666666666666,
              "#ed7953"
             ],
             [
              0.7777777777777778,
              "#fb9f3a"
             ],
             [
              0.8888888888888888,
              "#fdca26"
             ],
             [
              1,
              "#f0f921"
             ]
            ],
            "type": "heatmap"
           }
          ],
          "heatmapgl": [
           {
            "colorbar": {
             "outlinewidth": 0,
             "ticks": ""
            },
            "colorscale": [
             [
              0,
              "#0d0887"
             ],
             [
              0.1111111111111111,
              "#46039f"
             ],
             [
              0.2222222222222222,
              "#7201a8"
             ],
             [
              0.3333333333333333,
              "#9c179e"
             ],
             [
              0.4444444444444444,
              "#bd3786"
             ],
             [
              0.5555555555555556,
              "#d8576b"
             ],
             [
              0.6666666666666666,
              "#ed7953"
             ],
             [
              0.7777777777777778,
              "#fb9f3a"
             ],
             [
              0.8888888888888888,
              "#fdca26"
             ],
             [
              1,
              "#f0f921"
             ]
            ],
            "type": "heatmapgl"
           }
          ],
          "histogram": [
           {
            "marker": {
             "colorbar": {
              "outlinewidth": 0,
              "ticks": ""
             }
            },
            "type": "histogram"
           }
          ],
          "histogram2d": [
           {
            "colorbar": {
             "outlinewidth": 0,
             "ticks": ""
            },
            "colorscale": [
             [
              0,
              "#0d0887"
             ],
             [
              0.1111111111111111,
              "#46039f"
             ],
             [
              0.2222222222222222,
              "#7201a8"
             ],
             [
              0.3333333333333333,
              "#9c179e"
             ],
             [
              0.4444444444444444,
              "#bd3786"
             ],
             [
              0.5555555555555556,
              "#d8576b"
             ],
             [
              0.6666666666666666,
              "#ed7953"
             ],
             [
              0.7777777777777778,
              "#fb9f3a"
             ],
             [
              0.8888888888888888,
              "#fdca26"
             ],
             [
              1,
              "#f0f921"
             ]
            ],
            "type": "histogram2d"
           }
          ],
          "histogram2dcontour": [
           {
            "colorbar": {
             "outlinewidth": 0,
             "ticks": ""
            },
            "colorscale": [
             [
              0,
              "#0d0887"
             ],
             [
              0.1111111111111111,
              "#46039f"
             ],
             [
              0.2222222222222222,
              "#7201a8"
             ],
             [
              0.3333333333333333,
              "#9c179e"
             ],
             [
              0.4444444444444444,
              "#bd3786"
             ],
             [
              0.5555555555555556,
              "#d8576b"
             ],
             [
              0.6666666666666666,
              "#ed7953"
             ],
             [
              0.7777777777777778,
              "#fb9f3a"
             ],
             [
              0.8888888888888888,
              "#fdca26"
             ],
             [
              1,
              "#f0f921"
             ]
            ],
            "type": "histogram2dcontour"
           }
          ],
          "mesh3d": [
           {
            "colorbar": {
             "outlinewidth": 0,
             "ticks": ""
            },
            "type": "mesh3d"
           }
          ],
          "parcoords": [
           {
            "line": {
             "colorbar": {
              "outlinewidth": 0,
              "ticks": ""
             }
            },
            "type": "parcoords"
           }
          ],
          "pie": [
           {
            "automargin": true,
            "type": "pie"
           }
          ],
          "scatter": [
           {
            "marker": {
             "colorbar": {
              "outlinewidth": 0,
              "ticks": ""
             }
            },
            "type": "scatter"
           }
          ],
          "scatter3d": [
           {
            "line": {
             "colorbar": {
              "outlinewidth": 0,
              "ticks": ""
             }
            },
            "marker": {
             "colorbar": {
              "outlinewidth": 0,
              "ticks": ""
             }
            },
            "type": "scatter3d"
           }
          ],
          "scattercarpet": [
           {
            "marker": {
             "colorbar": {
              "outlinewidth": 0,
              "ticks": ""
             }
            },
            "type": "scattercarpet"
           }
          ],
          "scattergeo": [
           {
            "marker": {
             "colorbar": {
              "outlinewidth": 0,
              "ticks": ""
             }
            },
            "type": "scattergeo"
           }
          ],
          "scattergl": [
           {
            "marker": {
             "colorbar": {
              "outlinewidth": 0,
              "ticks": ""
             }
            },
            "type": "scattergl"
           }
          ],
          "scattermapbox": [
           {
            "marker": {
             "colorbar": {
              "outlinewidth": 0,
              "ticks": ""
             }
            },
            "type": "scattermapbox"
           }
          ],
          "scatterpolar": [
           {
            "marker": {
             "colorbar": {
              "outlinewidth": 0,
              "ticks": ""
             }
            },
            "type": "scatterpolar"
           }
          ],
          "scatterpolargl": [
           {
            "marker": {
             "colorbar": {
              "outlinewidth": 0,
              "ticks": ""
             }
            },
            "type": "scatterpolargl"
           }
          ],
          "scatterternary": [
           {
            "marker": {
             "colorbar": {
              "outlinewidth": 0,
              "ticks": ""
             }
            },
            "type": "scatterternary"
           }
          ],
          "surface": [
           {
            "colorbar": {
             "outlinewidth": 0,
             "ticks": ""
            },
            "colorscale": [
             [
              0,
              "#0d0887"
             ],
             [
              0.1111111111111111,
              "#46039f"
             ],
             [
              0.2222222222222222,
              "#7201a8"
             ],
             [
              0.3333333333333333,
              "#9c179e"
             ],
             [
              0.4444444444444444,
              "#bd3786"
             ],
             [
              0.5555555555555556,
              "#d8576b"
             ],
             [
              0.6666666666666666,
              "#ed7953"
             ],
             [
              0.7777777777777778,
              "#fb9f3a"
             ],
             [
              0.8888888888888888,
              "#fdca26"
             ],
             [
              1,
              "#f0f921"
             ]
            ],
            "type": "surface"
           }
          ],
          "table": [
           {
            "cells": {
             "fill": {
              "color": "#EBF0F8"
             },
             "line": {
              "color": "white"
             }
            },
            "header": {
             "fill": {
              "color": "#C8D4E3"
             },
             "line": {
              "color": "white"
             }
            },
            "type": "table"
           }
          ]
         },
         "layout": {
          "annotationdefaults": {
           "arrowcolor": "#2a3f5f",
           "arrowhead": 0,
           "arrowwidth": 1
          },
          "coloraxis": {
           "colorbar": {
            "outlinewidth": 0,
            "ticks": ""
           }
          },
          "colorscale": {
           "diverging": [
            [
             0,
             "#8e0152"
            ],
            [
             0.1,
             "#c51b7d"
            ],
            [
             0.2,
             "#de77ae"
            ],
            [
             0.3,
             "#f1b6da"
            ],
            [
             0.4,
             "#fde0ef"
            ],
            [
             0.5,
             "#f7f7f7"
            ],
            [
             0.6,
             "#e6f5d0"
            ],
            [
             0.7,
             "#b8e186"
            ],
            [
             0.8,
             "#7fbc41"
            ],
            [
             0.9,
             "#4d9221"
            ],
            [
             1,
             "#276419"
            ]
           ],
           "sequential": [
            [
             0,
             "#0d0887"
            ],
            [
             0.1111111111111111,
             "#46039f"
            ],
            [
             0.2222222222222222,
             "#7201a8"
            ],
            [
             0.3333333333333333,
             "#9c179e"
            ],
            [
             0.4444444444444444,
             "#bd3786"
            ],
            [
             0.5555555555555556,
             "#d8576b"
            ],
            [
             0.6666666666666666,
             "#ed7953"
            ],
            [
             0.7777777777777778,
             "#fb9f3a"
            ],
            [
             0.8888888888888888,
             "#fdca26"
            ],
            [
             1,
             "#f0f921"
            ]
           ],
           "sequentialminus": [
            [
             0,
             "#0d0887"
            ],
            [
             0.1111111111111111,
             "#46039f"
            ],
            [
             0.2222222222222222,
             "#7201a8"
            ],
            [
             0.3333333333333333,
             "#9c179e"
            ],
            [
             0.4444444444444444,
             "#bd3786"
            ],
            [
             0.5555555555555556,
             "#d8576b"
            ],
            [
             0.6666666666666666,
             "#ed7953"
            ],
            [
             0.7777777777777778,
             "#fb9f3a"
            ],
            [
             0.8888888888888888,
             "#fdca26"
            ],
            [
             1,
             "#f0f921"
            ]
           ]
          },
          "colorway": [
           "#636efa",
           "#EF553B",
           "#00cc96",
           "#ab63fa",
           "#FFA15A",
           "#19d3f3",
           "#FF6692",
           "#B6E880",
           "#FF97FF",
           "#FECB52"
          ],
          "font": {
           "color": "#2a3f5f"
          },
          "geo": {
           "bgcolor": "white",
           "lakecolor": "white",
           "landcolor": "#E5ECF6",
           "showlakes": true,
           "showland": true,
           "subunitcolor": "white"
          },
          "hoverlabel": {
           "align": "left"
          },
          "hovermode": "closest",
          "mapbox": {
           "style": "light"
          },
          "paper_bgcolor": "white",
          "plot_bgcolor": "#E5ECF6",
          "polar": {
           "angularaxis": {
            "gridcolor": "white",
            "linecolor": "white",
            "ticks": ""
           },
           "bgcolor": "#E5ECF6",
           "radialaxis": {
            "gridcolor": "white",
            "linecolor": "white",
            "ticks": ""
           }
          },
          "scene": {
           "xaxis": {
            "backgroundcolor": "#E5ECF6",
            "gridcolor": "white",
            "gridwidth": 2,
            "linecolor": "white",
            "showbackground": true,
            "ticks": "",
            "zerolinecolor": "white"
           },
           "yaxis": {
            "backgroundcolor": "#E5ECF6",
            "gridcolor": "white",
            "gridwidth": 2,
            "linecolor": "white",
            "showbackground": true,
            "ticks": "",
            "zerolinecolor": "white"
           },
           "zaxis": {
            "backgroundcolor": "#E5ECF6",
            "gridcolor": "white",
            "gridwidth": 2,
            "linecolor": "white",
            "showbackground": true,
            "ticks": "",
            "zerolinecolor": "white"
           }
          },
          "shapedefaults": {
           "line": {
            "color": "#2a3f5f"
           }
          },
          "ternary": {
           "aaxis": {
            "gridcolor": "white",
            "linecolor": "white",
            "ticks": ""
           },
           "baxis": {
            "gridcolor": "white",
            "linecolor": "white",
            "ticks": ""
           },
           "bgcolor": "#E5ECF6",
           "caxis": {
            "gridcolor": "white",
            "linecolor": "white",
            "ticks": ""
           }
          },
          "title": {
           "x": 0.05
          },
          "xaxis": {
           "automargin": true,
           "gridcolor": "white",
           "linecolor": "white",
           "ticks": "",
           "title": {
            "standoff": 15
           },
           "zerolinecolor": "white",
           "zerolinewidth": 2
          },
          "yaxis": {
           "automargin": true,
           "gridcolor": "white",
           "linecolor": "white",
           "ticks": "",
           "title": {
            "standoff": 15
           },
           "zerolinecolor": "white",
           "zerolinewidth": 2
          }
         }
        },
        "xaxis": {
         "anchor": "y",
         "domain": [
          0,
          1
         ]
        },
        "xaxis2": {
         "anchor": "y2",
         "domain": [
          0,
          1
         ]
        },
        "yaxis": {
         "anchor": "x",
         "domain": [
          0.625,
          1
         ],
         "title": {
          "text": "USD ($)"
         }
        },
        "yaxis2": {
         "anchor": "x2",
         "domain": [
          0,
          0.375
         ]
        }
       }
      },
      "text/html": [
       "<div>\n",
       "        \n",
       "        \n",
       "            <div id=\"ae341ee3-51fb-4012-a366-2b3edbb2f6a2\" class=\"plotly-graph-div\" style=\"height:525px; width:100%;\"></div>\n",
       "            <script type=\"text/javascript\">\n",
       "                require([\"plotly\"], function(Plotly) {\n",
       "                    window.PLOTLYENV=window.PLOTLYENV || {};\n",
       "                    \n",
       "                if (document.getElementById(\"ae341ee3-51fb-4012-a366-2b3edbb2f6a2\")) {\n",
       "                    Plotly.newPlot(\n",
       "                        'ae341ee3-51fb-4012-a366-2b3edbb2f6a2',\n",
       "                        [{\"name\": \"Revenue\", \"type\": \"scatter\", \"x\": [\"2019-12-31T00:00:00\", \"2019-09-30T00:00:00\", \"2019-06-30T00:00:00\", \"2019-03-31T00:00:00\", \"2018-12-31T00:00:00\", \"2018-09-30T00:00:00\", \"2018-06-30T00:00:00\", \"2018-03-31T00:00:00\", \"2017-12-31T00:00:00\", \"2017-09-30T00:00:00\", \"2017-06-30T00:00:00\", \"2017-03-31T00:00:00\", \"2016-12-31T00:00:00\", \"2016-09-30T00:00:00\", \"2016-06-30T00:00:00\", \"2016-03-31T00:00:00\", \"2015-12-31T00:00:00\", \"2015-09-30T00:00:00\", \"2015-06-30T00:00:00\", \"2015-03-31T00:00:00\", \"2014-12-31T00:00:00\", \"2014-09-30T00:00:00\", \"2014-06-30T00:00:00\", \"2014-04-29T00:00:00\", \"2014-03-31T00:00:00\", \"2013-12-31T00:00:00\", \"2013-09-30T00:00:00\", \"2013-06-30T00:00:00\", \"2013-03-31T00:00:00\", \"2012-12-31T00:00:00\", \"2012-09-30T00:00:00\", \"2012-06-30T00:00:00\", \"2012-03-31T00:00:00\", \"2011-12-31T00:00:00\", \"2011-09-30T00:00:00\", \"2011-06-30T00:00:00\", \"2011-03-31T00:00:00\", \"2010-12-31T00:00:00\", \"2010-09-30T00:00:00\", \"2010-06-30T00:00:00\", \"2010-03-31T00:00:00\", \"2009-12-31T00:00:00\", \"2009-09-30T00:00:00\", \"2009-06-30T00:00:00\"], \"xaxis\": \"x\", \"y\": [21777000000.0, 18028000000.0, 19160000000.0, 18182000000.0, 21761000000.0, 18755000000.0, 20003000000.0, 19072000000.0, 22542000000.0, 19154000000.0, 19288000000.0, 18155000000.0, 21770000000.0, 19226000000.0, 20239000000.0, 18684000000.0, 22059000000.0, 19279000000.0, 20813000000.0, 19590000000.0, 24113000000.0, 21832000000.0, 23424000000.0, 23424000000.0, 22236000000.0, 27699000000.0, 23720000000.0, 24924000000.0, 23408000000.0, 29304000000.0, 24747000000.0, 25783000000.0, 24673000000.0, 29486000000.0, 26157000000.0, 26666000000.0, 24607000000.0, 29018000000.0, 24271000000.0, 23724000000.0, 22857000000.0, 27230000000.0, 23566000000.0, 23250000000.0], \"yaxis\": \"y\"}, {\"name\": \"Revenue Growth\", \"type\": \"scatter\", \"x\": [\"2019-12-31T00:00:00\", \"2019-09-30T00:00:00\", \"2019-06-30T00:00:00\", \"2019-03-31T00:00:00\", \"2018-12-31T00:00:00\", \"2018-09-30T00:00:00\", \"2018-06-30T00:00:00\", \"2018-03-31T00:00:00\", \"2017-12-31T00:00:00\", \"2017-09-30T00:00:00\", \"2017-06-30T00:00:00\", \"2017-03-31T00:00:00\", \"2016-12-31T00:00:00\", \"2016-09-30T00:00:00\", \"2016-06-30T00:00:00\", \"2016-03-31T00:00:00\", \"2015-12-31T00:00:00\", \"2015-09-30T00:00:00\", \"2015-06-30T00:00:00\", \"2015-03-31T00:00:00\", \"2014-12-31T00:00:00\", \"2014-09-30T00:00:00\", \"2014-06-30T00:00:00\", \"2014-04-29T00:00:00\", \"2014-03-31T00:00:00\", \"2013-12-31T00:00:00\", \"2013-09-30T00:00:00\", \"2013-06-30T00:00:00\", \"2013-03-31T00:00:00\", \"2012-12-31T00:00:00\", \"2012-09-30T00:00:00\", \"2012-06-30T00:00:00\", \"2012-03-31T00:00:00\", \"2011-12-31T00:00:00\", \"2011-09-30T00:00:00\", \"2011-06-30T00:00:00\", \"2011-03-31T00:00:00\", \"2010-12-31T00:00:00\", \"2010-09-30T00:00:00\", \"2010-06-30T00:00:00\", \"2010-03-31T00:00:00\", \"2009-12-31T00:00:00\", \"2009-09-30T00:00:00\", \"2009-06-30T00:00:00\"], \"xaxis\": \"x2\", \"y\": [0.2079542933214999, -0.05908141962421712, 0.053789462105378945, -0.16446854464408805, 0.16027725939749402, -0.06239064140378943, 0.04881501677852349, -0.15393487711826812, 0.17688211339667956, -0.006947324761509747, 0.062407050399339026, -0.166054203031695, 0.13232081556225944, -0.0500518800335985, 0.08322628987368871, -0.15299877600979192, 0.14419835053685356, -0.07370393504059962, 0.062429811128126594, -0.187575166922407, 0.10447966288017589, -0.06796448087431695, 0.0, 0.05342687533729088, -0.19722733672695766, 0.1677487352445194, -0.04830685283261114, 0.06476418318523582, -0.2012012012012012, 0.18414353254939994, -0.04018151495171237, 0.0449884489117659, -0.163230007461168, 0.1272699468593493, -0.019087977199429985, 0.08367537692526517, -0.15200909780136468, 0.1955832062955791, 0.023056820097791267, 0.037931487071794195, -0.16059493206022768, 0.15547823135025035, 0.013591397849462365, -0.1331], \"yaxis\": \"y2\"}],\n",
       "                        {\"annotations\": [{\"font\": {\"size\": 16}, \"showarrow\": false, \"text\": \"Revenue of IBM\", \"x\": 0.5, \"xanchor\": \"center\", \"xref\": \"paper\", \"y\": 1.0, \"yanchor\": \"bottom\", \"yref\": \"paper\"}, {\"font\": {\"size\": 16}, \"showarrow\": false, \"text\": \"Revenue Growth of IBM\", \"x\": 0.5, \"xanchor\": \"center\", \"xref\": \"paper\", \"y\": 0.375, \"yanchor\": \"bottom\", \"yref\": \"paper\"}], \"template\": {\"data\": {\"bar\": [{\"error_x\": {\"color\": \"#2a3f5f\"}, \"error_y\": {\"color\": \"#2a3f5f\"}, \"marker\": {\"line\": {\"color\": \"#E5ECF6\", \"width\": 0.5}}, \"type\": \"bar\"}], \"barpolar\": [{\"marker\": {\"line\": {\"color\": \"#E5ECF6\", \"width\": 0.5}}, \"type\": \"barpolar\"}], \"carpet\": [{\"aaxis\": {\"endlinecolor\": \"#2a3f5f\", \"gridcolor\": \"white\", \"linecolor\": \"white\", \"minorgridcolor\": \"white\", \"startlinecolor\": \"#2a3f5f\"}, \"baxis\": {\"endlinecolor\": \"#2a3f5f\", \"gridcolor\": \"white\", \"linecolor\": \"white\", \"minorgridcolor\": \"white\", \"startlinecolor\": \"#2a3f5f\"}, \"type\": \"carpet\"}], \"choropleth\": [{\"colorbar\": {\"outlinewidth\": 0, \"ticks\": \"\"}, \"type\": \"choropleth\"}], \"contour\": [{\"colorbar\": {\"outlinewidth\": 0, \"ticks\": \"\"}, \"colorscale\": [[0.0, \"#0d0887\"], [0.1111111111111111, \"#46039f\"], [0.2222222222222222, \"#7201a8\"], [0.3333333333333333, \"#9c179e\"], [0.4444444444444444, \"#bd3786\"], [0.5555555555555556, \"#d8576b\"], [0.6666666666666666, \"#ed7953\"], [0.7777777777777778, \"#fb9f3a\"], [0.8888888888888888, \"#fdca26\"], [1.0, \"#f0f921\"]], \"type\": \"contour\"}], \"contourcarpet\": [{\"colorbar\": {\"outlinewidth\": 0, \"ticks\": \"\"}, \"type\": \"contourcarpet\"}], \"heatmap\": [{\"colorbar\": {\"outlinewidth\": 0, \"ticks\": \"\"}, \"colorscale\": [[0.0, \"#0d0887\"], [0.1111111111111111, \"#46039f\"], [0.2222222222222222, \"#7201a8\"], [0.3333333333333333, \"#9c179e\"], [0.4444444444444444, \"#bd3786\"], [0.5555555555555556, \"#d8576b\"], [0.6666666666666666, \"#ed7953\"], [0.7777777777777778, \"#fb9f3a\"], [0.8888888888888888, \"#fdca26\"], [1.0, \"#f0f921\"]], \"type\": \"heatmap\"}], \"heatmapgl\": [{\"colorbar\": {\"outlinewidth\": 0, \"ticks\": \"\"}, \"colorscale\": [[0.0, \"#0d0887\"], [0.1111111111111111, \"#46039f\"], [0.2222222222222222, \"#7201a8\"], [0.3333333333333333, \"#9c179e\"], [0.4444444444444444, \"#bd3786\"], [0.5555555555555556, \"#d8576b\"], [0.6666666666666666, \"#ed7953\"], [0.7777777777777778, \"#fb9f3a\"], [0.8888888888888888, \"#fdca26\"], [1.0, \"#f0f921\"]], \"type\": \"heatmapgl\"}], \"histogram\": [{\"marker\": {\"colorbar\": {\"outlinewidth\": 0, \"ticks\": \"\"}}, \"type\": \"histogram\"}], \"histogram2d\": [{\"colorbar\": {\"outlinewidth\": 0, \"ticks\": \"\"}, \"colorscale\": [[0.0, \"#0d0887\"], [0.1111111111111111, \"#46039f\"], [0.2222222222222222, \"#7201a8\"], [0.3333333333333333, \"#9c179e\"], [0.4444444444444444, \"#bd3786\"], [0.5555555555555556, \"#d8576b\"], [0.6666666666666666, \"#ed7953\"], [0.7777777777777778, \"#fb9f3a\"], [0.8888888888888888, \"#fdca26\"], [1.0, \"#f0f921\"]], \"type\": \"histogram2d\"}], \"histogram2dcontour\": [{\"colorbar\": {\"outlinewidth\": 0, \"ticks\": \"\"}, \"colorscale\": [[0.0, \"#0d0887\"], [0.1111111111111111, \"#46039f\"], [0.2222222222222222, \"#7201a8\"], [0.3333333333333333, \"#9c179e\"], [0.4444444444444444, \"#bd3786\"], [0.5555555555555556, \"#d8576b\"], [0.6666666666666666, \"#ed7953\"], [0.7777777777777778, \"#fb9f3a\"], [0.8888888888888888, \"#fdca26\"], [1.0, \"#f0f921\"]], \"type\": \"histogram2dcontour\"}], \"mesh3d\": [{\"colorbar\": {\"outlinewidth\": 0, \"ticks\": \"\"}, \"type\": \"mesh3d\"}], \"parcoords\": [{\"line\": {\"colorbar\": {\"outlinewidth\": 0, \"ticks\": \"\"}}, \"type\": \"parcoords\"}], \"pie\": [{\"automargin\": true, \"type\": \"pie\"}], \"scatter\": [{\"marker\": {\"colorbar\": {\"outlinewidth\": 0, \"ticks\": \"\"}}, \"type\": \"scatter\"}], \"scatter3d\": [{\"line\": {\"colorbar\": {\"outlinewidth\": 0, \"ticks\": \"\"}}, \"marker\": {\"colorbar\": {\"outlinewidth\": 0, \"ticks\": \"\"}}, \"type\": \"scatter3d\"}], \"scattercarpet\": [{\"marker\": {\"colorbar\": {\"outlinewidth\": 0, \"ticks\": \"\"}}, \"type\": \"scattercarpet\"}], \"scattergeo\": [{\"marker\": {\"colorbar\": {\"outlinewidth\": 0, \"ticks\": \"\"}}, \"type\": \"scattergeo\"}], \"scattergl\": [{\"marker\": {\"colorbar\": {\"outlinewidth\": 0, \"ticks\": \"\"}}, \"type\": \"scattergl\"}], \"scattermapbox\": [{\"marker\": {\"colorbar\": {\"outlinewidth\": 0, \"ticks\": \"\"}}, \"type\": \"scattermapbox\"}], \"scatterpolar\": [{\"marker\": {\"colorbar\": {\"outlinewidth\": 0, \"ticks\": \"\"}}, \"type\": \"scatterpolar\"}], \"scatterpolargl\": [{\"marker\": {\"colorbar\": {\"outlinewidth\": 0, \"ticks\": \"\"}}, \"type\": \"scatterpolargl\"}], \"scatterternary\": [{\"marker\": {\"colorbar\": {\"outlinewidth\": 0, \"ticks\": \"\"}}, \"type\": \"scatterternary\"}], \"surface\": [{\"colorbar\": {\"outlinewidth\": 0, \"ticks\": \"\"}, \"colorscale\": [[0.0, \"#0d0887\"], [0.1111111111111111, \"#46039f\"], [0.2222222222222222, \"#7201a8\"], [0.3333333333333333, \"#9c179e\"], [0.4444444444444444, \"#bd3786\"], [0.5555555555555556, \"#d8576b\"], [0.6666666666666666, \"#ed7953\"], [0.7777777777777778, \"#fb9f3a\"], [0.8888888888888888, \"#fdca26\"], [1.0, \"#f0f921\"]], \"type\": \"surface\"}], \"table\": [{\"cells\": {\"fill\": {\"color\": \"#EBF0F8\"}, \"line\": {\"color\": \"white\"}}, \"header\": {\"fill\": {\"color\": \"#C8D4E3\"}, \"line\": {\"color\": \"white\"}}, \"type\": \"table\"}]}, \"layout\": {\"annotationdefaults\": {\"arrowcolor\": \"#2a3f5f\", \"arrowhead\": 0, \"arrowwidth\": 1}, \"coloraxis\": {\"colorbar\": {\"outlinewidth\": 0, \"ticks\": \"\"}}, \"colorscale\": {\"diverging\": [[0, \"#8e0152\"], [0.1, \"#c51b7d\"], [0.2, \"#de77ae\"], [0.3, \"#f1b6da\"], [0.4, \"#fde0ef\"], [0.5, \"#f7f7f7\"], [0.6, \"#e6f5d0\"], [0.7, \"#b8e186\"], [0.8, \"#7fbc41\"], [0.9, \"#4d9221\"], [1, \"#276419\"]], \"sequential\": [[0.0, \"#0d0887\"], [0.1111111111111111, \"#46039f\"], [0.2222222222222222, \"#7201a8\"], [0.3333333333333333, \"#9c179e\"], [0.4444444444444444, \"#bd3786\"], [0.5555555555555556, \"#d8576b\"], [0.6666666666666666, \"#ed7953\"], [0.7777777777777778, \"#fb9f3a\"], [0.8888888888888888, \"#fdca26\"], [1.0, \"#f0f921\"]], \"sequentialminus\": [[0.0, \"#0d0887\"], [0.1111111111111111, \"#46039f\"], [0.2222222222222222, \"#7201a8\"], [0.3333333333333333, \"#9c179e\"], [0.4444444444444444, \"#bd3786\"], [0.5555555555555556, \"#d8576b\"], [0.6666666666666666, \"#ed7953\"], [0.7777777777777778, \"#fb9f3a\"], [0.8888888888888888, \"#fdca26\"], [1.0, \"#f0f921\"]]}, \"colorway\": [\"#636efa\", \"#EF553B\", \"#00cc96\", \"#ab63fa\", \"#FFA15A\", \"#19d3f3\", \"#FF6692\", \"#B6E880\", \"#FF97FF\", \"#FECB52\"], \"font\": {\"color\": \"#2a3f5f\"}, \"geo\": {\"bgcolor\": \"white\", \"lakecolor\": \"white\", \"landcolor\": \"#E5ECF6\", \"showlakes\": true, \"showland\": true, \"subunitcolor\": \"white\"}, \"hoverlabel\": {\"align\": \"left\"}, \"hovermode\": \"closest\", \"mapbox\": {\"style\": \"light\"}, \"paper_bgcolor\": \"white\", \"plot_bgcolor\": \"#E5ECF6\", \"polar\": {\"angularaxis\": {\"gridcolor\": \"white\", \"linecolor\": \"white\", \"ticks\": \"\"}, \"bgcolor\": \"#E5ECF6\", \"radialaxis\": {\"gridcolor\": \"white\", \"linecolor\": \"white\", \"ticks\": \"\"}}, \"scene\": {\"xaxis\": {\"backgroundcolor\": \"#E5ECF6\", \"gridcolor\": \"white\", \"gridwidth\": 2, \"linecolor\": \"white\", \"showbackground\": true, \"ticks\": \"\", \"zerolinecolor\": \"white\"}, \"yaxis\": {\"backgroundcolor\": \"#E5ECF6\", \"gridcolor\": \"white\", \"gridwidth\": 2, \"linecolor\": \"white\", \"showbackground\": true, \"ticks\": \"\", \"zerolinecolor\": \"white\"}, \"zaxis\": {\"backgroundcolor\": \"#E5ECF6\", \"gridcolor\": \"white\", \"gridwidth\": 2, \"linecolor\": \"white\", \"showbackground\": true, \"ticks\": \"\", \"zerolinecolor\": \"white\"}}, \"shapedefaults\": {\"line\": {\"color\": \"#2a3f5f\"}}, \"ternary\": {\"aaxis\": {\"gridcolor\": \"white\", \"linecolor\": \"white\", \"ticks\": \"\"}, \"baxis\": {\"gridcolor\": \"white\", \"linecolor\": \"white\", \"ticks\": \"\"}, \"bgcolor\": \"#E5ECF6\", \"caxis\": {\"gridcolor\": \"white\", \"linecolor\": \"white\", \"ticks\": \"\"}}, \"title\": {\"x\": 0.05}, \"xaxis\": {\"automargin\": true, \"gridcolor\": \"white\", \"linecolor\": \"white\", \"ticks\": \"\", \"title\": {\"standoff\": 15}, \"zerolinecolor\": \"white\", \"zerolinewidth\": 2}, \"yaxis\": {\"automargin\": true, \"gridcolor\": \"white\", \"linecolor\": \"white\", \"ticks\": \"\", \"title\": {\"standoff\": 15}, \"zerolinecolor\": \"white\", \"zerolinewidth\": 2}}}, \"xaxis\": {\"anchor\": \"y\", \"domain\": [0.0, 1.0]}, \"xaxis2\": {\"anchor\": \"y2\", \"domain\": [0.0, 1.0]}, \"yaxis\": {\"anchor\": \"x\", \"domain\": [0.625, 1.0], \"title\": {\"text\": \"USD ($)\"}}, \"yaxis2\": {\"anchor\": \"x2\", \"domain\": [0.0, 0.375]}},\n",
       "                        {\"responsive\": true}\n",
       "                    ).then(function(){\n",
       "                            \n",
       "var gd = document.getElementById('ae341ee3-51fb-4012-a366-2b3edbb2f6a2');\n",
       "var x = new MutationObserver(function (mutations, observer) {{\n",
       "        var display = window.getComputedStyle(gd).display;\n",
       "        if (!display || display === 'none') {{\n",
       "            console.log([gd, 'removed!']);\n",
       "            Plotly.purge(gd);\n",
       "            observer.disconnect();\n",
       "        }}\n",
       "}});\n",
       "\n",
       "// Listen for the removal of the full notebook cells\n",
       "var notebookContainer = gd.closest('#notebook-container');\n",
       "if (notebookContainer) {{\n",
       "    x.observe(notebookContainer, {childList: true});\n",
       "}}\n",
       "\n",
       "// Listen for the clearing of the current output cell\n",
       "var outputEl = gd.closest('.output');\n",
       "if (outputEl) {{\n",
       "    x.observe(outputEl, {childList: true});\n",
       "}}\n",
       "\n",
       "                        })\n",
       "                };\n",
       "                });\n",
       "            </script>\n",
       "        </div>"
      ]
     },
     "metadata": {},
     "output_type": "display_data"
    }
   ],
   "source": [
    "# Making a plotly subplot\n",
    "fig = make_subplots(rows=2, cols=1, subplot_titles=(f'Revenue of {ticker}', f'Revenue Growth of {ticker}'))\n",
    "\n",
    "# Adding the Revenue subplot\n",
    "fig.add_trace(go.Scatter(x=financials.index, y=financials['Revenue'], name = 'Revenue'), row=1, col=1)\n",
    "\n",
    "# Adding the Revenue Growth subplot\n",
    "fig.add_trace(go.Scatter(x=financials.index, y=financials['Revenue Growth'], name = 'Revenue Growth'), row=2, col=1)\n",
    "\n",
    "fig.update_yaxes(title_text='USD ($)', row=1, col=1)\n",
    "\n",
    "fig.show()"
   ]
  },
  {
   "cell_type": "markdown",
   "metadata": {},
   "source": [
    "#### Analysing the results"
   ]
  },
  {
   "cell_type": "markdown",
   "metadata": {},
   "source": [
    "We observe from the first graph that : \n",
    "- The revenue of IBM was increasing from 2009 to its peak in decembre 2011 with **29.486B USD $\\$ $**.\n",
    "- Then he started falling until March 2015 where it's stabilized with a **20B USD$\\$ $** mean.\n",
    "\n",
    "Its annual fluctuaction can be observed from the second graph, we see a repeated pattern each year. It can be interpreted based on the quarters $Q_i$ :\n",
    "- $Q_1$ - Mar : the minimum value of the revenue growth for each year ;\n",
    "- $Q_2$ - Jun : a primal increase in the revenue growth ;\n",
    "- $Q_3$ - Sep : a small decrease in the revenue growth ;\n",
    "- $Q_4$ - Dec : a second increase to its peak value of the year, followed by a decrease and the a repetition of the pattern."
   ]
  },
  {
   "cell_type": "markdown",
   "metadata": {},
   "source": [
    "### 2.3 Margin Analysis"
   ]
  },
  {
   "cell_type": "markdown",
   "metadata": {},
   "source": [
    " #### Gross Margin"
   ]
  },
  {
   "cell_type": "markdown",
   "metadata": {},
   "source": [
    "This is revenues minus the cost of goods sold (COGS), divided by revenues.\n",
    "\n",
    "It indicates the amount of money earned from the sale of goods and services, before selling and administrative charges are considered. \n",
    "\n",
    "In essence, it reveals the ability of an organization to earn a reasonable return on its offerings.\n",
    "\n",
    "In our study we took the cost of revenu instead of the COGS, the profit margin measure will generate a lower value than those typically used by corporations for quarterly reporting."
   ]
  },
  {
   "cell_type": "code",
   "execution_count": 44,
   "metadata": {},
   "outputs": [
    {
     "name": "stdout",
     "output_type": "stream",
     "text": [
      " The Gross Margin of IBM for the last Quarter : 50.97%\n"
     ]
    }
   ],
   "source": [
    "# For the Last Quarter\n",
    "gross_margin = round(financials[\"Gross Margin\"][0] * 100, 2)\n",
    "print(f' The Gross Margin of IBM for the last Quarter : {gross_margin}%')"
   ]
  },
  {
   "cell_type": "markdown",
   "metadata": {},
   "source": [
    "#### Operating Margin"
   ]
  },
  {
   "cell_type": "markdown",
   "metadata": {},
   "source": [
    "This is the profit earned after all operating expenses have been subtracted from the gross margin, divided by revenues. \n",
    "\n",
    "It reveals the amount that a business has earned before financing and other costs are considered.\n",
    "\n",
    "It is also called the EBIT Margin (earnings before interest and taxes)."
   ]
  },
  {
   "cell_type": "markdown",
   "metadata": {},
   "source": [
    "#### Net Profit Margin"
   ]
  },
  {
   "cell_type": "markdown",
   "metadata": {},
   "source": [
    "This is the profit earned after all operating and non-operating costs have been subtracted from the gross margin, divided by revenues. \n",
    "\n",
    "This is the ultimate analysis item - can a business earn a profit when all deductions are considered?\n"
   ]
  },
  {
   "cell_type": "markdown",
   "metadata": {},
   "source": [
    "### Plotting the results"
   ]
  },
  {
   "cell_type": "code",
   "execution_count": 45,
   "metadata": {
    "scrolled": false
   },
   "outputs": [
    {
     "data": {
      "application/vnd.plotly.v1+json": {
       "config": {
        "plotlyServerURL": "https://plot.ly"
       },
       "data": [
        {
         "name": "Gross Margin",
         "type": "scatter",
         "x": [
          "2019-12-31T00:00:00",
          "2019-09-30T00:00:00",
          "2019-06-30T00:00:00",
          "2019-03-31T00:00:00",
          "2018-12-31T00:00:00",
          "2018-09-30T00:00:00",
          "2018-06-30T00:00:00",
          "2018-03-31T00:00:00",
          "2017-12-31T00:00:00",
          "2017-09-30T00:00:00",
          "2017-06-30T00:00:00",
          "2017-03-31T00:00:00",
          "2016-12-31T00:00:00",
          "2016-09-30T00:00:00",
          "2016-06-30T00:00:00",
          "2016-03-31T00:00:00",
          "2015-12-31T00:00:00",
          "2015-09-30T00:00:00",
          "2015-06-30T00:00:00",
          "2015-03-31T00:00:00",
          "2014-12-31T00:00:00",
          "2014-09-30T00:00:00",
          "2014-06-30T00:00:00",
          "2014-04-29T00:00:00",
          "2014-03-31T00:00:00",
          "2013-12-31T00:00:00",
          "2013-09-30T00:00:00",
          "2013-06-30T00:00:00",
          "2013-03-31T00:00:00",
          "2012-12-31T00:00:00",
          "2012-09-30T00:00:00",
          "2012-06-30T00:00:00",
          "2012-03-31T00:00:00",
          "2011-12-31T00:00:00",
          "2011-09-30T00:00:00",
          "2011-06-30T00:00:00",
          "2011-03-31T00:00:00",
          "2010-12-31T00:00:00",
          "2010-09-30T00:00:00",
          "2010-06-30T00:00:00",
          "2010-03-31T00:00:00",
          "2009-12-31T00:00:00",
          "2009-09-30T00:00:00",
          "2009-06-30T00:00:00"
         ],
         "xaxis": "x",
         "y": [
          0.509712081554,
          0.462336365653,
          0.47025052192100003,
          0.442360576394,
          0.49110794540700003,
          0.469421487603,
          0.45983102534599996,
          0.43241401006700003,
          0.48185609085299996,
          0.459434060771,
          0.455879303194,
          0.428091434866,
          0.500367478181,
          0.46879226048100003,
          0.47937151045000004,
          0.464889745237,
          0.5170678634570001,
          0.489444473261,
          0.49920722625299996,
          0.482491066871,
          0.533405217103,
          0.505084279956,
          0.480660860656,
          0.480660860656,
          0.478,
          0.5168417632410001,
          0.479721753794,
          0.486759749639,
          0.456168831169,
          0.517574392574,
          0.47403725704099997,
          0.47636039250699996,
          0.450614031532,
          0.49928779759900005,
          0.46538211568599996,
          0.464449111228,
          0.441256553013,
          0.490281893997,
          0.453298174776,
          0.455614567527,
          0.43645272783,
          0.4827,
          0.451,
          0.4551
         ],
         "yaxis": "y"
        },
        {
         "name": "Operating Margin",
         "type": "scatter",
         "x": [
          "2019-12-31T00:00:00",
          "2019-09-30T00:00:00",
          "2019-06-30T00:00:00",
          "2019-03-31T00:00:00",
          "2018-12-31T00:00:00",
          "2018-09-30T00:00:00",
          "2018-06-30T00:00:00",
          "2018-03-31T00:00:00",
          "2017-12-31T00:00:00",
          "2017-09-30T00:00:00",
          "2017-06-30T00:00:00",
          "2017-03-31T00:00:00",
          "2016-12-31T00:00:00",
          "2016-09-30T00:00:00",
          "2016-06-30T00:00:00",
          "2016-03-31T00:00:00",
          "2015-12-31T00:00:00",
          "2015-09-30T00:00:00",
          "2015-06-30T00:00:00",
          "2015-03-31T00:00:00",
          "2014-12-31T00:00:00",
          "2014-09-30T00:00:00",
          "2014-06-30T00:00:00",
          "2014-04-29T00:00:00",
          "2014-03-31T00:00:00",
          "2013-12-31T00:00:00",
          "2013-09-30T00:00:00",
          "2013-06-30T00:00:00",
          "2013-03-31T00:00:00",
          "2012-12-31T00:00:00",
          "2012-09-30T00:00:00",
          "2012-06-30T00:00:00",
          "2012-03-31T00:00:00",
          "2011-12-31T00:00:00",
          "2011-09-30T00:00:00",
          "2011-06-30T00:00:00",
          "2011-03-31T00:00:00",
          "2010-12-31T00:00:00",
          "2010-09-30T00:00:00",
          "2010-06-30T00:00:00",
          "2010-03-31T00:00:00",
          "2009-12-31T00:00:00",
          "2009-09-30T00:00:00",
          "2009-06-30T00:00:00"
         ],
         "xaxis": "x2",
         "y": [
          0.183358589337,
          0.08442422897710002,
          0.144467640919,
          0.10356396436000001,
          0.203759018427,
          0.159797387363,
          0.138729190621,
          0.0595637583893,
          0.198252151539,
          0.15996658661399998,
          0.12665906263,
          0.0784356926467,
          0.228984841525,
          0.169718090086,
          0.150600326103,
          0.055341468636300004,
          0.23115281744399999,
          0.18782094507,
          0.202950079277,
          0.153190403267,
          0.294239621781,
          0.21711249542,
          0.17398821721299998,
          0.17398821721299998,
          0.1413,
          0.251344813892,
          0.202866779089,
          0.166265446959,
          0.15404989747099998,
          0.267233142233,
          0.20503495373199998,
          0.200170655083,
          0.155473594618,
          0.246693345995,
          0.19218564820099998,
          0.183192079802,
          0.155118462226,
          0.239713281412,
          0.192699105929,
          0.19284269094599998,
          0.153782211139,
          0.2373,
          0.1891,
          0.1877
         ],
         "yaxis": "y2"
        },
        {
         "name": "Net Profit Margin",
         "type": "scatter",
         "x": [
          "2019-12-31T00:00:00",
          "2019-09-30T00:00:00",
          "2019-06-30T00:00:00",
          "2019-03-31T00:00:00",
          "2018-12-31T00:00:00",
          "2018-09-30T00:00:00",
          "2018-06-30T00:00:00",
          "2018-03-31T00:00:00",
          "2017-12-31T00:00:00",
          "2017-09-30T00:00:00",
          "2017-06-30T00:00:00",
          "2017-03-31T00:00:00",
          "2016-12-31T00:00:00",
          "2016-09-30T00:00:00",
          "2016-06-30T00:00:00",
          "2016-03-31T00:00:00",
          "2015-12-31T00:00:00",
          "2015-09-30T00:00:00",
          "2015-06-30T00:00:00",
          "2015-03-31T00:00:00",
          "2014-12-31T00:00:00",
          "2014-09-30T00:00:00",
          "2014-06-30T00:00:00",
          "2014-04-29T00:00:00",
          "2014-03-31T00:00:00",
          "2013-12-31T00:00:00",
          "2013-09-30T00:00:00",
          "2013-06-30T00:00:00",
          "2013-03-31T00:00:00",
          "2012-12-31T00:00:00",
          "2012-09-30T00:00:00",
          "2012-06-30T00:00:00",
          "2012-03-31T00:00:00",
          "2011-12-31T00:00:00",
          "2011-09-30T00:00:00",
          "2011-06-30T00:00:00",
          "2011-03-31T00:00:00",
          "2010-12-31T00:00:00",
          "2010-09-30T00:00:00",
          "2010-06-30T00:00:00",
          "2010-03-31T00:00:00",
          "2009-12-31T00:00:00",
          "2009-09-30T00:00:00",
          "2009-06-30T00:00:00"
         ],
         "xaxis": "x3",
         "y": [
          0.16852642696400003,
          0.0927446194808,
          0.13037578288100002,
          0.0875041249588,
          0.0896558062589,
          0.143641695548,
          0.12018197270400001,
          0.0880348154362,
          -0.0467571644042,
          0.14226793359099998,
          0.120904189133,
          0.0963921784632,
          0.206752411576,
          0.148392801415,
          0.12372152774299999,
          0.107792763862,
          0.202321048098,
          0.153016235282,
          0.165713736607,
          0.118836140888,
          0.22738771616999998,
          0.0008244778307069999,
          0.139194842896,
          0.139194842896,
          0.1072,
          0.223257157298,
          0.170362563238,
          0.129433477772,
          0.12952836637,
          0.19905132405099998,
          0.154483371722,
          0.150564325331,
          0.12426539131799999,
          0.186190056298,
          0.14676759567199998,
          0.137365934148,
          0.11634900638000001,
          0.18116341581099998,
          0.147871945944,
          0.142724667004,
          0.113794461215,
          0.1768,
          0.1364,
          0.1335
         ],
         "yaxis": "y3"
        }
       ],
       "layout": {
        "annotations": [
         {
          "font": {
           "size": 16
          },
          "showarrow": false,
          "text": "Gross Margin of IBM",
          "x": 0.5,
          "xanchor": "center",
          "xref": "paper",
          "y": 1,
          "yanchor": "bottom",
          "yref": "paper"
         },
         {
          "font": {
           "size": 16
          },
          "showarrow": false,
          "text": "Operating Margin of IBM",
          "x": 0.5,
          "xanchor": "center",
          "xref": "paper",
          "y": 0.6111111111111112,
          "yanchor": "bottom",
          "yref": "paper"
         },
         {
          "font": {
           "size": 16
          },
          "showarrow": false,
          "text": "Net Profit Margin of IBM",
          "x": 0.5,
          "xanchor": "center",
          "xref": "paper",
          "y": 0.22222222222222224,
          "yanchor": "bottom",
          "yref": "paper"
         }
        ],
        "template": {
         "data": {
          "bar": [
           {
            "error_x": {
             "color": "#2a3f5f"
            },
            "error_y": {
             "color": "#2a3f5f"
            },
            "marker": {
             "line": {
              "color": "#E5ECF6",
              "width": 0.5
             }
            },
            "type": "bar"
           }
          ],
          "barpolar": [
           {
            "marker": {
             "line": {
              "color": "#E5ECF6",
              "width": 0.5
             }
            },
            "type": "barpolar"
           }
          ],
          "carpet": [
           {
            "aaxis": {
             "endlinecolor": "#2a3f5f",
             "gridcolor": "white",
             "linecolor": "white",
             "minorgridcolor": "white",
             "startlinecolor": "#2a3f5f"
            },
            "baxis": {
             "endlinecolor": "#2a3f5f",
             "gridcolor": "white",
             "linecolor": "white",
             "minorgridcolor": "white",
             "startlinecolor": "#2a3f5f"
            },
            "type": "carpet"
           }
          ],
          "choropleth": [
           {
            "colorbar": {
             "outlinewidth": 0,
             "ticks": ""
            },
            "type": "choropleth"
           }
          ],
          "contour": [
           {
            "colorbar": {
             "outlinewidth": 0,
             "ticks": ""
            },
            "colorscale": [
             [
              0,
              "#0d0887"
             ],
             [
              0.1111111111111111,
              "#46039f"
             ],
             [
              0.2222222222222222,
              "#7201a8"
             ],
             [
              0.3333333333333333,
              "#9c179e"
             ],
             [
              0.4444444444444444,
              "#bd3786"
             ],
             [
              0.5555555555555556,
              "#d8576b"
             ],
             [
              0.6666666666666666,
              "#ed7953"
             ],
             [
              0.7777777777777778,
              "#fb9f3a"
             ],
             [
              0.8888888888888888,
              "#fdca26"
             ],
             [
              1,
              "#f0f921"
             ]
            ],
            "type": "contour"
           }
          ],
          "contourcarpet": [
           {
            "colorbar": {
             "outlinewidth": 0,
             "ticks": ""
            },
            "type": "contourcarpet"
           }
          ],
          "heatmap": [
           {
            "colorbar": {
             "outlinewidth": 0,
             "ticks": ""
            },
            "colorscale": [
             [
              0,
              "#0d0887"
             ],
             [
              0.1111111111111111,
              "#46039f"
             ],
             [
              0.2222222222222222,
              "#7201a8"
             ],
             [
              0.3333333333333333,
              "#9c179e"
             ],
             [
              0.4444444444444444,
              "#bd3786"
             ],
             [
              0.5555555555555556,
              "#d8576b"
             ],
             [
              0.6666666666666666,
              "#ed7953"
             ],
             [
              0.7777777777777778,
              "#fb9f3a"
             ],
             [
              0.8888888888888888,
              "#fdca26"
             ],
             [
              1,
              "#f0f921"
             ]
            ],
            "type": "heatmap"
           }
          ],
          "heatmapgl": [
           {
            "colorbar": {
             "outlinewidth": 0,
             "ticks": ""
            },
            "colorscale": [
             [
              0,
              "#0d0887"
             ],
             [
              0.1111111111111111,
              "#46039f"
             ],
             [
              0.2222222222222222,
              "#7201a8"
             ],
             [
              0.3333333333333333,
              "#9c179e"
             ],
             [
              0.4444444444444444,
              "#bd3786"
             ],
             [
              0.5555555555555556,
              "#d8576b"
             ],
             [
              0.6666666666666666,
              "#ed7953"
             ],
             [
              0.7777777777777778,
              "#fb9f3a"
             ],
             [
              0.8888888888888888,
              "#fdca26"
             ],
             [
              1,
              "#f0f921"
             ]
            ],
            "type": "heatmapgl"
           }
          ],
          "histogram": [
           {
            "marker": {
             "colorbar": {
              "outlinewidth": 0,
              "ticks": ""
             }
            },
            "type": "histogram"
           }
          ],
          "histogram2d": [
           {
            "colorbar": {
             "outlinewidth": 0,
             "ticks": ""
            },
            "colorscale": [
             [
              0,
              "#0d0887"
             ],
             [
              0.1111111111111111,
              "#46039f"
             ],
             [
              0.2222222222222222,
              "#7201a8"
             ],
             [
              0.3333333333333333,
              "#9c179e"
             ],
             [
              0.4444444444444444,
              "#bd3786"
             ],
             [
              0.5555555555555556,
              "#d8576b"
             ],
             [
              0.6666666666666666,
              "#ed7953"
             ],
             [
              0.7777777777777778,
              "#fb9f3a"
             ],
             [
              0.8888888888888888,
              "#fdca26"
             ],
             [
              1,
              "#f0f921"
             ]
            ],
            "type": "histogram2d"
           }
          ],
          "histogram2dcontour": [
           {
            "colorbar": {
             "outlinewidth": 0,
             "ticks": ""
            },
            "colorscale": [
             [
              0,
              "#0d0887"
             ],
             [
              0.1111111111111111,
              "#46039f"
             ],
             [
              0.2222222222222222,
              "#7201a8"
             ],
             [
              0.3333333333333333,
              "#9c179e"
             ],
             [
              0.4444444444444444,
              "#bd3786"
             ],
             [
              0.5555555555555556,
              "#d8576b"
             ],
             [
              0.6666666666666666,
              "#ed7953"
             ],
             [
              0.7777777777777778,
              "#fb9f3a"
             ],
             [
              0.8888888888888888,
              "#fdca26"
             ],
             [
              1,
              "#f0f921"
             ]
            ],
            "type": "histogram2dcontour"
           }
          ],
          "mesh3d": [
           {
            "colorbar": {
             "outlinewidth": 0,
             "ticks": ""
            },
            "type": "mesh3d"
           }
          ],
          "parcoords": [
           {
            "line": {
             "colorbar": {
              "outlinewidth": 0,
              "ticks": ""
             }
            },
            "type": "parcoords"
           }
          ],
          "pie": [
           {
            "automargin": true,
            "type": "pie"
           }
          ],
          "scatter": [
           {
            "marker": {
             "colorbar": {
              "outlinewidth": 0,
              "ticks": ""
             }
            },
            "type": "scatter"
           }
          ],
          "scatter3d": [
           {
            "line": {
             "colorbar": {
              "outlinewidth": 0,
              "ticks": ""
             }
            },
            "marker": {
             "colorbar": {
              "outlinewidth": 0,
              "ticks": ""
             }
            },
            "type": "scatter3d"
           }
          ],
          "scattercarpet": [
           {
            "marker": {
             "colorbar": {
              "outlinewidth": 0,
              "ticks": ""
             }
            },
            "type": "scattercarpet"
           }
          ],
          "scattergeo": [
           {
            "marker": {
             "colorbar": {
              "outlinewidth": 0,
              "ticks": ""
             }
            },
            "type": "scattergeo"
           }
          ],
          "scattergl": [
           {
            "marker": {
             "colorbar": {
              "outlinewidth": 0,
              "ticks": ""
             }
            },
            "type": "scattergl"
           }
          ],
          "scattermapbox": [
           {
            "marker": {
             "colorbar": {
              "outlinewidth": 0,
              "ticks": ""
             }
            },
            "type": "scattermapbox"
           }
          ],
          "scatterpolar": [
           {
            "marker": {
             "colorbar": {
              "outlinewidth": 0,
              "ticks": ""
             }
            },
            "type": "scatterpolar"
           }
          ],
          "scatterpolargl": [
           {
            "marker": {
             "colorbar": {
              "outlinewidth": 0,
              "ticks": ""
             }
            },
            "type": "scatterpolargl"
           }
          ],
          "scatterternary": [
           {
            "marker": {
             "colorbar": {
              "outlinewidth": 0,
              "ticks": ""
             }
            },
            "type": "scatterternary"
           }
          ],
          "surface": [
           {
            "colorbar": {
             "outlinewidth": 0,
             "ticks": ""
            },
            "colorscale": [
             [
              0,
              "#0d0887"
             ],
             [
              0.1111111111111111,
              "#46039f"
             ],
             [
              0.2222222222222222,
              "#7201a8"
             ],
             [
              0.3333333333333333,
              "#9c179e"
             ],
             [
              0.4444444444444444,
              "#bd3786"
             ],
             [
              0.5555555555555556,
              "#d8576b"
             ],
             [
              0.6666666666666666,
              "#ed7953"
             ],
             [
              0.7777777777777778,
              "#fb9f3a"
             ],
             [
              0.8888888888888888,
              "#fdca26"
             ],
             [
              1,
              "#f0f921"
             ]
            ],
            "type": "surface"
           }
          ],
          "table": [
           {
            "cells": {
             "fill": {
              "color": "#EBF0F8"
             },
             "line": {
              "color": "white"
             }
            },
            "header": {
             "fill": {
              "color": "#C8D4E3"
             },
             "line": {
              "color": "white"
             }
            },
            "type": "table"
           }
          ]
         },
         "layout": {
          "annotationdefaults": {
           "arrowcolor": "#2a3f5f",
           "arrowhead": 0,
           "arrowwidth": 1
          },
          "coloraxis": {
           "colorbar": {
            "outlinewidth": 0,
            "ticks": ""
           }
          },
          "colorscale": {
           "diverging": [
            [
             0,
             "#8e0152"
            ],
            [
             0.1,
             "#c51b7d"
            ],
            [
             0.2,
             "#de77ae"
            ],
            [
             0.3,
             "#f1b6da"
            ],
            [
             0.4,
             "#fde0ef"
            ],
            [
             0.5,
             "#f7f7f7"
            ],
            [
             0.6,
             "#e6f5d0"
            ],
            [
             0.7,
             "#b8e186"
            ],
            [
             0.8,
             "#7fbc41"
            ],
            [
             0.9,
             "#4d9221"
            ],
            [
             1,
             "#276419"
            ]
           ],
           "sequential": [
            [
             0,
             "#0d0887"
            ],
            [
             0.1111111111111111,
             "#46039f"
            ],
            [
             0.2222222222222222,
             "#7201a8"
            ],
            [
             0.3333333333333333,
             "#9c179e"
            ],
            [
             0.4444444444444444,
             "#bd3786"
            ],
            [
             0.5555555555555556,
             "#d8576b"
            ],
            [
             0.6666666666666666,
             "#ed7953"
            ],
            [
             0.7777777777777778,
             "#fb9f3a"
            ],
            [
             0.8888888888888888,
             "#fdca26"
            ],
            [
             1,
             "#f0f921"
            ]
           ],
           "sequentialminus": [
            [
             0,
             "#0d0887"
            ],
            [
             0.1111111111111111,
             "#46039f"
            ],
            [
             0.2222222222222222,
             "#7201a8"
            ],
            [
             0.3333333333333333,
             "#9c179e"
            ],
            [
             0.4444444444444444,
             "#bd3786"
            ],
            [
             0.5555555555555556,
             "#d8576b"
            ],
            [
             0.6666666666666666,
             "#ed7953"
            ],
            [
             0.7777777777777778,
             "#fb9f3a"
            ],
            [
             0.8888888888888888,
             "#fdca26"
            ],
            [
             1,
             "#f0f921"
            ]
           ]
          },
          "colorway": [
           "#636efa",
           "#EF553B",
           "#00cc96",
           "#ab63fa",
           "#FFA15A",
           "#19d3f3",
           "#FF6692",
           "#B6E880",
           "#FF97FF",
           "#FECB52"
          ],
          "font": {
           "color": "#2a3f5f"
          },
          "geo": {
           "bgcolor": "white",
           "lakecolor": "white",
           "landcolor": "#E5ECF6",
           "showlakes": true,
           "showland": true,
           "subunitcolor": "white"
          },
          "hoverlabel": {
           "align": "left"
          },
          "hovermode": "closest",
          "mapbox": {
           "style": "light"
          },
          "paper_bgcolor": "white",
          "plot_bgcolor": "#E5ECF6",
          "polar": {
           "angularaxis": {
            "gridcolor": "white",
            "linecolor": "white",
            "ticks": ""
           },
           "bgcolor": "#E5ECF6",
           "radialaxis": {
            "gridcolor": "white",
            "linecolor": "white",
            "ticks": ""
           }
          },
          "scene": {
           "xaxis": {
            "backgroundcolor": "#E5ECF6",
            "gridcolor": "white",
            "gridwidth": 2,
            "linecolor": "white",
            "showbackground": true,
            "ticks": "",
            "zerolinecolor": "white"
           },
           "yaxis": {
            "backgroundcolor": "#E5ECF6",
            "gridcolor": "white",
            "gridwidth": 2,
            "linecolor": "white",
            "showbackground": true,
            "ticks": "",
            "zerolinecolor": "white"
           },
           "zaxis": {
            "backgroundcolor": "#E5ECF6",
            "gridcolor": "white",
            "gridwidth": 2,
            "linecolor": "white",
            "showbackground": true,
            "ticks": "",
            "zerolinecolor": "white"
           }
          },
          "shapedefaults": {
           "line": {
            "color": "#2a3f5f"
           }
          },
          "ternary": {
           "aaxis": {
            "gridcolor": "white",
            "linecolor": "white",
            "ticks": ""
           },
           "baxis": {
            "gridcolor": "white",
            "linecolor": "white",
            "ticks": ""
           },
           "bgcolor": "#E5ECF6",
           "caxis": {
            "gridcolor": "white",
            "linecolor": "white",
            "ticks": ""
           }
          },
          "title": {
           "x": 0.05
          },
          "xaxis": {
           "automargin": true,
           "gridcolor": "white",
           "linecolor": "white",
           "ticks": "",
           "title": {
            "standoff": 15
           },
           "zerolinecolor": "white",
           "zerolinewidth": 2
          },
          "yaxis": {
           "automargin": true,
           "gridcolor": "white",
           "linecolor": "white",
           "ticks": "",
           "title": {
            "standoff": 15
           },
           "zerolinecolor": "white",
           "zerolinewidth": 2
          }
         }
        },
        "xaxis": {
         "anchor": "y",
         "domain": [
          0,
          1
         ]
        },
        "xaxis2": {
         "anchor": "y2",
         "domain": [
          0,
          1
         ]
        },
        "xaxis3": {
         "anchor": "y3",
         "domain": [
          0,
          1
         ]
        },
        "yaxis": {
         "anchor": "x",
         "domain": [
          0.7777777777777778,
          1
         ]
        },
        "yaxis2": {
         "anchor": "x2",
         "domain": [
          0.3888888888888889,
          0.6111111111111112
         ]
        },
        "yaxis3": {
         "anchor": "x3",
         "domain": [
          0,
          0.22222222222222224
         ]
        }
       }
      },
      "text/html": [
       "<div>\n",
       "        \n",
       "        \n",
       "            <div id=\"dd7ad6de-4510-41d7-8cc7-a48d079f4cbd\" class=\"plotly-graph-div\" style=\"height:525px; width:100%;\"></div>\n",
       "            <script type=\"text/javascript\">\n",
       "                require([\"plotly\"], function(Plotly) {\n",
       "                    window.PLOTLYENV=window.PLOTLYENV || {};\n",
       "                    \n",
       "                if (document.getElementById(\"dd7ad6de-4510-41d7-8cc7-a48d079f4cbd\")) {\n",
       "                    Plotly.newPlot(\n",
       "                        'dd7ad6de-4510-41d7-8cc7-a48d079f4cbd',\n",
       "                        [{\"name\": \"Gross Margin\", \"type\": \"scatter\", \"x\": [\"2019-12-31T00:00:00\", \"2019-09-30T00:00:00\", \"2019-06-30T00:00:00\", \"2019-03-31T00:00:00\", \"2018-12-31T00:00:00\", \"2018-09-30T00:00:00\", \"2018-06-30T00:00:00\", \"2018-03-31T00:00:00\", \"2017-12-31T00:00:00\", \"2017-09-30T00:00:00\", \"2017-06-30T00:00:00\", \"2017-03-31T00:00:00\", \"2016-12-31T00:00:00\", \"2016-09-30T00:00:00\", \"2016-06-30T00:00:00\", \"2016-03-31T00:00:00\", \"2015-12-31T00:00:00\", \"2015-09-30T00:00:00\", \"2015-06-30T00:00:00\", \"2015-03-31T00:00:00\", \"2014-12-31T00:00:00\", \"2014-09-30T00:00:00\", \"2014-06-30T00:00:00\", \"2014-04-29T00:00:00\", \"2014-03-31T00:00:00\", \"2013-12-31T00:00:00\", \"2013-09-30T00:00:00\", \"2013-06-30T00:00:00\", \"2013-03-31T00:00:00\", \"2012-12-31T00:00:00\", \"2012-09-30T00:00:00\", \"2012-06-30T00:00:00\", \"2012-03-31T00:00:00\", \"2011-12-31T00:00:00\", \"2011-09-30T00:00:00\", \"2011-06-30T00:00:00\", \"2011-03-31T00:00:00\", \"2010-12-31T00:00:00\", \"2010-09-30T00:00:00\", \"2010-06-30T00:00:00\", \"2010-03-31T00:00:00\", \"2009-12-31T00:00:00\", \"2009-09-30T00:00:00\", \"2009-06-30T00:00:00\"], \"xaxis\": \"x\", \"y\": [0.509712081554, 0.462336365653, 0.47025052192100003, 0.442360576394, 0.49110794540700003, 0.469421487603, 0.45983102534599996, 0.43241401006700003, 0.48185609085299996, 0.459434060771, 0.455879303194, 0.428091434866, 0.500367478181, 0.46879226048100003, 0.47937151045000004, 0.464889745237, 0.5170678634570001, 0.489444473261, 0.49920722625299996, 0.482491066871, 0.533405217103, 0.505084279956, 0.480660860656, 0.480660860656, 0.478, 0.5168417632410001, 0.479721753794, 0.486759749639, 0.456168831169, 0.517574392574, 0.47403725704099997, 0.47636039250699996, 0.450614031532, 0.49928779759900005, 0.46538211568599996, 0.464449111228, 0.441256553013, 0.490281893997, 0.453298174776, 0.455614567527, 0.43645272783, 0.4827, 0.451, 0.4551], \"yaxis\": \"y\"}, {\"name\": \"Operating Margin\", \"type\": \"scatter\", \"x\": [\"2019-12-31T00:00:00\", \"2019-09-30T00:00:00\", \"2019-06-30T00:00:00\", \"2019-03-31T00:00:00\", \"2018-12-31T00:00:00\", \"2018-09-30T00:00:00\", \"2018-06-30T00:00:00\", \"2018-03-31T00:00:00\", \"2017-12-31T00:00:00\", \"2017-09-30T00:00:00\", \"2017-06-30T00:00:00\", \"2017-03-31T00:00:00\", \"2016-12-31T00:00:00\", \"2016-09-30T00:00:00\", \"2016-06-30T00:00:00\", \"2016-03-31T00:00:00\", \"2015-12-31T00:00:00\", \"2015-09-30T00:00:00\", \"2015-06-30T00:00:00\", \"2015-03-31T00:00:00\", \"2014-12-31T00:00:00\", \"2014-09-30T00:00:00\", \"2014-06-30T00:00:00\", \"2014-04-29T00:00:00\", \"2014-03-31T00:00:00\", \"2013-12-31T00:00:00\", \"2013-09-30T00:00:00\", \"2013-06-30T00:00:00\", \"2013-03-31T00:00:00\", \"2012-12-31T00:00:00\", \"2012-09-30T00:00:00\", \"2012-06-30T00:00:00\", \"2012-03-31T00:00:00\", \"2011-12-31T00:00:00\", \"2011-09-30T00:00:00\", \"2011-06-30T00:00:00\", \"2011-03-31T00:00:00\", \"2010-12-31T00:00:00\", \"2010-09-30T00:00:00\", \"2010-06-30T00:00:00\", \"2010-03-31T00:00:00\", \"2009-12-31T00:00:00\", \"2009-09-30T00:00:00\", \"2009-06-30T00:00:00\"], \"xaxis\": \"x2\", \"y\": [0.183358589337, 0.08442422897710002, 0.144467640919, 0.10356396436000001, 0.203759018427, 0.159797387363, 0.138729190621, 0.0595637583893, 0.198252151539, 0.15996658661399998, 0.12665906263, 0.0784356926467, 0.228984841525, 0.169718090086, 0.150600326103, 0.055341468636300004, 0.23115281744399999, 0.18782094507, 0.202950079277, 0.153190403267, 0.294239621781, 0.21711249542, 0.17398821721299998, 0.17398821721299998, 0.1413, 0.251344813892, 0.202866779089, 0.166265446959, 0.15404989747099998, 0.267233142233, 0.20503495373199998, 0.200170655083, 0.155473594618, 0.246693345995, 0.19218564820099998, 0.183192079802, 0.155118462226, 0.239713281412, 0.192699105929, 0.19284269094599998, 0.153782211139, 0.2373, 0.1891, 0.1877], \"yaxis\": \"y2\"}, {\"name\": \"Net Profit Margin\", \"type\": \"scatter\", \"x\": [\"2019-12-31T00:00:00\", \"2019-09-30T00:00:00\", \"2019-06-30T00:00:00\", \"2019-03-31T00:00:00\", \"2018-12-31T00:00:00\", \"2018-09-30T00:00:00\", \"2018-06-30T00:00:00\", \"2018-03-31T00:00:00\", \"2017-12-31T00:00:00\", \"2017-09-30T00:00:00\", \"2017-06-30T00:00:00\", \"2017-03-31T00:00:00\", \"2016-12-31T00:00:00\", \"2016-09-30T00:00:00\", \"2016-06-30T00:00:00\", \"2016-03-31T00:00:00\", \"2015-12-31T00:00:00\", \"2015-09-30T00:00:00\", \"2015-06-30T00:00:00\", \"2015-03-31T00:00:00\", \"2014-12-31T00:00:00\", \"2014-09-30T00:00:00\", \"2014-06-30T00:00:00\", \"2014-04-29T00:00:00\", \"2014-03-31T00:00:00\", \"2013-12-31T00:00:00\", \"2013-09-30T00:00:00\", \"2013-06-30T00:00:00\", \"2013-03-31T00:00:00\", \"2012-12-31T00:00:00\", \"2012-09-30T00:00:00\", \"2012-06-30T00:00:00\", \"2012-03-31T00:00:00\", \"2011-12-31T00:00:00\", \"2011-09-30T00:00:00\", \"2011-06-30T00:00:00\", \"2011-03-31T00:00:00\", \"2010-12-31T00:00:00\", \"2010-09-30T00:00:00\", \"2010-06-30T00:00:00\", \"2010-03-31T00:00:00\", \"2009-12-31T00:00:00\", \"2009-09-30T00:00:00\", \"2009-06-30T00:00:00\"], \"xaxis\": \"x3\", \"y\": [0.16852642696400003, 0.0927446194808, 0.13037578288100002, 0.0875041249588, 0.0896558062589, 0.143641695548, 0.12018197270400001, 0.0880348154362, -0.0467571644042, 0.14226793359099998, 0.120904189133, 0.0963921784632, 0.206752411576, 0.148392801415, 0.12372152774299999, 0.107792763862, 0.202321048098, 0.153016235282, 0.165713736607, 0.118836140888, 0.22738771616999998, 0.0008244778307069999, 0.139194842896, 0.139194842896, 0.1072, 0.223257157298, 0.170362563238, 0.129433477772, 0.12952836637, 0.19905132405099998, 0.154483371722, 0.150564325331, 0.12426539131799999, 0.186190056298, 0.14676759567199998, 0.137365934148, 0.11634900638000001, 0.18116341581099998, 0.147871945944, 0.142724667004, 0.113794461215, 0.1768, 0.1364, 0.1335], \"yaxis\": \"y3\"}],\n",
       "                        {\"annotations\": [{\"font\": {\"size\": 16}, \"showarrow\": false, \"text\": \"Gross Margin of IBM\", \"x\": 0.5, \"xanchor\": \"center\", \"xref\": \"paper\", \"y\": 1.0, \"yanchor\": \"bottom\", \"yref\": \"paper\"}, {\"font\": {\"size\": 16}, \"showarrow\": false, \"text\": \"Operating Margin of IBM\", \"x\": 0.5, \"xanchor\": \"center\", \"xref\": \"paper\", \"y\": 0.6111111111111112, \"yanchor\": \"bottom\", \"yref\": \"paper\"}, {\"font\": {\"size\": 16}, \"showarrow\": false, \"text\": \"Net Profit Margin of IBM\", \"x\": 0.5, \"xanchor\": \"center\", \"xref\": \"paper\", \"y\": 0.22222222222222224, \"yanchor\": \"bottom\", \"yref\": \"paper\"}], \"template\": {\"data\": {\"bar\": [{\"error_x\": {\"color\": \"#2a3f5f\"}, \"error_y\": {\"color\": \"#2a3f5f\"}, \"marker\": {\"line\": {\"color\": \"#E5ECF6\", \"width\": 0.5}}, \"type\": \"bar\"}], \"barpolar\": [{\"marker\": {\"line\": {\"color\": \"#E5ECF6\", \"width\": 0.5}}, \"type\": \"barpolar\"}], \"carpet\": [{\"aaxis\": {\"endlinecolor\": \"#2a3f5f\", \"gridcolor\": \"white\", \"linecolor\": \"white\", \"minorgridcolor\": \"white\", \"startlinecolor\": \"#2a3f5f\"}, \"baxis\": {\"endlinecolor\": \"#2a3f5f\", \"gridcolor\": \"white\", \"linecolor\": \"white\", \"minorgridcolor\": \"white\", \"startlinecolor\": \"#2a3f5f\"}, \"type\": \"carpet\"}], \"choropleth\": [{\"colorbar\": {\"outlinewidth\": 0, \"ticks\": \"\"}, \"type\": \"choropleth\"}], \"contour\": [{\"colorbar\": {\"outlinewidth\": 0, \"ticks\": \"\"}, \"colorscale\": [[0.0, \"#0d0887\"], [0.1111111111111111, \"#46039f\"], [0.2222222222222222, \"#7201a8\"], [0.3333333333333333, \"#9c179e\"], [0.4444444444444444, \"#bd3786\"], [0.5555555555555556, \"#d8576b\"], [0.6666666666666666, \"#ed7953\"], [0.7777777777777778, \"#fb9f3a\"], [0.8888888888888888, \"#fdca26\"], [1.0, \"#f0f921\"]], \"type\": \"contour\"}], \"contourcarpet\": [{\"colorbar\": {\"outlinewidth\": 0, \"ticks\": \"\"}, \"type\": \"contourcarpet\"}], \"heatmap\": [{\"colorbar\": {\"outlinewidth\": 0, \"ticks\": \"\"}, \"colorscale\": [[0.0, \"#0d0887\"], [0.1111111111111111, \"#46039f\"], [0.2222222222222222, \"#7201a8\"], [0.3333333333333333, \"#9c179e\"], [0.4444444444444444, \"#bd3786\"], [0.5555555555555556, \"#d8576b\"], [0.6666666666666666, \"#ed7953\"], [0.7777777777777778, \"#fb9f3a\"], [0.8888888888888888, \"#fdca26\"], [1.0, \"#f0f921\"]], \"type\": \"heatmap\"}], \"heatmapgl\": [{\"colorbar\": {\"outlinewidth\": 0, \"ticks\": \"\"}, \"colorscale\": [[0.0, \"#0d0887\"], [0.1111111111111111, \"#46039f\"], [0.2222222222222222, \"#7201a8\"], [0.3333333333333333, \"#9c179e\"], [0.4444444444444444, \"#bd3786\"], [0.5555555555555556, \"#d8576b\"], [0.6666666666666666, \"#ed7953\"], [0.7777777777777778, \"#fb9f3a\"], [0.8888888888888888, \"#fdca26\"], [1.0, \"#f0f921\"]], \"type\": \"heatmapgl\"}], \"histogram\": [{\"marker\": {\"colorbar\": {\"outlinewidth\": 0, \"ticks\": \"\"}}, \"type\": \"histogram\"}], \"histogram2d\": [{\"colorbar\": {\"outlinewidth\": 0, \"ticks\": \"\"}, \"colorscale\": [[0.0, \"#0d0887\"], [0.1111111111111111, \"#46039f\"], [0.2222222222222222, \"#7201a8\"], [0.3333333333333333, \"#9c179e\"], [0.4444444444444444, \"#bd3786\"], [0.5555555555555556, \"#d8576b\"], [0.6666666666666666, \"#ed7953\"], [0.7777777777777778, \"#fb9f3a\"], [0.8888888888888888, \"#fdca26\"], [1.0, \"#f0f921\"]], \"type\": \"histogram2d\"}], \"histogram2dcontour\": [{\"colorbar\": {\"outlinewidth\": 0, \"ticks\": \"\"}, \"colorscale\": [[0.0, \"#0d0887\"], [0.1111111111111111, \"#46039f\"], [0.2222222222222222, \"#7201a8\"], [0.3333333333333333, \"#9c179e\"], [0.4444444444444444, \"#bd3786\"], [0.5555555555555556, \"#d8576b\"], [0.6666666666666666, \"#ed7953\"], [0.7777777777777778, \"#fb9f3a\"], [0.8888888888888888, \"#fdca26\"], [1.0, \"#f0f921\"]], \"type\": \"histogram2dcontour\"}], \"mesh3d\": [{\"colorbar\": {\"outlinewidth\": 0, \"ticks\": \"\"}, \"type\": \"mesh3d\"}], \"parcoords\": [{\"line\": {\"colorbar\": {\"outlinewidth\": 0, \"ticks\": \"\"}}, \"type\": \"parcoords\"}], \"pie\": [{\"automargin\": true, \"type\": \"pie\"}], \"scatter\": [{\"marker\": {\"colorbar\": {\"outlinewidth\": 0, \"ticks\": \"\"}}, \"type\": \"scatter\"}], \"scatter3d\": [{\"line\": {\"colorbar\": {\"outlinewidth\": 0, \"ticks\": \"\"}}, \"marker\": {\"colorbar\": {\"outlinewidth\": 0, \"ticks\": \"\"}}, \"type\": \"scatter3d\"}], \"scattercarpet\": [{\"marker\": {\"colorbar\": {\"outlinewidth\": 0, \"ticks\": \"\"}}, \"type\": \"scattercarpet\"}], \"scattergeo\": [{\"marker\": {\"colorbar\": {\"outlinewidth\": 0, \"ticks\": \"\"}}, \"type\": \"scattergeo\"}], \"scattergl\": [{\"marker\": {\"colorbar\": {\"outlinewidth\": 0, \"ticks\": \"\"}}, \"type\": \"scattergl\"}], \"scattermapbox\": [{\"marker\": {\"colorbar\": {\"outlinewidth\": 0, \"ticks\": \"\"}}, \"type\": \"scattermapbox\"}], \"scatterpolar\": [{\"marker\": {\"colorbar\": {\"outlinewidth\": 0, \"ticks\": \"\"}}, \"type\": \"scatterpolar\"}], \"scatterpolargl\": [{\"marker\": {\"colorbar\": {\"outlinewidth\": 0, \"ticks\": \"\"}}, \"type\": \"scatterpolargl\"}], \"scatterternary\": [{\"marker\": {\"colorbar\": {\"outlinewidth\": 0, \"ticks\": \"\"}}, \"type\": \"scatterternary\"}], \"surface\": [{\"colorbar\": {\"outlinewidth\": 0, \"ticks\": \"\"}, \"colorscale\": [[0.0, \"#0d0887\"], [0.1111111111111111, \"#46039f\"], [0.2222222222222222, \"#7201a8\"], [0.3333333333333333, \"#9c179e\"], [0.4444444444444444, \"#bd3786\"], [0.5555555555555556, \"#d8576b\"], [0.6666666666666666, \"#ed7953\"], [0.7777777777777778, \"#fb9f3a\"], [0.8888888888888888, \"#fdca26\"], [1.0, \"#f0f921\"]], \"type\": \"surface\"}], \"table\": [{\"cells\": {\"fill\": {\"color\": \"#EBF0F8\"}, \"line\": {\"color\": \"white\"}}, \"header\": {\"fill\": {\"color\": \"#C8D4E3\"}, \"line\": {\"color\": \"white\"}}, \"type\": \"table\"}]}, \"layout\": {\"annotationdefaults\": {\"arrowcolor\": \"#2a3f5f\", \"arrowhead\": 0, \"arrowwidth\": 1}, \"coloraxis\": {\"colorbar\": {\"outlinewidth\": 0, \"ticks\": \"\"}}, \"colorscale\": {\"diverging\": [[0, \"#8e0152\"], [0.1, \"#c51b7d\"], [0.2, \"#de77ae\"], [0.3, \"#f1b6da\"], [0.4, \"#fde0ef\"], [0.5, \"#f7f7f7\"], [0.6, \"#e6f5d0\"], [0.7, \"#b8e186\"], [0.8, \"#7fbc41\"], [0.9, \"#4d9221\"], [1, \"#276419\"]], \"sequential\": [[0.0, \"#0d0887\"], [0.1111111111111111, \"#46039f\"], [0.2222222222222222, \"#7201a8\"], [0.3333333333333333, \"#9c179e\"], [0.4444444444444444, \"#bd3786\"], [0.5555555555555556, \"#d8576b\"], [0.6666666666666666, \"#ed7953\"], [0.7777777777777778, \"#fb9f3a\"], [0.8888888888888888, \"#fdca26\"], [1.0, \"#f0f921\"]], \"sequentialminus\": [[0.0, \"#0d0887\"], [0.1111111111111111, \"#46039f\"], [0.2222222222222222, \"#7201a8\"], [0.3333333333333333, \"#9c179e\"], [0.4444444444444444, \"#bd3786\"], [0.5555555555555556, \"#d8576b\"], [0.6666666666666666, \"#ed7953\"], [0.7777777777777778, \"#fb9f3a\"], [0.8888888888888888, \"#fdca26\"], [1.0, \"#f0f921\"]]}, \"colorway\": [\"#636efa\", \"#EF553B\", \"#00cc96\", \"#ab63fa\", \"#FFA15A\", \"#19d3f3\", \"#FF6692\", \"#B6E880\", \"#FF97FF\", \"#FECB52\"], \"font\": {\"color\": \"#2a3f5f\"}, \"geo\": {\"bgcolor\": \"white\", \"lakecolor\": \"white\", \"landcolor\": \"#E5ECF6\", \"showlakes\": true, \"showland\": true, \"subunitcolor\": \"white\"}, \"hoverlabel\": {\"align\": \"left\"}, \"hovermode\": \"closest\", \"mapbox\": {\"style\": \"light\"}, \"paper_bgcolor\": \"white\", \"plot_bgcolor\": \"#E5ECF6\", \"polar\": {\"angularaxis\": {\"gridcolor\": \"white\", \"linecolor\": \"white\", \"ticks\": \"\"}, \"bgcolor\": \"#E5ECF6\", \"radialaxis\": {\"gridcolor\": \"white\", \"linecolor\": \"white\", \"ticks\": \"\"}}, \"scene\": {\"xaxis\": {\"backgroundcolor\": \"#E5ECF6\", \"gridcolor\": \"white\", \"gridwidth\": 2, \"linecolor\": \"white\", \"showbackground\": true, \"ticks\": \"\", \"zerolinecolor\": \"white\"}, \"yaxis\": {\"backgroundcolor\": \"#E5ECF6\", \"gridcolor\": \"white\", \"gridwidth\": 2, \"linecolor\": \"white\", \"showbackground\": true, \"ticks\": \"\", \"zerolinecolor\": \"white\"}, \"zaxis\": {\"backgroundcolor\": \"#E5ECF6\", \"gridcolor\": \"white\", \"gridwidth\": 2, \"linecolor\": \"white\", \"showbackground\": true, \"ticks\": \"\", \"zerolinecolor\": \"white\"}}, \"shapedefaults\": {\"line\": {\"color\": \"#2a3f5f\"}}, \"ternary\": {\"aaxis\": {\"gridcolor\": \"white\", \"linecolor\": \"white\", \"ticks\": \"\"}, \"baxis\": {\"gridcolor\": \"white\", \"linecolor\": \"white\", \"ticks\": \"\"}, \"bgcolor\": \"#E5ECF6\", \"caxis\": {\"gridcolor\": \"white\", \"linecolor\": \"white\", \"ticks\": \"\"}}, \"title\": {\"x\": 0.05}, \"xaxis\": {\"automargin\": true, \"gridcolor\": \"white\", \"linecolor\": \"white\", \"ticks\": \"\", \"title\": {\"standoff\": 15}, \"zerolinecolor\": \"white\", \"zerolinewidth\": 2}, \"yaxis\": {\"automargin\": true, \"gridcolor\": \"white\", \"linecolor\": \"white\", \"ticks\": \"\", \"title\": {\"standoff\": 15}, \"zerolinecolor\": \"white\", \"zerolinewidth\": 2}}}, \"xaxis\": {\"anchor\": \"y\", \"domain\": [0.0, 1.0]}, \"xaxis2\": {\"anchor\": \"y2\", \"domain\": [0.0, 1.0]}, \"xaxis3\": {\"anchor\": \"y3\", \"domain\": [0.0, 1.0]}, \"yaxis\": {\"anchor\": \"x\", \"domain\": [0.7777777777777778, 1.0]}, \"yaxis2\": {\"anchor\": \"x2\", \"domain\": [0.3888888888888889, 0.6111111111111112]}, \"yaxis3\": {\"anchor\": \"x3\", \"domain\": [0.0, 0.22222222222222224]}},\n",
       "                        {\"responsive\": true}\n",
       "                    ).then(function(){\n",
       "                            \n",
       "var gd = document.getElementById('dd7ad6de-4510-41d7-8cc7-a48d079f4cbd');\n",
       "var x = new MutationObserver(function (mutations, observer) {{\n",
       "        var display = window.getComputedStyle(gd).display;\n",
       "        if (!display || display === 'none') {{\n",
       "            console.log([gd, 'removed!']);\n",
       "            Plotly.purge(gd);\n",
       "            observer.disconnect();\n",
       "        }}\n",
       "}});\n",
       "\n",
       "// Listen for the removal of the full notebook cells\n",
       "var notebookContainer = gd.closest('#notebook-container');\n",
       "if (notebookContainer) {{\n",
       "    x.observe(notebookContainer, {childList: true});\n",
       "}}\n",
       "\n",
       "// Listen for the clearing of the current output cell\n",
       "var outputEl = gd.closest('.output');\n",
       "if (outputEl) {{\n",
       "    x.observe(outputEl, {childList: true});\n",
       "}}\n",
       "\n",
       "                        })\n",
       "                };\n",
       "                });\n",
       "            </script>\n",
       "        </div>"
      ]
     },
     "metadata": {},
     "output_type": "display_data"
    }
   ],
   "source": [
    "# Making a plotly subplot\n",
    "fig = make_subplots(rows=3, cols=1, subplot_titles=(f'Gross Margin of {ticker}', f'Operating Margin of {ticker}', f'Net Profit Margin of {ticker}'))\n",
    "\n",
    "# Adding the Gross Profit Margin subplot\n",
    "fig.add_trace(go.Scatter(x=financials.index, y=financials['Gross Margin'], name = 'Gross Margin'), row=1, col=1)\n",
    "\n",
    "# Adding the EBITDA Margin subplot\n",
    "fig.add_trace(go.Scatter(x=financials.index, y=financials['EBIT Margin'], name = 'Operating Margin'), row=2, col=1)\n",
    "\n",
    "## Adding the Net Profit Margin subplot\n",
    "fig.add_trace(go.Scatter(x=financials.index, y=financials['Net Profit Margin'], name = 'Net Profit Margin'), row=3, col=1)\n",
    "\n",
    "\n",
    "fig.show()"
   ]
  },
  {
   "cell_type": "markdown",
   "metadata": {},
   "source": [
    "### Analysing the results"
   ]
  },
  {
   "cell_type": "markdown",
   "metadata": {},
   "source": [
    "A constructive analysis of margins should be made between the major competitors in an industry. \n",
    "\n",
    "We will not be performing it in this notebook, a thorough analysis has been made by Jawaher Alotaibi and can be found on : https://www.researchgate.net/publication/309533206_Financial_Analysis_of_IBM"
   ]
  },
  {
   "cell_type": "markdown",
   "metadata": {},
   "source": [
    "### Ressources"
   ]
  },
  {
   "cell_type": "markdown",
   "metadata": {},
   "source": [
    "- Financial Modeling Prep API Documentation : https://financialmodelingprep.com/developer/docs/ \n",
    "- Plotly financial charts : https://plotly.com/python/financial-charts/\n",
    "- IBM financial analysis : https://www.researchgate.net/publication/309533206_Financial_Analysis_of_IBM\n",
    "- Financial Definitions : \n",
    "    - https://www.investopedia.com/\n",
    "    - https://en.wikipedia.org/wiki/Ticker_symbol\n",
    "\n",
    "\n",
    "- The main Resources :   \n",
    "    - https://www.thebalance.com/investing-lesson-4-income-statement-analysis-357580\n",
    "    - https://www.accountingtools.com/articles/income-statement-analysis.html\n",
    "    - https://codingandfun.com/"
   ]
  },
  {
   "cell_type": "markdown",
   "metadata": {},
   "source": [
    "### Created by MEBREK Brahim"
   ]
  }
 ],
 "metadata": {
  "kernelspec": {
   "display_name": "Python 3",
   "language": "python",
   "name": "python3"
  },
  "language_info": {
   "codemirror_mode": {
    "name": "ipython",
    "version": 3
   },
   "file_extension": ".py",
   "mimetype": "text/x-python",
   "name": "python",
   "nbconvert_exporter": "python",
   "pygments_lexer": "ipython3",
   "version": "3.7.4"
  }
 },
 "nbformat": 4,
 "nbformat_minor": 2
}
